{
  "nbformat": 4,
  "nbformat_minor": 0,
  "metadata": {
    "colab": {
      "provenance": [],
      "machine_shape": "hm",
      "toc_visible": true,
      "gpuType": "T4",
      "authorship_tag": "ABX9TyNYdycWkC8NXuPc2KO0fvG0",
      "include_colab_link": true
    },
    "kernelspec": {
      "name": "python3",
      "display_name": "Python 3"
    },
    "language_info": {
      "name": "python"
    },
    "accelerator": "GPU"
  },
  "cells": [
    {
      "cell_type": "markdown",
      "metadata": {
        "id": "view-in-github",
        "colab_type": "text"
      },
      "source": [
        "<a href=\"https://colab.research.google.com/github/henryfuentesbenito/TFM/blob/main/dNRI_Dimerization.ipynb\" target=\"_parent\"><img src=\"https://colab.research.google.com/assets/colab-badge.svg\" alt=\"Open In Colab\"/></a>"
      ]
    },
    {
      "cell_type": "code",
      "execution_count": null,
      "metadata": {
        "id": "AIaXuyEL6jHF",
        "colab": {
          "base_uri": "https://localhost:8080/"
        },
        "outputId": "c7473aec-2146-4d9a-d1e6-8ab268e8f28a"
      },
      "outputs": [
        {
          "output_type": "stream",
          "name": "stdout",
          "text": [
            "Mounted at /content/drive\n"
          ]
        }
      ],
      "source": [
        "from google.colab import drive\n",
        "drive.mount('/content/drive')"
      ]
    },
    {
      "cell_type": "code",
      "source": [
        "# Instalar bibliotecas necesarias\n",
        "!pip install torch torchvision"
      ],
      "metadata": {
        "colab": {
          "base_uri": "https://localhost:8080/"
        },
        "id": "5y6SMQ8q6xYt",
        "outputId": "a5d4503c-882a-4da1-aacf-cc3747ca5dcf"
      },
      "execution_count": null,
      "outputs": [
        {
          "output_type": "stream",
          "name": "stdout",
          "text": [
            "Requirement already satisfied: torch in /usr/local/lib/python3.10/dist-packages (2.4.0+cu121)\n",
            "Requirement already satisfied: torchvision in /usr/local/lib/python3.10/dist-packages (0.19.0+cu121)\n",
            "Requirement already satisfied: filelock in /usr/local/lib/python3.10/dist-packages (from torch) (3.15.4)\n",
            "Requirement already satisfied: typing-extensions>=4.8.0 in /usr/local/lib/python3.10/dist-packages (from torch) (4.12.2)\n",
            "Requirement already satisfied: sympy in /usr/local/lib/python3.10/dist-packages (from torch) (1.13.2)\n",
            "Requirement already satisfied: networkx in /usr/local/lib/python3.10/dist-packages (from torch) (3.3)\n",
            "Requirement already satisfied: jinja2 in /usr/local/lib/python3.10/dist-packages (from torch) (3.1.4)\n",
            "Requirement already satisfied: fsspec in /usr/local/lib/python3.10/dist-packages (from torch) (2024.6.1)\n",
            "Requirement already satisfied: numpy in /usr/local/lib/python3.10/dist-packages (from torchvision) (1.26.4)\n",
            "Requirement already satisfied: pillow!=8.3.*,>=5.3.0 in /usr/local/lib/python3.10/dist-packages (from torchvision) (9.4.0)\n",
            "Requirement already satisfied: MarkupSafe>=2.0 in /usr/local/lib/python3.10/dist-packages (from jinja2->torch) (2.1.5)\n",
            "Requirement already satisfied: mpmath<1.4,>=1.1.0 in /usr/local/lib/python3.10/dist-packages (from sympy->torch) (1.3.0)\n"
          ]
        }
      ]
    },
    {
      "cell_type": "code",
      "source": [
        "pip install andi_datasets"
      ],
      "metadata": {
        "colab": {
          "base_uri": "https://localhost:8080/"
        },
        "id": "FCXwWTLLWnlM",
        "outputId": "897a8cda-1061-4006-c0c3-30ef5cc9377a"
      },
      "execution_count": null,
      "outputs": [
        {
          "output_type": "stream",
          "name": "stdout",
          "text": [
            "Collecting andi_datasets\n",
            "  Downloading andi_datasets-2.1.4-py3-none-any.whl.metadata (6.7 kB)\n",
            "Requirement already satisfied: numpy in /usr/local/lib/python3.10/dist-packages (from andi_datasets) (1.26.4)\n",
            "Collecting stochastic (from andi_datasets)\n",
            "  Downloading stochastic-0.7.0-py3-none-any.whl.metadata (6.1 kB)\n",
            "Requirement already satisfied: tqdm in /usr/local/lib/python3.10/dist-packages (from andi_datasets) (4.66.5)\n",
            "Requirement already satisfied: scipy in /usr/local/lib/python3.10/dist-packages (from andi_datasets) (1.13.1)\n",
            "Requirement already satisfied: h5py in /usr/local/lib/python3.10/dist-packages (from andi_datasets) (3.11.0)\n",
            "Requirement already satisfied: pandas in /usr/local/lib/python3.10/dist-packages (from andi_datasets) (2.1.4)\n",
            "Requirement already satisfied: matplotlib in /usr/local/lib/python3.10/dist-packages (from andi_datasets) (3.7.1)\n",
            "Requirement already satisfied: scikit-learn in /usr/local/lib/python3.10/dist-packages (from andi_datasets) (1.3.2)\n",
            "Requirement already satisfied: imageio in /usr/local/lib/python3.10/dist-packages (from andi_datasets) (2.34.2)\n",
            "Requirement already satisfied: pillow>=8.3.2 in /usr/local/lib/python3.10/dist-packages (from imageio->andi_datasets) (9.4.0)\n",
            "Requirement already satisfied: contourpy>=1.0.1 in /usr/local/lib/python3.10/dist-packages (from matplotlib->andi_datasets) (1.3.0)\n",
            "Requirement already satisfied: cycler>=0.10 in /usr/local/lib/python3.10/dist-packages (from matplotlib->andi_datasets) (0.12.1)\n",
            "Requirement already satisfied: fonttools>=4.22.0 in /usr/local/lib/python3.10/dist-packages (from matplotlib->andi_datasets) (4.53.1)\n",
            "Requirement already satisfied: kiwisolver>=1.0.1 in /usr/local/lib/python3.10/dist-packages (from matplotlib->andi_datasets) (1.4.5)\n",
            "Requirement already satisfied: packaging>=20.0 in /usr/local/lib/python3.10/dist-packages (from matplotlib->andi_datasets) (24.1)\n",
            "Requirement already satisfied: pyparsing>=2.3.1 in /usr/local/lib/python3.10/dist-packages (from matplotlib->andi_datasets) (3.1.4)\n",
            "Requirement already satisfied: python-dateutil>=2.7 in /usr/local/lib/python3.10/dist-packages (from matplotlib->andi_datasets) (2.8.2)\n",
            "Requirement already satisfied: pytz>=2020.1 in /usr/local/lib/python3.10/dist-packages (from pandas->andi_datasets) (2024.1)\n",
            "Requirement already satisfied: tzdata>=2022.1 in /usr/local/lib/python3.10/dist-packages (from pandas->andi_datasets) (2024.1)\n",
            "Requirement already satisfied: joblib>=1.1.1 in /usr/local/lib/python3.10/dist-packages (from scikit-learn->andi_datasets) (1.4.2)\n",
            "Requirement already satisfied: threadpoolctl>=2.0.0 in /usr/local/lib/python3.10/dist-packages (from scikit-learn->andi_datasets) (3.5.0)\n",
            "Requirement already satisfied: six>=1.5 in /usr/local/lib/python3.10/dist-packages (from python-dateutil>=2.7->matplotlib->andi_datasets) (1.16.0)\n",
            "Downloading andi_datasets-2.1.4-py3-none-any.whl (72 kB)\n",
            "\u001b[2K   \u001b[90m━━━━━━━━━━━━━━━━━━━━━━━━━━━━━━━━━━━━━━━━\u001b[0m \u001b[32m72.4/72.4 kB\u001b[0m \u001b[31m2.2 MB/s\u001b[0m eta \u001b[36m0:00:00\u001b[0m\n",
            "\u001b[?25hDownloading stochastic-0.7.0-py3-none-any.whl (48 kB)\n",
            "\u001b[2K   \u001b[90m━━━━━━━━━━━━━━━━━━━━━━━━━━━━━━━━━━━━━━━━\u001b[0m \u001b[32m48.1/48.1 kB\u001b[0m \u001b[31m5.0 MB/s\u001b[0m eta \u001b[36m0:00:00\u001b[0m\n",
            "\u001b[?25hInstalling collected packages: stochastic, andi_datasets\n",
            "Successfully installed andi_datasets-2.1.4 stochastic-0.7.0\n"
          ]
        }
      ]
    },
    {
      "cell_type": "code",
      "source": [
        "# Clonar el repositorio\n",
        "!git clone https://github.com/henryfuentesbenito/TFM.git"
      ],
      "metadata": {
        "colab": {
          "base_uri": "https://localhost:8080/"
        },
        "id": "X3Y10_XE60zr",
        "outputId": "1f998e23-c87c-448a-f51c-445b0b42ade6"
      },
      "execution_count": null,
      "outputs": [
        {
          "output_type": "stream",
          "name": "stdout",
          "text": [
            "Cloning into 'TFM'...\n",
            "remote: Enumerating objects: 509, done.\u001b[K\n",
            "remote: Counting objects: 100% (271/271), done.\u001b[K\n",
            "remote: Compressing objects: 100% (201/201), done.\u001b[K\n",
            "remote: Total 509 (delta 80), reused 224 (delta 69), pack-reused 238 (from 1)\u001b[K\n",
            "Receiving objects: 100% (509/509), 177.65 KiB | 17.76 MiB/s, done.\n",
            "Resolving deltas: 100% (144/144), done.\n"
          ]
        }
      ]
    },
    {
      "cell_type": "code",
      "source": [
        "# Cambiar al directorio del repositorio clonado\n",
        "%cd TFM"
      ],
      "metadata": {
        "colab": {
          "base_uri": "https://localhost:8080/"
        },
        "id": "16-WSUsy65Os",
        "outputId": "8bf7ca49-4f62-451d-f8a3-f80493fa85ed"
      },
      "execution_count": null,
      "outputs": [
        {
          "output_type": "stream",
          "name": "stdout",
          "text": [
            "/content/TFM\n"
          ]
        }
      ]
    },
    {
      "cell_type": "code",
      "source": [
        "# Instalar cualquier otro requerimiento si es necesario\n",
        "!pip install -e ./"
      ],
      "metadata": {
        "colab": {
          "base_uri": "https://localhost:8080/"
        },
        "id": "vDjI0whv69K0",
        "outputId": "1be48603-c32c-450c-f61a-c018a5bbdd7e"
      },
      "execution_count": null,
      "outputs": [
        {
          "output_type": "stream",
          "name": "stdout",
          "text": [
            "Obtaining file:///content/TFM\n",
            "  Preparing metadata (setup.py) ... \u001b[?25l\u001b[?25hdone\n",
            "Installing collected packages: dnri\n",
            "  Running setup.py develop for dnri\n",
            "Successfully installed dnri-1.0\n"
          ]
        }
      ]
    },
    {
      "cell_type": "code",
      "source": [
        "import os\n",
        "\n",
        "# Definir las rutas\n",
        "DATA_PATH = '/content/drive/MyDrive/datos_3_1000_50_128/'\n",
        "BASE_RESULTS_DIR = '/content/drive/MyDrive/results1/'"
      ],
      "metadata": {
        "id": "UL8liQbr7BqS"
      },
      "execution_count": null,
      "outputs": []
    },
    {
      "cell_type": "code",
      "source": [
        "import os\n",
        "import torch\n",
        "# Ruta a los archivos en Google Drive\n",
        "data_path = '/content/drive/MyDrive/datos_3_1000_50_128/'\n",
        "train_feats_path = os.path.join(data_path, \"train_feats\")\n",
        "train_edges_path = os.path.join(data_path, \"train_edges\")\n",
        "\n",
        "# Cargar los datos\n",
        "train_feats = torch.load(train_feats_path)\n",
        "train_edges = torch.load(train_edges_path)\n",
        "\n",
        "# Verificar dimensiones y contenido\n",
        "print(\"Dimensiones de train_feats:\", train_feats.shape)\n",
        "print(\"Contenido de train_feats:\")\n",
        "print(train_feats[0])\n",
        "\n",
        "print(\"Dimensiones de train_edges:\", train_edges.shape)\n",
        "print(\"Contenido de train_edges:\")\n",
        "print(train_edges[0])"
      ],
      "metadata": {
        "colab": {
          "base_uri": "https://localhost:8080/"
        },
        "id": "p45Y2ta7tLbf",
        "outputId": "13b268aa-c358-4fcc-f175-9ff659f1bb95"
      },
      "execution_count": null,
      "outputs": [
        {
          "output_type": "stream",
          "name": "stdout",
          "text": [
            "Dimensiones de train_feats: torch.Size([1000, 50, 3, 2])\n",
            "Contenido de train_feats:\n",
            "tensor([[[169.2353,  27.8136],\n",
            "         [159.6578,   7.8876],\n",
            "         [143.0083, 163.6868]],\n",
            "\n",
            "        [[168.8957,  30.2608],\n",
            "         [159.8253,   8.0493],\n",
            "         [144.4764, 162.9527]],\n",
            "\n",
            "        [[167.6315,  29.7390],\n",
            "         [160.8973,  10.1032],\n",
            "         [146.4239, 163.6272]],\n",
            "\n",
            "        [[169.3478,  30.8726],\n",
            "         [160.6044,  11.6307],\n",
            "         [147.0785, 163.4704]],\n",
            "\n",
            "        [[167.0592,  30.1621],\n",
            "         [161.6104,  13.1987],\n",
            "         [143.2859, 163.3745]],\n",
            "\n",
            "        [[165.4305,  27.3576],\n",
            "         [161.4371,  15.9198],\n",
            "         [140.7838, 161.0983]],\n",
            "\n",
            "        [[166.3206,  28.2126],\n",
            "         [160.3294,  16.1396],\n",
            "         [141.2718, 160.6240]],\n",
            "\n",
            "        [[167.1882,  28.3783],\n",
            "         [157.8293,  17.8159],\n",
            "         [140.4108, 160.1114]],\n",
            "\n",
            "        [[166.6844,  28.2840],\n",
            "         [155.5213,  18.8575],\n",
            "         [142.3779, 158.1683]],\n",
            "\n",
            "        [[166.3402,  26.7673],\n",
            "         [156.3232,  18.6587],\n",
            "         [143.0929, 158.2249]],\n",
            "\n",
            "        [[165.6199,  25.5486],\n",
            "         [157.0261,  19.3862],\n",
            "         [143.6594, 157.8354]],\n",
            "\n",
            "        [[168.1297,  24.9367],\n",
            "         [157.0645,  18.2907],\n",
            "         [145.6108, 155.6613]],\n",
            "\n",
            "        [[166.3458,  26.5815],\n",
            "         [160.4682,  18.8597],\n",
            "         [144.2236, 154.2654]],\n",
            "\n",
            "        [[165.8499,  25.9728],\n",
            "         [161.8573,  18.7282],\n",
            "         [144.1714, 154.4711]],\n",
            "\n",
            "        [[167.4095,  23.7660],\n",
            "         [162.1000,  19.1674],\n",
            "         [144.6994, 151.7291]],\n",
            "\n",
            "        [[165.4909,  21.6359],\n",
            "         [162.1945,  19.7537],\n",
            "         [145.5018, 152.7948]],\n",
            "\n",
            "        [[167.3111,  20.8861],\n",
            "         [160.4058,  17.1684],\n",
            "         [145.6472, 154.3588]],\n",
            "\n",
            "        [[168.3377,  22.1688],\n",
            "         [161.9295,  15.5517],\n",
            "         [146.8292, 153.8872]],\n",
            "\n",
            "        [[164.8871,  19.2493],\n",
            "         [160.1882,  15.0427],\n",
            "         [145.5718, 152.5952]],\n",
            "\n",
            "        [[163.7012,  19.6671],\n",
            "         [159.5307,  16.3956],\n",
            "         [144.9928, 151.3788]],\n",
            "\n",
            "        [[163.3375,  16.2611],\n",
            "         [159.8724,  17.8319],\n",
            "         [142.2479, 152.2549]],\n",
            "\n",
            "        [[160.6586,  16.4831],\n",
            "         [159.5608,  18.5465],\n",
            "         [143.2402, 155.3937]],\n",
            "\n",
            "        [[158.0855,  15.2203],\n",
            "         [158.8560,  17.2782],\n",
            "         [143.4365, 153.0312]],\n",
            "\n",
            "        [[160.1053,  16.8729],\n",
            "         [158.2795,  17.6376],\n",
            "         [143.9778, 153.5163]],\n",
            "\n",
            "        [[160.6745,  17.3700],\n",
            "         [158.8486,  18.1347],\n",
            "         [143.5901, 154.6466]],\n",
            "\n",
            "        [[161.3020,  17.8133],\n",
            "         [159.4762,  18.5780],\n",
            "         [146.2647, 155.4806]],\n",
            "\n",
            "        [[160.7180,  18.1206],\n",
            "         [158.8922,  18.8854],\n",
            "         [143.4622, 154.5343]],\n",
            "\n",
            "        [[160.3590,  18.0682],\n",
            "         [158.5332,  18.8329],\n",
            "         [146.9117, 157.3425]],\n",
            "\n",
            "        [[160.6698,  18.2542],\n",
            "         [158.8440,  19.0189],\n",
            "         [146.3606, 158.4039]],\n",
            "\n",
            "        [[160.5117,  18.8398],\n",
            "         [158.6859,  19.6045],\n",
            "         [149.9889, 158.9217]],\n",
            "\n",
            "        [[159.7125,  18.3963],\n",
            "         [157.8867,  19.1610],\n",
            "         [150.9763, 159.7687]],\n",
            "\n",
            "        [[158.1287,  16.0698],\n",
            "         [158.4140,  18.7413],\n",
            "         [153.5421, 157.2586]],\n",
            "\n",
            "        [[157.4222,  17.6397],\n",
            "         [159.2274,  18.8878],\n",
            "         [153.1935, 157.1983]],\n",
            "\n",
            "        [[154.1579,  17.2447],\n",
            "         [159.8828,  18.9221],\n",
            "         [151.9016, 158.6947]],\n",
            "\n",
            "        [[156.7888,  17.1482],\n",
            "         [159.5640,  19.0346],\n",
            "         [149.8114, 159.7945]],\n",
            "\n",
            "        [[153.9397,  18.3661],\n",
            "         [161.3163,  20.0118],\n",
            "         [149.4499, 159.4259]],\n",
            "\n",
            "        [[155.0510,  18.4988],\n",
            "         [162.5872,  18.1684],\n",
            "         [147.8045, 160.6905]],\n",
            "\n",
            "        [[151.8100,  19.1311],\n",
            "         [160.8414,  18.0956],\n",
            "         [149.2556, 163.4609]],\n",
            "\n",
            "        [[150.8670,  18.6336],\n",
            "         [161.9347,  16.3779],\n",
            "         [149.1189, 159.9776]],\n",
            "\n",
            "        [[151.6770,  19.2483],\n",
            "         [159.9958,  17.4573],\n",
            "         [148.8777, 160.4045]],\n",
            "\n",
            "        [[152.1099,  18.7955],\n",
            "         [158.7599,  18.3056],\n",
            "         [148.4641, 159.9451]],\n",
            "\n",
            "        [[154.2344,  21.3054],\n",
            "         [159.3309,  17.6103],\n",
            "         [148.5162, 158.7873]],\n",
            "\n",
            "        [[155.4921,  20.0088],\n",
            "         [159.4444,  18.1118],\n",
            "         [147.9959, 159.2782]],\n",
            "\n",
            "        [[155.5124,  19.2220],\n",
            "         [157.2298,  18.3978],\n",
            "         [147.1019, 161.2125]],\n",
            "\n",
            "        [[155.4362,  19.0148],\n",
            "         [157.1536,  18.1906],\n",
            "         [147.0735, 161.5620]],\n",
            "\n",
            "        [[155.2119,  17.7478],\n",
            "         [156.9294,  16.9236],\n",
            "         [148.5266, 159.9626]],\n",
            "\n",
            "        [[155.5584,  18.1900],\n",
            "         [157.2758,  17.3657],\n",
            "         [146.8247, 160.1942]],\n",
            "\n",
            "        [[155.4588,  18.1380],\n",
            "         [157.1762,  17.3138],\n",
            "         [148.2491, 160.7899]],\n",
            "\n",
            "        [[155.0647,  18.2038],\n",
            "         [156.7821,  17.3795],\n",
            "         [146.9574, 160.7807]],\n",
            "\n",
            "        [[154.7583,  18.1398],\n",
            "         [156.4757,  17.3156],\n",
            "         [146.8273, 159.5179]]])\n",
            "Dimensiones de train_edges: torch.Size([1000, 50, 6])\n",
            "Contenido de train_edges:\n",
            "tensor([[0., 0., 0., 0., 0., 0.],\n",
            "        [0., 0., 0., 0., 0., 0.],\n",
            "        [0., 0., 0., 0., 0., 0.],\n",
            "        [0., 0., 0., 0., 0., 0.],\n",
            "        [0., 0., 0., 0., 0., 0.],\n",
            "        [0., 0., 0., 0., 0., 0.],\n",
            "        [0., 0., 0., 0., 0., 0.],\n",
            "        [0., 0., 0., 0., 0., 0.],\n",
            "        [0., 0., 0., 0., 0., 0.],\n",
            "        [0., 0., 0., 0., 0., 0.],\n",
            "        [0., 0., 0., 0., 0., 0.],\n",
            "        [0., 0., 0., 0., 0., 0.],\n",
            "        [0., 0., 0., 0., 0., 0.],\n",
            "        [0., 0., 0., 0., 0., 0.],\n",
            "        [0., 0., 0., 0., 0., 0.],\n",
            "        [0., 0., 0., 0., 0., 0.],\n",
            "        [0., 0., 0., 0., 0., 0.],\n",
            "        [0., 0., 0., 0., 0., 0.],\n",
            "        [0., 0., 0., 0., 0., 0.],\n",
            "        [0., 0., 0., 0., 0., 0.],\n",
            "        [0., 0., 0., 0., 0., 0.],\n",
            "        [0., 0., 0., 0., 0., 0.],\n",
            "        [0., 0., 0., 0., 0., 0.],\n",
            "        [0., 0., 0., 0., 0., 0.],\n",
            "        [1., 0., 0., 0., 0., 0.],\n",
            "        [1., 0., 0., 0., 0., 0.],\n",
            "        [1., 0., 0., 0., 0., 0.],\n",
            "        [1., 0., 0., 0., 0., 0.],\n",
            "        [1., 0., 0., 0., 0., 0.],\n",
            "        [1., 0., 0., 0., 0., 0.],\n",
            "        [1., 0., 0., 0., 0., 0.],\n",
            "        [0., 0., 0., 0., 0., 0.],\n",
            "        [0., 0., 0., 0., 0., 0.],\n",
            "        [0., 0., 0., 0., 0., 0.],\n",
            "        [0., 0., 0., 0., 0., 0.],\n",
            "        [0., 0., 0., 0., 0., 0.],\n",
            "        [0., 0., 0., 0., 0., 0.],\n",
            "        [0., 0., 0., 0., 0., 0.],\n",
            "        [0., 0., 0., 0., 0., 0.],\n",
            "        [0., 0., 0., 0., 0., 0.],\n",
            "        [0., 0., 0., 0., 0., 0.],\n",
            "        [0., 0., 0., 0., 0., 0.],\n",
            "        [0., 0., 0., 0., 0., 0.],\n",
            "        [0., 0., 0., 0., 0., 0.],\n",
            "        [1., 0., 0., 0., 0., 0.],\n",
            "        [1., 0., 0., 0., 0., 0.],\n",
            "        [1., 0., 0., 0., 0., 0.],\n",
            "        [1., 0., 0., 0., 0., 0.],\n",
            "        [1., 0., 0., 0., 0., 0.],\n",
            "        [1., 0., 0., 0., 0., 0.]])\n"
          ]
        },
        {
          "output_type": "stream",
          "name": "stderr",
          "text": [
            "<ipython-input-17-29b1dbd81e0d>:9: FutureWarning: You are using `torch.load` with `weights_only=False` (the current default value), which uses the default pickle module implicitly. It is possible to construct malicious pickle data which will execute arbitrary code during unpickling (See https://github.com/pytorch/pytorch/blob/main/SECURITY.md#untrusted-models for more details). In a future release, the default value for `weights_only` will be flipped to `True`. This limits the functions that could be executed during unpickling. Arbitrary objects will no longer be allowed to be loaded via this mode unless they are explicitly allowlisted by the user via `torch.serialization.add_safe_globals`. We recommend you start setting `weights_only=True` for any use case where you don't have full control of the loaded file. Please open an issue on GitHub for any issues related to this experimental feature.\n",
            "  train_feats = torch.load(train_feats_path)\n",
            "<ipython-input-17-29b1dbd81e0d>:10: FutureWarning: You are using `torch.load` with `weights_only=False` (the current default value), which uses the default pickle module implicitly. It is possible to construct malicious pickle data which will execute arbitrary code during unpickling (See https://github.com/pytorch/pytorch/blob/main/SECURITY.md#untrusted-models for more details). In a future release, the default value for `weights_only` will be flipped to `True`. This limits the functions that could be executed during unpickling. Arbitrary objects will no longer be allowed to be loaded via this mode unless they are explicitly allowlisted by the user via `torch.serialization.add_safe_globals`. We recommend you start setting `weights_only=True` for any use case where you don't have full control of the loaded file. Please open an issue on GitHub for any issues related to this experimental feature.\n",
            "  train_edges = torch.load(train_edges_path)\n"
          ]
        }
      ]
    },
    {
      "cell_type": "code",
      "source": [
        "SEED=1"
      ],
      "metadata": {
        "id": "YWz1WvtY7DAi"
      },
      "execution_count": null,
      "outputs": []
    },
    {
      "cell_type": "code",
      "source": [
        "WORKING_DIR=f\"{BASE_RESULTS_DIR}nri/seed_{SEED}/\"\n",
        "ENCODER_ARGS='--num_edge_types 2 --encoder_hidden 256 --skip_first --encoder_mlp_hidden 256 --encoder_mlp_num_layers 3'\n",
        "DECODER_ARGS=''\n",
        "MODEL_ARGS=f\"--model_type nri --graph_type static {ENCODER_ARGS} {DECODER_ARGS} --seed {SEED}\"\n",
        "TRAINING_ARGS='--no_edge_prior 0.9 --batch_size 16 --lr 5e-4 --use_adam --num_epochs 100 --lr_decay_factor 0.5\n",
        "--lr_decay_steps 200 --normalize_kl --normalize_nll --tune_on_nll --val_teacher_forcing --teacher_forcing_steps -1'"
      ],
      "metadata": {
        "id": "6FF_w6967G-0"
      },
      "execution_count": null,
      "outputs": []
    },
    {
      "cell_type": "code",
      "source": [
        "WORKING_DIR"
      ],
      "metadata": {
        "colab": {
          "base_uri": "https://localhost:8080/",
          "height": 35
        },
        "id": "gibFy5eR7KNr",
        "outputId": "dab21c01-dcb8-4311-8717-3c87b9701496"
      },
      "execution_count": null,
      "outputs": [
        {
          "output_type": "execute_result",
          "data": {
            "text/plain": [
              "'/content/drive/MyDrive/results1/nri/seed_1/'"
            ],
            "application/vnd.google.colaboratory.intrinsic+json": {
              "type": "string"
            }
          },
          "metadata": {},
          "execution_count": 9
        }
      ]
    },
    {
      "cell_type": "code",
      "source": [
        "mkdir -p $WORKING_DIR"
      ],
      "metadata": {
        "id": "CJ8zqXNw7L_q"
      },
      "execution_count": null,
      "outputs": []
    },
    {
      "cell_type": "code",
      "source": [
        "from dnri.utils.flags import build_flags\n",
        "import dnri.models.model_builder as model_builder\n",
        "from dnri.datasets.small_synth_data import SmallSynthData\n",
        "import dnri.training.train as train\n",
        "import dnri.training.train_utils as train_utils\n",
        "import dnri.training.evaluate as evaluate\n",
        "import dnri.utils.misc as misc\n",
        "\n",
        "from torch.utils.tensorboard import SummaryWriter\n",
        "from torch.utils.data import DataLoader\n",
        "import torch\n",
        "\n",
        "import os\n",
        "import matplotlib\n",
        "matplotlib.use('Agg')\n",
        "import matplotlib.pyplot as plt, matplotlib.animation as animation, matplotlib.colors as mcolors\n",
        "import numpy as np\n",
        "\n",
        "def eval_edges(model, dataset, params):\n",
        "\n",
        "    gpu = params.get('gpu', False)\n",
        "    batch_size = params.get('batch_size', 1000)\n",
        "    eval_metric = params.get('eval_metric')\n",
        "    num_edge_types = params['num_edge_types']\n",
        "    skip_first = params['skip_first']\n",
        "    data_loader = DataLoader(dataset, batch_size=batch_size, pin_memory=gpu)\n",
        "    full_edge_count = 0.\n",
        "    model.eval()\n",
        "    correct_edges = 0.\n",
        "    edge_count = 0.\n",
        "    correct_0_edges = 0.\n",
        "    edge_0_count = 0.\n",
        "    correct_1_edges = 0.\n",
        "    edge_1_count = 0.\n",
        "\n",
        "    correct = num_predicted = num_gt = 0\n",
        "    all_edges = []\n",
        "    for batch_ind, batch in enumerate(data_loader):\n",
        "        inputs = batch['inputs']\n",
        "        gt_edges = batch['edges'].long()\n",
        "        with torch.no_grad():\n",
        "            if gpu:\n",
        "                inputs = inputs.cuda(non_blocking=True)\n",
        "                gt_edges = gt_edges.cuda(non_blocking=True)\n",
        "\n",
        "            _, _, _, edges, _ = model.calculate_loss(inputs, is_train=False, return_logits=True)\n",
        "            edges = edges.argmax(dim=-1)\n",
        "            all_edges.append(edges.cpu())\n",
        "            if len(edges.shape) == 3 and len(gt_edges.shape) == 2:\n",
        "                gt_edges = gt_edges.unsqueeze(1).expand(gt_edges.size(0), edges.size(1), gt_edges.size(1))\n",
        "            elif len(gt_edges.shape) == 3 and len(edges.shape) == 2:\n",
        "                edges = edges.unsqueeze(1).expand(edges.size(0), gt_edges.size(1), edges.size(1))\n",
        "            if edges.size(1) == gt_edges.size(1) - 1:\n",
        "                gt_edges = gt_edges[:, :-1]\n",
        "            edge_count += edges.numel()\n",
        "            full_edge_count += gt_edges.numel()\n",
        "            correct_edges += ((edges == gt_edges)).sum().item()\n",
        "            edge_0_count += (gt_edges == 0).sum().item()\n",
        "            edge_1_count += (gt_edges == 1).sum().item()\n",
        "            correct_0_edges += ((edges == gt_edges)*(gt_edges == 0)).sum().item()\n",
        "            correct_1_edges += ((edges == gt_edges)*(gt_edges == 1)).sum().item()\n",
        "            correct += (edges*gt_edges).sum().item()\n",
        "            num_predicted += edges.sum().item()\n",
        "            num_gt += gt_edges.sum().item()\n",
        "    prec = correct / (num_predicted + 1e-8)\n",
        "    rec = correct / (num_gt + 1e-8)\n",
        "    f1 = 2*prec*rec / (prec+rec+1e-6)\n",
        "    all_edges = torch.cat(all_edges)\n",
        "    return f1, correct_edges / (full_edge_count + 1e-8), correct_0_edges / (edge_0_count + 1e-8), correct_1_edges / (edge_1_count + 1e-8), all_edges\n",
        "\n",
        "def plot_sample(model, dataset, num_samples, params):\n",
        "    gpu = params.get('gpu', False)\n",
        "    batch_size = params.get('batch_size', 1)\n",
        "    use_gt_edges = params.get('use_gt_edges')\n",
        "    data_loader = DataLoader(dataset, batch_size=batch_size)\n",
        "    model.eval()\n",
        "    batch_count = 0\n",
        "    all_errors = []\n",
        "    burn_in_steps = 10\n",
        "    forward_pred_steps = 40\n",
        "    for batch_ind, batch in enumerate(data_loader):\n",
        "        inputs = batch['inputs']\n",
        "        gt_edges = batch.get('edges', None)\n",
        "        with torch.no_grad():\n",
        "            model_inputs = inputs[:, :burn_in_steps]\n",
        "            gt_predictions = inputs[:, burn_in_steps:burn_in_steps+forward_pred_steps]\n",
        "            if gpu:\n",
        "                model_inputs = model_inputs.cuda(non_blocking=True)\n",
        "                if gt_edges is not None and use_gt_edges:\n",
        "                    gt_edges = gt_edges.cuda(non_blocking=True)\n",
        "            if not use_gt_edges:\n",
        "                gt_edges=None\n",
        "            model_preds = model.predict_future(model_inputs, forward_pred_steps).cpu()\n",
        "            #total_se += F.mse_loss(model_preds, gt_predictions).item()\n",
        "            print(\"MSE: \", torch.nn.functional.mse_loss(model_preds, gt_predictions).item())\n",
        "            batch_count += 1\n",
        "        fig, ax = plt.subplots()\n",
        "        unnormalized_preds = dataset.unnormalize(model_preds)\n",
        "        unnormalized_gt = dataset.unnormalize(inputs)\n",
        "        def update(frame):\n",
        "            ax.clear()\n",
        "            ax.plot(unnormalized_gt[0, frame, 0, 0], unnormalized_gt[0, frame, 0, 1], 'bo')\n",
        "            ax.plot(unnormalized_gt[0, frame, 1, 0], unnormalized_gt[0, frame, 1, 1], 'ro')\n",
        "            ax.plot(unnormalized_gt[0, frame, 2, 0], unnormalized_gt[0, frame, 2, 1], 'go')\n",
        "            if frame >= burn_in_steps:\n",
        "                tmp_fr = frame - burn_in_steps\n",
        "                ax.plot(unnormalized_preds[0, tmp_fr, 0, 0], unnormalized_preds[0, tmp_fr, 0, 1], 'bo', alpha=0.5)\n",
        "                ax.plot(unnormalized_preds[0, tmp_fr, 1, 0], unnormalized_preds[0, tmp_fr, 1, 1], 'ro', alpha=0.5)\n",
        "                ax.plot(unnormalized_preds[0, tmp_fr, 2, 0], unnormalized_preds[0, tmp_fr, 2, 1], 'go', alpha=0.5)\n",
        "            ax.set_xlim(-6, 6)\n",
        "            ax.set_ylim(-6, 6)\n",
        "        ani = animation.FuncAnimation(fig, update, interval=100, frames=burn_in_steps+forward_pred_steps)\n",
        "        path = os.path.join(params['working_dir'], 'pred_trajectory_%d.mp4'%batch_ind)\n",
        "        ani.save(path, codec='mpeg4')\n",
        "        if batch_count >= num_samples:\n",
        "            break"
      ],
      "metadata": {
        "id": "FvN8VML37Os0"
      },
      "execution_count": null,
      "outputs": []
    },
    {
      "cell_type": "code",
      "source": [
        "import argparse"
      ],
      "metadata": {
        "id": "YJ_d4zWN7u2r"
      },
      "execution_count": null,
      "outputs": []
    },
    {
      "cell_type": "code",
      "source": [
        "parser = argparse.ArgumentParser('')\n",
        "parser.add_argument('--working_dir', required=True)\n",
        "parser.add_argument('--gpu', action='store_true')\n",
        "parser.add_argument('--seed', type=int, default=1)\n",
        "parser.add_argument('--mode', choices=['train', 'eval', 'eval_fixedwindow'], required=True)\n",
        "parser.add_argument('--load_model')\n",
        "parser.add_argument('--load_best_model', action='store_true')\n",
        "parser.add_argument('--continue_training', action='store_true')\n",
        "parser.add_argument('--model_type', choices=['nri', 'dnri', 'fc_baseline'])\n",
        "\n",
        "# Training Params\n",
        "parser.add_argument('--num_epochs', type=int)\n",
        "parser.add_argument('--lr', type=float, default=1e-3)\n",
        "parser.add_argument('--mom', type=float, default=0)\n",
        "parser.add_argument('--batch_size', type=int, default=32)\n",
        "parser.add_argument('--sub_batch_size', type=int)\n",
        "parser.add_argument('--val_batch_size', type=int)\n",
        "parser.add_argument('--val_interval', type=int, default=5)\n",
        "parser.add_argument('--test', action='store_true')\n",
        "parser.add_argument('--use_adam', action='store_true')\n",
        "parser.add_argument('--lr_decay_factor', type=float)\n",
        "parser.add_argument('--lr_decay_steps', type=int)\n",
        "parser.add_argument('--clip_grad_norm', type=float)\n",
        "parser.add_argument('--verbose', action='store_true')\n",
        "parser.add_argument('--tune_on_nll', action='store_true')\n",
        "parser.add_argument('--val_teacher_forcing', action='store_true')\n",
        "parser.add_argument('--accumulate_steps', type=int, default=1)\n",
        "parser.add_argument('--max_burn_in_count', type=int, default=-1)\n",
        "\n",
        "# Model Params\n",
        "parser.add_argument('--no_prior', action='store_true')\n",
        "parser.add_argument('--avg_prior', action='store_true')\n",
        "parser.add_argument('--add_uniform_prior', action='store_true')\n",
        "parser.add_argument('--prior_num_layers', type=int, default=1)\n",
        "parser.add_argument('--prior_hidden_size', type=int, default=256)\n",
        "parser.add_argument('--use_learned_prior', action='store_true')\n",
        "parser.add_argument('--graph_type', choices=['static', 'dynamic'])\n",
        "parser.add_argument('--avg_encoder_inputs', action='store_true')\n",
        "parser.add_argument('--use_dynamic_graph', action='store_true')\n",
        "parser.add_argument('--use_static_encoder', action='store_true')\n",
        "parser.add_argument('--decoder_type')\n",
        "parser.add_argument('--encoder_rnn_type', choices=['lstm', 'gru'], default='lstm')\n",
        "parser.add_argument('--decoder_rnn_type', choices=['lstm', 'gru'], default='gru')\n",
        "parser.add_argument('--encoder_hidden', type=int, default=256)\n",
        "parser.add_argument('--encoder_rnn_hidden', type=int)\n",
        "parser.add_argument('--num_edge_types', type=int, default=2)\n",
        "parser.add_argument('--encoder_dropout', type=float, default=0.0)\n",
        "parser.add_argument('--encoder_unidirectional', action='store_true')\n",
        "parser.add_argument('--encoder_bidirectional', action='store_true')\n",
        "parser.add_argument('--encoder_no_factor', action='store_true', default=False)\n",
        "parser.add_argument('--decoder_hidden', type=int, default=256)\n",
        "parser.add_argument('--decoder_msg_hidden', type=int, default=256)\n",
        "parser.add_argument('--decoder_dropout', type=float, default=0.0)\n",
        "parser.add_argument('--skip_first', action='store_true', default=False)\n",
        "parser.add_argument('--uniform_prior', action='store_true')\n",
        "parser.add_argument('--no_edge_prior', type=float)\n",
        "parser.add_argument('--teacher_forcing_steps', type=int, default=10)\n",
        "parser.add_argument('--gumbel_temp', type=float, default=0.5)\n",
        "parser.add_argument('--train_hard_sample', action='store_true')\n",
        "parser.add_argument('--normalize_kl', action='store_true')\n",
        "parser.add_argument('--normalize_kl_per_var', action='store_true')\n",
        "parser.add_argument('--normalize_nll', action='store_true')\n",
        "parser.add_argument('--normalize_nll_per_var', action='store_true')\n",
        "parser.add_argument('--kl_coef', type=float, default=1.)\n",
        "parser.add_argument('--no_encoder_bn', action='store_true')\n",
        "parser.add_argument('--encoder_mlp_hidden', type=int, default=256)\n",
        "parser.add_argument('--encoder_mlp_num_layers', type=int, default=1)\n",
        "parser.add_argument('--rnn_hidden', type=int, default=64)\n",
        "parser.add_argument('--teacher_forcing_prior', action='store_true')\n",
        "parser.add_argument('--decoder_rnn_hidden', type=int)\n",
        "parser.add_argument('--encoder_save_eval_memory', action='store_true')\n",
        "parser.add_argument('--encoder_normalize_mode', choices=[None, 'normalize_inp', 'normalize_all'])\n",
        "parser.add_argument('--normalize_inputs', action='store_true')\n",
        "parser.add_argument('--data_path')\n",
        "parser.add_argument('--same_data_norm', action='store_true')\n",
        "parser.add_argument('--no_data_norm', action='store_true')\n",
        "parser.add_argument('--error_out_name', default='prediction_errors_%dstep.npy')\n",
        "parser.add_argument('--prior_variance', type=float, default=5e-5)\n",
        "parser.add_argument('--test_burn_in_steps', type=int, default=10)\n",
        "parser.add_argument('--error_suffix')\n",
        "parser.add_argument('--subject_ind', type=int, default=-1)"
      ],
      "metadata": {
        "colab": {
          "base_uri": "https://localhost:8080/"
        },
        "id": "qaOyZuop7zIc",
        "outputId": "011db9c8-e0f8-4057-cecd-3ca96582c857"
      },
      "execution_count": null,
      "outputs": [
        {
          "output_type": "execute_result",
          "data": {
            "text/plain": [
              "_StoreAction(option_strings=['--subject_ind'], dest='subject_ind', nargs=None, const=None, default=-1, type=<class 'int'>, choices=None, required=False, help=None, metavar=None)"
            ]
          },
          "metadata": {},
          "execution_count": 13
        }
      ]
    },
    {
      "cell_type": "code",
      "source": [
        "args = parser.parse_args(f'--mode train --data_path {DATA_PATH} --working_dir {WORKING_DIR} {MODEL_ARGS} {TRAINING_ARGS}'.split()); args"
      ],
      "metadata": {
        "colab": {
          "base_uri": "https://localhost:8080/"
        },
        "id": "ZMG2kpXf7298",
        "outputId": "cade12c6-90ee-483b-c112-f1f9902d1180"
      },
      "execution_count": null,
      "outputs": [
        {
          "output_type": "execute_result",
          "data": {
            "text/plain": [
              "Namespace(working_dir='/content/drive/MyDrive/results1/nri/seed_1/', gpu=False, seed=1, mode='train', load_model=None, load_best_model=False, continue_training=False, model_type='nri', num_epochs=100, lr=0.0005, mom=0, batch_size=16, sub_batch_size=None, val_batch_size=None, val_interval=5, test=False, use_adam=True, lr_decay_factor=0.5, lr_decay_steps=200, clip_grad_norm=None, verbose=False, tune_on_nll=True, val_teacher_forcing=True, accumulate_steps=1, max_burn_in_count=-1, no_prior=False, avg_prior=False, add_uniform_prior=False, prior_num_layers=1, prior_hidden_size=256, use_learned_prior=False, graph_type='static', avg_encoder_inputs=False, use_dynamic_graph=False, use_static_encoder=False, decoder_type=None, encoder_rnn_type='lstm', decoder_rnn_type='gru', encoder_hidden=256, encoder_rnn_hidden=None, num_edge_types=2, encoder_dropout=0.0, encoder_unidirectional=False, encoder_bidirectional=False, encoder_no_factor=False, decoder_hidden=256, decoder_msg_hidden=256, decoder_dropout=0.0, skip_first=True, uniform_prior=False, no_edge_prior=0.9, teacher_forcing_steps=-1, gumbel_temp=0.5, train_hard_sample=False, normalize_kl=True, normalize_kl_per_var=False, normalize_nll=True, normalize_nll_per_var=False, kl_coef=1.0, no_encoder_bn=False, encoder_mlp_hidden=256, encoder_mlp_num_layers=3, rnn_hidden=64, teacher_forcing_prior=False, decoder_rnn_hidden=None, encoder_save_eval_memory=False, encoder_normalize_mode=None, normalize_inputs=False, data_path='/content/drive/MyDrive/datos_3_1000_50_128/', same_data_norm=False, no_data_norm=False, error_out_name='prediction_errors_%dstep.npy', prior_variance=5e-05, test_burn_in_steps=10, error_suffix=None, subject_ind=-1)"
            ]
          },
          "metadata": {},
          "execution_count": 14
        }
      ]
    },
    {
      "cell_type": "code",
      "source": [
        "params = vars(args);params"
      ],
      "metadata": {
        "colab": {
          "base_uri": "https://localhost:8080/"
        },
        "id": "S0EiOwCT75kB",
        "outputId": "b57a61ed-0df4-4aa2-f838-6ee6ad9a797d"
      },
      "execution_count": null,
      "outputs": [
        {
          "output_type": "execute_result",
          "data": {
            "text/plain": [
              "{'working_dir': '/content/drive/MyDrive/results1/nri/seed_1/',\n",
              " 'gpu': False,\n",
              " 'seed': 1,\n",
              " 'mode': 'train',\n",
              " 'load_model': None,\n",
              " 'load_best_model': False,\n",
              " 'continue_training': False,\n",
              " 'model_type': 'nri',\n",
              " 'num_epochs': 100,\n",
              " 'lr': 0.0005,\n",
              " 'mom': 0,\n",
              " 'batch_size': 16,\n",
              " 'sub_batch_size': None,\n",
              " 'val_batch_size': None,\n",
              " 'val_interval': 5,\n",
              " 'test': False,\n",
              " 'use_adam': True,\n",
              " 'lr_decay_factor': 0.5,\n",
              " 'lr_decay_steps': 200,\n",
              " 'clip_grad_norm': None,\n",
              " 'verbose': False,\n",
              " 'tune_on_nll': True,\n",
              " 'val_teacher_forcing': True,\n",
              " 'accumulate_steps': 1,\n",
              " 'max_burn_in_count': -1,\n",
              " 'no_prior': False,\n",
              " 'avg_prior': False,\n",
              " 'add_uniform_prior': False,\n",
              " 'prior_num_layers': 1,\n",
              " 'prior_hidden_size': 256,\n",
              " 'use_learned_prior': False,\n",
              " 'graph_type': 'static',\n",
              " 'avg_encoder_inputs': False,\n",
              " 'use_dynamic_graph': False,\n",
              " 'use_static_encoder': False,\n",
              " 'decoder_type': None,\n",
              " 'encoder_rnn_type': 'lstm',\n",
              " 'decoder_rnn_type': 'gru',\n",
              " 'encoder_hidden': 256,\n",
              " 'encoder_rnn_hidden': None,\n",
              " 'num_edge_types': 2,\n",
              " 'encoder_dropout': 0.0,\n",
              " 'encoder_unidirectional': False,\n",
              " 'encoder_bidirectional': False,\n",
              " 'encoder_no_factor': False,\n",
              " 'decoder_hidden': 256,\n",
              " 'decoder_msg_hidden': 256,\n",
              " 'decoder_dropout': 0.0,\n",
              " 'skip_first': True,\n",
              " 'uniform_prior': False,\n",
              " 'no_edge_prior': 0.9,\n",
              " 'teacher_forcing_steps': -1,\n",
              " 'gumbel_temp': 0.5,\n",
              " 'train_hard_sample': False,\n",
              " 'normalize_kl': True,\n",
              " 'normalize_kl_per_var': False,\n",
              " 'normalize_nll': True,\n",
              " 'normalize_nll_per_var': False,\n",
              " 'kl_coef': 1.0,\n",
              " 'no_encoder_bn': False,\n",
              " 'encoder_mlp_hidden': 256,\n",
              " 'encoder_mlp_num_layers': 3,\n",
              " 'rnn_hidden': 64,\n",
              " 'teacher_forcing_prior': False,\n",
              " 'decoder_rnn_hidden': None,\n",
              " 'encoder_save_eval_memory': False,\n",
              " 'encoder_normalize_mode': None,\n",
              " 'normalize_inputs': False,\n",
              " 'data_path': '/content/drive/MyDrive/datos_3_1000_50_128/',\n",
              " 'same_data_norm': False,\n",
              " 'no_data_norm': False,\n",
              " 'error_out_name': 'prediction_errors_%dstep.npy',\n",
              " 'prior_variance': 5e-05,\n",
              " 'test_burn_in_steps': 10,\n",
              " 'error_suffix': None,\n",
              " 'subject_ind': -1}"
            ]
          },
          "metadata": {},
          "execution_count": 15
        }
      ]
    },
    {
      "cell_type": "code",
      "source": [
        "misc.seed(args.seed) # set seed for numpy torch cuda and random libs"
      ],
      "metadata": {
        "id": "6k8w4M_I78jr"
      },
      "execution_count": null,
      "outputs": []
    },
    {
      "cell_type": "code",
      "source": [
        "params['num_vars'] = 3\n",
        "params['input_size'] = 2\n",
        "params['input_time_steps'] = 50\n",
        "params['nll_loss_type'] = 'gaussian'\n",
        "train_data = SmallSynthData(args.data_path, 'train', params)\n",
        "val_data   = SmallSynthData(args.data_path, 'val', params)"
      ],
      "metadata": {
        "id": "O4IBBy0Y7_ja",
        "colab": {
          "base_uri": "https://localhost:8080/"
        },
        "outputId": "4fd4a4ea-ef06-4398-be03-617191e0a6c1"
      },
      "execution_count": null,
      "outputs": [
        {
          "output_type": "stream",
          "name": "stderr",
          "text": [
            "/content/TFM/dnri/datasets/small_synth_data.py:20: FutureWarning: You are using `torch.load` with `weights_only=False` (the current default value), which uses the default pickle module implicitly. It is possible to construct malicious pickle data which will execute arbitrary code during unpickling (See https://github.com/pytorch/pytorch/blob/main/SECURITY.md#untrusted-models for more details). In a future release, the default value for `weights_only` will be flipped to `True`. This limits the functions that could be executed during unpickling. Arbitrary objects will no longer be allowed to be loaded via this mode unless they are explicitly allowlisted by the user via `torch.serialization.add_safe_globals`. We recommend you start setting `weights_only=True` for any use case where you don't have full control of the loaded file. Please open an issue on GitHub for any issues related to this experimental feature.\n",
            "  self.feats = torch.load(path)\n",
            "/content/TFM/dnri/datasets/small_synth_data.py:21: FutureWarning: You are using `torch.load` with `weights_only=False` (the current default value), which uses the default pickle module implicitly. It is possible to construct malicious pickle data which will execute arbitrary code during unpickling (See https://github.com/pytorch/pytorch/blob/main/SECURITY.md#untrusted-models for more details). In a future release, the default value for `weights_only` will be flipped to `True`. This limits the functions that could be executed during unpickling. Arbitrary objects will no longer be allowed to be loaded via this mode unless they are explicitly allowlisted by the user via `torch.serialization.add_safe_globals`. We recommend you start setting `weights_only=True` for any use case where you don't have full control of the loaded file. Please open an issue on GitHub for any issues related to this experimental feature.\n",
            "  self.edges = torch.load(edge_path)\n",
            "/content/TFM/dnri/datasets/small_synth_data.py:28: FutureWarning: You are using `torch.load` with `weights_only=False` (the current default value), which uses the default pickle module implicitly. It is possible to construct malicious pickle data which will execute arbitrary code during unpickling (See https://github.com/pytorch/pytorch/blob/main/SECURITY.md#untrusted-models for more details). In a future release, the default value for `weights_only` will be flipped to `True`. This limits the functions that could be executed during unpickling. Arbitrary objects will no longer be allowed to be loaded via this mode unless they are explicitly allowlisted by the user via `torch.serialization.add_safe_globals`. We recommend you start setting `weights_only=True` for any use case where you don't have full control of the loaded file. Please open an issue on GitHub for any issues related to this experimental feature.\n",
            "  train_data = torch.load(os.path.join(self.data_path, 'train_feats'))\n"
          ]
        }
      ]
    },
    {
      "cell_type": "code",
      "source": [
        "model = model_builder.build_model(params)"
      ],
      "metadata": {
        "colab": {
          "base_uri": "https://localhost:8080/"
        },
        "id": "GR_TzXlf8B5E",
        "outputId": "96693dae-ece5-4d50-b5b3-e9881f70929a"
      },
      "execution_count": null,
      "outputs": [
        {
          "output_type": "stream",
          "name": "stdout",
          "text": [
            "Using factor graph MLP encoder.\n",
            "ENCODER:  RefMLPEncoder(\n",
            "  (mlp1): RefNRIMLP(\n",
            "    (model): Sequential(\n",
            "      (0): Linear(in_features=100, out_features=256, bias=True)\n",
            "      (1): ELU(alpha=1.0, inplace=True)\n",
            "      (2): Dropout(p=0.0, inplace=False)\n",
            "      (3): Linear(in_features=256, out_features=256, bias=True)\n",
            "      (4): ELU(alpha=1.0, inplace=True)\n",
            "    )\n",
            "    (bn): BatchNorm1d(256, eps=1e-05, momentum=0.1, affine=True, track_running_stats=True)\n",
            "  )\n",
            "  (mlp2): RefNRIMLP(\n",
            "    (model): Sequential(\n",
            "      (0): Linear(in_features=512, out_features=256, bias=True)\n",
            "      (1): ELU(alpha=1.0, inplace=True)\n",
            "      (2): Dropout(p=0.0, inplace=False)\n",
            "      (3): Linear(in_features=256, out_features=256, bias=True)\n",
            "      (4): ELU(alpha=1.0, inplace=True)\n",
            "    )\n",
            "    (bn): BatchNorm1d(256, eps=1e-05, momentum=0.1, affine=True, track_running_stats=True)\n",
            "  )\n",
            "  (mlp3): RefNRIMLP(\n",
            "    (model): Sequential(\n",
            "      (0): Linear(in_features=256, out_features=256, bias=True)\n",
            "      (1): ELU(alpha=1.0, inplace=True)\n",
            "      (2): Dropout(p=0.0, inplace=False)\n",
            "      (3): Linear(in_features=256, out_features=256, bias=True)\n",
            "      (4): ELU(alpha=1.0, inplace=True)\n",
            "    )\n",
            "    (bn): BatchNorm1d(256, eps=1e-05, momentum=0.1, affine=True, track_running_stats=True)\n",
            "  )\n",
            "  (mlp4): RefNRIMLP(\n",
            "    (model): Sequential(\n",
            "      (0): Linear(in_features=768, out_features=256, bias=True)\n",
            "      (1): ELU(alpha=1.0, inplace=True)\n",
            "      (2): Dropout(p=0.0, inplace=False)\n",
            "      (3): Linear(in_features=256, out_features=256, bias=True)\n",
            "      (4): ELU(alpha=1.0, inplace=True)\n",
            "    )\n",
            "    (bn): BatchNorm1d(256, eps=1e-05, momentum=0.1, affine=True, track_running_stats=True)\n",
            "  )\n",
            "  (fc_out): Sequential(\n",
            "    (0): Linear(in_features=256, out_features=256, bias=True)\n",
            "    (1): ELU(alpha=1.0, inplace=True)\n",
            "    (2): Linear(in_features=256, out_features=256, bias=True)\n",
            "    (3): ELU(alpha=1.0, inplace=True)\n",
            "    (4): Linear(in_features=256, out_features=2, bias=True)\n",
            "  )\n",
            ")\n",
            "Using learned recurrent interaction net decoder.\n",
            "DECODER:  GraphRNNDecoder(\n",
            "  (msg_fc1): ModuleList(\n",
            "    (0-1): 2 x Linear(in_features=512, out_features=256, bias=True)\n",
            "  )\n",
            "  (msg_fc2): ModuleList(\n",
            "    (0-1): 2 x Linear(in_features=256, out_features=256, bias=True)\n",
            "  )\n",
            "  (hidden_r): Linear(in_features=256, out_features=256, bias=False)\n",
            "  (hidden_i): Linear(in_features=256, out_features=256, bias=False)\n",
            "  (hidden_h): Linear(in_features=256, out_features=256, bias=False)\n",
            "  (input_r): Linear(in_features=2, out_features=256, bias=True)\n",
            "  (input_i): Linear(in_features=2, out_features=256, bias=True)\n",
            "  (input_n): Linear(in_features=2, out_features=256, bias=True)\n",
            "  (out_fc1): Linear(in_features=256, out_features=256, bias=True)\n",
            "  (out_fc2): Linear(in_features=256, out_features=256, bias=True)\n",
            "  (out_fc3): Linear(in_features=256, out_features=2, bias=True)\n",
            ")\n",
            "USING NO EDGE PRIOR:  tensor([[[-0.1054, -2.3026]]])\n"
          ]
        }
      ]
    },
    {
      "cell_type": "code",
      "source": [
        "params['gpu']"
      ],
      "metadata": {
        "colab": {
          "base_uri": "https://localhost:8080/"
        },
        "id": "pnNzPdyu8E9E",
        "outputId": "c3f0e314-e77f-4e8a-e451-29131c8e7c31"
      },
      "execution_count": null,
      "outputs": [
        {
          "output_type": "execute_result",
          "data": {
            "text/plain": [
              "False"
            ]
          },
          "metadata": {},
          "execution_count": 19
        }
      ]
    },
    {
      "cell_type": "code",
      "source": [
        "if args.mode == 'train':\n",
        "    with train_utils.build_writers(args.working_dir) as (train_writer, val_writer):\n",
        "        train.train(model, train_data, val_data, params, train_writer, val_writer)"
      ],
      "metadata": {
        "colab": {
          "base_uri": "https://localhost:8080/"
        },
        "id": "u6Dze5KW8Hgc",
        "outputId": "c902224f-2513-4718-b22e-4caffa3b2320"
      },
      "execution_count": null,
      "outputs": [
        {
          "output_type": "stream",
          "name": "stdout",
          "text": [
            "EPOCH 1 0\n",
            "BEST VAL RESULT. SAVING MODEL...\n",
            "EPOCH 1 EVAL: \n",
            "\tCURRENT VAL LOSS: -0.368062\n",
            "\tBEST VAL LOSS:    -0.368062\n",
            "\tBEST VAL EPOCH:   1\n",
            "EPOCH 2 18.47025156021118\n",
            "BEST VAL RESULT. SAVING MODEL...\n",
            "EPOCH 2 EVAL: \n",
            "\tCURRENT VAL LOSS: -0.472866\n",
            "\tBEST VAL LOSS:    -0.472866\n",
            "\tBEST VAL EPOCH:   2\n",
            "EPOCH 3 18.978795528411865\n",
            "EPOCH 3 EVAL: \n",
            "\tCURRENT VAL LOSS: -0.462731\n",
            "\tBEST VAL LOSS:    -0.472866\n",
            "\tBEST VAL EPOCH:   2\n",
            "EPOCH 4 18.397271394729614\n",
            "EPOCH 4 EVAL: \n",
            "\tCURRENT VAL LOSS: -0.448044\n",
            "\tBEST VAL LOSS:    -0.472866\n",
            "\tBEST VAL EPOCH:   2\n",
            "EPOCH 5 18.01591420173645\n",
            "EPOCH 5 EVAL: \n",
            "\tCURRENT VAL LOSS: -0.449879\n",
            "\tBEST VAL LOSS:    -0.472866\n",
            "\tBEST VAL EPOCH:   2\n",
            "EPOCH 6 18.490074634552002\n",
            "BEST VAL RESULT. SAVING MODEL...\n",
            "EPOCH 6 EVAL: \n",
            "\tCURRENT VAL LOSS: -0.480722\n",
            "\tBEST VAL LOSS:    -0.480722\n",
            "\tBEST VAL EPOCH:   6\n",
            "EPOCH 7 18.414820671081543\n",
            "EPOCH 7 EVAL: \n",
            "\tCURRENT VAL LOSS: -0.450636\n",
            "\tBEST VAL LOSS:    -0.480722\n",
            "\tBEST VAL EPOCH:   6\n",
            "EPOCH 8 19.049626350402832\n",
            "EPOCH 8 EVAL: \n",
            "\tCURRENT VAL LOSS: -0.454510\n",
            "\tBEST VAL LOSS:    -0.480722\n",
            "\tBEST VAL EPOCH:   6\n",
            "EPOCH 9 18.443949222564697\n",
            "EPOCH 9 EVAL: \n",
            "\tCURRENT VAL LOSS: -0.438498\n",
            "\tBEST VAL LOSS:    -0.480722\n",
            "\tBEST VAL EPOCH:   6\n",
            "EPOCH 10 19.12889337539673\n",
            "EPOCH 10 EVAL: \n",
            "\tCURRENT VAL LOSS: -0.427096\n",
            "\tBEST VAL LOSS:    -0.480722\n",
            "\tBEST VAL EPOCH:   6\n",
            "EPOCH 11 18.719499349594116\n",
            "EPOCH 11 EVAL: \n",
            "\tCURRENT VAL LOSS: -0.448007\n",
            "\tBEST VAL LOSS:    -0.480722\n",
            "\tBEST VAL EPOCH:   6\n",
            "EPOCH 12 19.07594394683838\n",
            "EPOCH 12 EVAL: \n",
            "\tCURRENT VAL LOSS: -0.474635\n",
            "\tBEST VAL LOSS:    -0.480722\n",
            "\tBEST VAL EPOCH:   6\n",
            "EPOCH 13 18.415900230407715\n",
            "EPOCH 13 EVAL: \n",
            "\tCURRENT VAL LOSS: -0.465999\n",
            "\tBEST VAL LOSS:    -0.480722\n",
            "\tBEST VAL EPOCH:   6\n",
            "EPOCH 14 20.232460975646973\n",
            "EPOCH 14 EVAL: \n",
            "\tCURRENT VAL LOSS: -0.443105\n",
            "\tBEST VAL LOSS:    -0.480722\n",
            "\tBEST VAL EPOCH:   6\n",
            "EPOCH 15 18.504982471466064\n",
            "EPOCH 15 EVAL: \n",
            "\tCURRENT VAL LOSS: -0.468789\n",
            "\tBEST VAL LOSS:    -0.480722\n",
            "\tBEST VAL EPOCH:   6\n",
            "EPOCH 16 18.94870615005493\n",
            "EPOCH 16 EVAL: \n",
            "\tCURRENT VAL LOSS: -0.470933\n",
            "\tBEST VAL LOSS:    -0.480722\n",
            "\tBEST VAL EPOCH:   6\n",
            "EPOCH 17 18.41811442375183\n",
            "EPOCH 17 EVAL: \n",
            "\tCURRENT VAL LOSS: -0.472939\n",
            "\tBEST VAL LOSS:    -0.480722\n",
            "\tBEST VAL EPOCH:   6\n",
            "EPOCH 18 18.871376752853394\n",
            "BEST VAL RESULT. SAVING MODEL...\n",
            "EPOCH 18 EVAL: \n",
            "\tCURRENT VAL LOSS: -0.488539\n",
            "\tBEST VAL LOSS:    -0.488539\n",
            "\tBEST VAL EPOCH:   18\n",
            "EPOCH 19 18.26667284965515\n",
            "EPOCH 19 EVAL: \n",
            "\tCURRENT VAL LOSS: -0.471706\n",
            "\tBEST VAL LOSS:    -0.488539\n",
            "\tBEST VAL EPOCH:   18\n",
            "EPOCH 20 18.972527980804443\n",
            "EPOCH 20 EVAL: \n",
            "\tCURRENT VAL LOSS: -0.472002\n",
            "\tBEST VAL LOSS:    -0.488539\n",
            "\tBEST VAL EPOCH:   18\n",
            "EPOCH 21 18.40377974510193\n",
            "EPOCH 21 EVAL: \n",
            "\tCURRENT VAL LOSS: -0.407578\n",
            "\tBEST VAL LOSS:    -0.488539\n",
            "\tBEST VAL EPOCH:   18\n",
            "EPOCH 22 18.963382244110107\n",
            "EPOCH 22 EVAL: \n",
            "\tCURRENT VAL LOSS: -0.432573\n",
            "\tBEST VAL LOSS:    -0.488539\n",
            "\tBEST VAL EPOCH:   18\n",
            "EPOCH 23 18.632795572280884\n",
            "EPOCH 23 EVAL: \n",
            "\tCURRENT VAL LOSS: -0.469474\n",
            "\tBEST VAL LOSS:    -0.488539\n",
            "\tBEST VAL EPOCH:   18\n",
            "EPOCH 24 19.277244329452515\n",
            "EPOCH 24 EVAL: \n",
            "\tCURRENT VAL LOSS: -0.459935\n",
            "\tBEST VAL LOSS:    -0.488539\n",
            "\tBEST VAL EPOCH:   18\n",
            "EPOCH 25 18.391815662384033\n",
            "EPOCH 25 EVAL: \n",
            "\tCURRENT VAL LOSS: -0.485060\n",
            "\tBEST VAL LOSS:    -0.488539\n",
            "\tBEST VAL EPOCH:   18\n",
            "EPOCH 26 18.84011173248291\n",
            "EPOCH 26 EVAL: \n",
            "\tCURRENT VAL LOSS: -0.482189\n",
            "\tBEST VAL LOSS:    -0.488539\n",
            "\tBEST VAL EPOCH:   18\n",
            "EPOCH 27 18.793182849884033\n",
            "EPOCH 27 EVAL: \n",
            "\tCURRENT VAL LOSS: -0.465979\n",
            "\tBEST VAL LOSS:    -0.488539\n",
            "\tBEST VAL EPOCH:   18\n",
            "EPOCH 28 18.607144355773926\n",
            "EPOCH 28 EVAL: \n",
            "\tCURRENT VAL LOSS: -0.483910\n",
            "\tBEST VAL LOSS:    -0.488539\n",
            "\tBEST VAL EPOCH:   18\n",
            "EPOCH 29 18.34151339530945\n",
            "EPOCH 29 EVAL: \n",
            "\tCURRENT VAL LOSS: -0.482332\n",
            "\tBEST VAL LOSS:    -0.488539\n",
            "\tBEST VAL EPOCH:   18\n",
            "EPOCH 30 18.266047716140747\n",
            "EPOCH 30 EVAL: \n",
            "\tCURRENT VAL LOSS: -0.472068\n",
            "\tBEST VAL LOSS:    -0.488539\n",
            "\tBEST VAL EPOCH:   18\n",
            "EPOCH 31 18.751242637634277\n",
            "BEST VAL RESULT. SAVING MODEL...\n",
            "EPOCH 31 EVAL: \n",
            "\tCURRENT VAL LOSS: -0.492069\n",
            "\tBEST VAL LOSS:    -0.492069\n",
            "\tBEST VAL EPOCH:   31\n",
            "EPOCH 32 17.909276723861694\n",
            "EPOCH 32 EVAL: \n",
            "\tCURRENT VAL LOSS: -0.486311\n",
            "\tBEST VAL LOSS:    -0.492069\n",
            "\tBEST VAL EPOCH:   31\n",
            "EPOCH 33 18.993873357772827\n",
            "EPOCH 33 EVAL: \n",
            "\tCURRENT VAL LOSS: -0.475633\n",
            "\tBEST VAL LOSS:    -0.492069\n",
            "\tBEST VAL EPOCH:   31\n",
            "EPOCH 34 17.9518039226532\n",
            "EPOCH 34 EVAL: \n",
            "\tCURRENT VAL LOSS: -0.478989\n",
            "\tBEST VAL LOSS:    -0.492069\n",
            "\tBEST VAL EPOCH:   31\n",
            "EPOCH 35 18.63708996772766\n",
            "EPOCH 35 EVAL: \n",
            "\tCURRENT VAL LOSS: -0.468109\n",
            "\tBEST VAL LOSS:    -0.492069\n",
            "\tBEST VAL EPOCH:   31\n",
            "EPOCH 36 18.009859085083008\n",
            "BEST VAL RESULT. SAVING MODEL...\n",
            "EPOCH 36 EVAL: \n",
            "\tCURRENT VAL LOSS: -0.494038\n",
            "\tBEST VAL LOSS:    -0.494038\n",
            "\tBEST VAL EPOCH:   36\n",
            "EPOCH 37 18.728271007537842\n",
            "EPOCH 37 EVAL: \n",
            "\tCURRENT VAL LOSS: -0.487606\n",
            "\tBEST VAL LOSS:    -0.494038\n",
            "\tBEST VAL EPOCH:   36\n",
            "EPOCH 38 18.16470193862915\n",
            "EPOCH 38 EVAL: \n",
            "\tCURRENT VAL LOSS: -0.488959\n",
            "\tBEST VAL LOSS:    -0.494038\n",
            "\tBEST VAL EPOCH:   36\n",
            "EPOCH 39 18.56048822402954\n",
            "EPOCH 39 EVAL: \n",
            "\tCURRENT VAL LOSS: -0.455899\n",
            "\tBEST VAL LOSS:    -0.494038\n",
            "\tBEST VAL EPOCH:   36\n",
            "EPOCH 40 18.26950764656067\n",
            "EPOCH 40 EVAL: \n",
            "\tCURRENT VAL LOSS: -0.492567\n",
            "\tBEST VAL LOSS:    -0.494038\n",
            "\tBEST VAL EPOCH:   36\n",
            "EPOCH 41 18.120090007781982\n",
            "EPOCH 41 EVAL: \n",
            "\tCURRENT VAL LOSS: -0.451313\n",
            "\tBEST VAL LOSS:    -0.494038\n",
            "\tBEST VAL EPOCH:   36\n",
            "EPOCH 42 19.151023149490356\n",
            "EPOCH 42 EVAL: \n",
            "\tCURRENT VAL LOSS: -0.478772\n",
            "\tBEST VAL LOSS:    -0.494038\n",
            "\tBEST VAL EPOCH:   36\n",
            "EPOCH 43 18.690237522125244\n",
            "EPOCH 43 EVAL: \n",
            "\tCURRENT VAL LOSS: -0.475846\n",
            "\tBEST VAL LOSS:    -0.494038\n",
            "\tBEST VAL EPOCH:   36\n",
            "EPOCH 44 18.862175703048706\n",
            "EPOCH 44 EVAL: \n",
            "\tCURRENT VAL LOSS: -0.490550\n",
            "\tBEST VAL LOSS:    -0.494038\n",
            "\tBEST VAL EPOCH:   36\n",
            "EPOCH 45 18.269551992416382\n",
            "EPOCH 45 EVAL: \n",
            "\tCURRENT VAL LOSS: -0.489798\n",
            "\tBEST VAL LOSS:    -0.494038\n",
            "\tBEST VAL EPOCH:   36\n",
            "EPOCH 46 19.08932137489319\n",
            "EPOCH 46 EVAL: \n",
            "\tCURRENT VAL LOSS: -0.475494\n",
            "\tBEST VAL LOSS:    -0.494038\n",
            "\tBEST VAL EPOCH:   36\n",
            "EPOCH 47 18.511614561080933\n",
            "BEST VAL RESULT. SAVING MODEL...\n",
            "EPOCH 47 EVAL: \n",
            "\tCURRENT VAL LOSS: -0.497595\n",
            "\tBEST VAL LOSS:    -0.497595\n",
            "\tBEST VAL EPOCH:   47\n",
            "EPOCH 48 18.78406262397766\n",
            "EPOCH 48 EVAL: \n",
            "\tCURRENT VAL LOSS: -0.450353\n",
            "\tBEST VAL LOSS:    -0.497595\n",
            "\tBEST VAL EPOCH:   47\n",
            "EPOCH 49 18.124043226242065\n",
            "EPOCH 49 EVAL: \n",
            "\tCURRENT VAL LOSS: -0.493332\n",
            "\tBEST VAL LOSS:    -0.497595\n",
            "\tBEST VAL EPOCH:   47\n",
            "EPOCH 50 18.79103136062622\n",
            "EPOCH 50 EVAL: \n",
            "\tCURRENT VAL LOSS: -0.490885\n",
            "\tBEST VAL LOSS:    -0.497595\n",
            "\tBEST VAL EPOCH:   47\n",
            "EPOCH 51 18.522435426712036\n",
            "EPOCH 51 EVAL: \n",
            "\tCURRENT VAL LOSS: -0.492132\n",
            "\tBEST VAL LOSS:    -0.497595\n",
            "\tBEST VAL EPOCH:   47\n",
            "EPOCH 52 19.01076030731201\n",
            "EPOCH 52 EVAL: \n",
            "\tCURRENT VAL LOSS: -0.471885\n",
            "\tBEST VAL LOSS:    -0.497595\n",
            "\tBEST VAL EPOCH:   47\n",
            "EPOCH 53 18.23625874519348\n",
            "EPOCH 53 EVAL: \n",
            "\tCURRENT VAL LOSS: -0.493620\n",
            "\tBEST VAL LOSS:    -0.497595\n",
            "\tBEST VAL EPOCH:   47\n",
            "EPOCH 54 18.462234258651733\n",
            "EPOCH 54 EVAL: \n",
            "\tCURRENT VAL LOSS: -0.486468\n",
            "\tBEST VAL LOSS:    -0.497595\n",
            "\tBEST VAL EPOCH:   47\n",
            "EPOCH 55 18.43704080581665\n",
            "EPOCH 55 EVAL: \n",
            "\tCURRENT VAL LOSS: -0.481295\n",
            "\tBEST VAL LOSS:    -0.497595\n",
            "\tBEST VAL EPOCH:   47\n",
            "EPOCH 56 17.997058629989624\n",
            "EPOCH 56 EVAL: \n",
            "\tCURRENT VAL LOSS: -0.496625\n",
            "\tBEST VAL LOSS:    -0.497595\n",
            "\tBEST VAL EPOCH:   47\n",
            "EPOCH 57 18.669033527374268\n",
            "EPOCH 57 EVAL: \n",
            "\tCURRENT VAL LOSS: -0.496419\n",
            "\tBEST VAL LOSS:    -0.497595\n",
            "\tBEST VAL EPOCH:   47\n",
            "EPOCH 58 18.150864124298096\n",
            "EPOCH 58 EVAL: \n",
            "\tCURRENT VAL LOSS: -0.495649\n",
            "\tBEST VAL LOSS:    -0.497595\n",
            "\tBEST VAL EPOCH:   47\n",
            "EPOCH 59 19.03159785270691\n",
            "EPOCH 59 EVAL: \n",
            "\tCURRENT VAL LOSS: -0.492023\n",
            "\tBEST VAL LOSS:    -0.497595\n",
            "\tBEST VAL EPOCH:   47\n",
            "EPOCH 60 18.31681489944458\n",
            "BEST VAL RESULT. SAVING MODEL...\n",
            "EPOCH 60 EVAL: \n",
            "\tCURRENT VAL LOSS: -0.497942\n",
            "\tBEST VAL LOSS:    -0.497942\n",
            "\tBEST VAL EPOCH:   60\n",
            "EPOCH 61 18.728450298309326\n",
            "EPOCH 61 EVAL: \n",
            "\tCURRENT VAL LOSS: -0.486265\n",
            "\tBEST VAL LOSS:    -0.497942\n",
            "\tBEST VAL EPOCH:   60\n",
            "EPOCH 62 18.348277807235718\n",
            "EPOCH 62 EVAL: \n",
            "\tCURRENT VAL LOSS: -0.497812\n",
            "\tBEST VAL LOSS:    -0.497942\n",
            "\tBEST VAL EPOCH:   60\n",
            "EPOCH 63 18.32346534729004\n",
            "EPOCH 63 EVAL: \n",
            "\tCURRENT VAL LOSS: -0.497527\n",
            "\tBEST VAL LOSS:    -0.497942\n",
            "\tBEST VAL EPOCH:   60\n",
            "EPOCH 64 18.659170627593994\n",
            "EPOCH 64 EVAL: \n",
            "\tCURRENT VAL LOSS: -0.492747\n",
            "\tBEST VAL LOSS:    -0.497942\n",
            "\tBEST VAL EPOCH:   60\n",
            "EPOCH 65 18.47154474258423\n",
            "EPOCH 65 EVAL: \n",
            "\tCURRENT VAL LOSS: -0.494713\n",
            "\tBEST VAL LOSS:    -0.497942\n",
            "\tBEST VAL EPOCH:   60\n",
            "EPOCH 66 18.654296875\n",
            "EPOCH 66 EVAL: \n",
            "\tCURRENT VAL LOSS: -0.491956\n",
            "\tBEST VAL LOSS:    -0.497942\n",
            "\tBEST VAL EPOCH:   60\n",
            "EPOCH 67 18.121090173721313\n",
            "EPOCH 67 EVAL: \n",
            "\tCURRENT VAL LOSS: -0.493385\n",
            "\tBEST VAL LOSS:    -0.497942\n",
            "\tBEST VAL EPOCH:   60\n",
            "EPOCH 68 18.718637704849243\n",
            "EPOCH 68 EVAL: \n",
            "\tCURRENT VAL LOSS: -0.494647\n",
            "\tBEST VAL LOSS:    -0.497942\n",
            "\tBEST VAL EPOCH:   60\n",
            "EPOCH 69 18.072964668273926\n",
            "EPOCH 69 EVAL: \n",
            "\tCURRENT VAL LOSS: -0.495605\n",
            "\tBEST VAL LOSS:    -0.497942\n",
            "\tBEST VAL EPOCH:   60\n",
            "EPOCH 70 18.690548181533813\n",
            "EPOCH 70 EVAL: \n",
            "\tCURRENT VAL LOSS: -0.496793\n",
            "\tBEST VAL LOSS:    -0.497942\n",
            "\tBEST VAL EPOCH:   60\n",
            "EPOCH 71 18.645776987075806\n",
            "BEST VAL RESULT. SAVING MODEL...\n",
            "EPOCH 71 EVAL: \n",
            "\tCURRENT VAL LOSS: -0.499849\n",
            "\tBEST VAL LOSS:    -0.499849\n",
            "\tBEST VAL EPOCH:   71\n",
            "EPOCH 72 18.294782400131226\n",
            "EPOCH 72 EVAL: \n",
            "\tCURRENT VAL LOSS: -0.496148\n",
            "\tBEST VAL LOSS:    -0.499849\n",
            "\tBEST VAL EPOCH:   71\n",
            "EPOCH 73 18.945431232452393\n",
            "EPOCH 73 EVAL: \n",
            "\tCURRENT VAL LOSS: -0.492647\n",
            "\tBEST VAL LOSS:    -0.499849\n",
            "\tBEST VAL EPOCH:   71\n",
            "EPOCH 74 18.03971838951111\n",
            "EPOCH 74 EVAL: \n",
            "\tCURRENT VAL LOSS: -0.496832\n",
            "\tBEST VAL LOSS:    -0.499849\n",
            "\tBEST VAL EPOCH:   71\n",
            "EPOCH 75 18.70458459854126\n",
            "EPOCH 75 EVAL: \n",
            "\tCURRENT VAL LOSS: -0.489759\n",
            "\tBEST VAL LOSS:    -0.499849\n",
            "\tBEST VAL EPOCH:   71\n",
            "EPOCH 76 18.182441473007202\n",
            "EPOCH 76 EVAL: \n",
            "\tCURRENT VAL LOSS: -0.490758\n",
            "\tBEST VAL LOSS:    -0.499849\n",
            "\tBEST VAL EPOCH:   71\n",
            "EPOCH 77 18.758373975753784\n",
            "BEST VAL RESULT. SAVING MODEL...\n",
            "EPOCH 77 EVAL: \n",
            "\tCURRENT VAL LOSS: -0.500518\n",
            "\tBEST VAL LOSS:    -0.500518\n",
            "\tBEST VAL EPOCH:   77\n",
            "EPOCH 78 18.325902223587036\n",
            "EPOCH 78 EVAL: \n",
            "\tCURRENT VAL LOSS: -0.496993\n",
            "\tBEST VAL LOSS:    -0.500518\n",
            "\tBEST VAL EPOCH:   77\n",
            "EPOCH 79 18.683995962142944\n",
            "EPOCH 79 EVAL: \n",
            "\tCURRENT VAL LOSS: -0.497510\n",
            "\tBEST VAL LOSS:    -0.500518\n",
            "\tBEST VAL EPOCH:   77\n",
            "EPOCH 80 18.116905689239502\n",
            "EPOCH 80 EVAL: \n",
            "\tCURRENT VAL LOSS: -0.494187\n",
            "\tBEST VAL LOSS:    -0.500518\n",
            "\tBEST VAL EPOCH:   77\n",
            "EPOCH 81 18.67007064819336\n",
            "EPOCH 81 EVAL: \n",
            "\tCURRENT VAL LOSS: -0.498573\n",
            "\tBEST VAL LOSS:    -0.500518\n",
            "\tBEST VAL EPOCH:   77\n",
            "EPOCH 82 18.26628541946411\n",
            "EPOCH 82 EVAL: \n",
            "\tCURRENT VAL LOSS: -0.493106\n",
            "\tBEST VAL LOSS:    -0.500518\n",
            "\tBEST VAL EPOCH:   77\n",
            "EPOCH 83 18.697474002838135\n",
            "EPOCH 83 EVAL: \n",
            "\tCURRENT VAL LOSS: -0.494299\n",
            "\tBEST VAL LOSS:    -0.500518\n",
            "\tBEST VAL EPOCH:   77\n",
            "EPOCH 84 18.493610620498657\n",
            "EPOCH 84 EVAL: \n",
            "\tCURRENT VAL LOSS: -0.499401\n",
            "\tBEST VAL LOSS:    -0.500518\n",
            "\tBEST VAL EPOCH:   77\n",
            "EPOCH 85 18.38406538963318\n",
            "BEST VAL RESULT. SAVING MODEL...\n",
            "EPOCH 85 EVAL: \n",
            "\tCURRENT VAL LOSS: -0.502553\n",
            "\tBEST VAL LOSS:    -0.502553\n",
            "\tBEST VAL EPOCH:   85\n",
            "EPOCH 86 19.06261920928955\n",
            "EPOCH 86 EVAL: \n",
            "\tCURRENT VAL LOSS: -0.500241\n",
            "\tBEST VAL LOSS:    -0.502553\n",
            "\tBEST VAL EPOCH:   85\n",
            "EPOCH 87 18.319181203842163\n",
            "EPOCH 87 EVAL: \n",
            "\tCURRENT VAL LOSS: -0.493357\n",
            "\tBEST VAL LOSS:    -0.502553\n",
            "\tBEST VAL EPOCH:   85\n",
            "EPOCH 88 18.853004932403564\n",
            "EPOCH 88 EVAL: \n",
            "\tCURRENT VAL LOSS: -0.501127\n",
            "\tBEST VAL LOSS:    -0.502553\n",
            "\tBEST VAL EPOCH:   85\n",
            "EPOCH 89 18.188448429107666\n",
            "EPOCH 89 EVAL: \n",
            "\tCURRENT VAL LOSS: -0.487946\n",
            "\tBEST VAL LOSS:    -0.502553\n",
            "\tBEST VAL EPOCH:   85\n",
            "EPOCH 90 18.796293020248413\n",
            "EPOCH 90 EVAL: \n",
            "\tCURRENT VAL LOSS: -0.489924\n",
            "\tBEST VAL LOSS:    -0.502553\n",
            "\tBEST VAL EPOCH:   85\n",
            "EPOCH 91 18.375165700912476\n",
            "EPOCH 91 EVAL: \n",
            "\tCURRENT VAL LOSS: -0.500460\n",
            "\tBEST VAL LOSS:    -0.502553\n",
            "\tBEST VAL EPOCH:   85\n",
            "EPOCH 92 18.771217823028564\n",
            "EPOCH 92 EVAL: \n",
            "\tCURRENT VAL LOSS: -0.501009\n",
            "\tBEST VAL LOSS:    -0.502553\n",
            "\tBEST VAL EPOCH:   85\n",
            "EPOCH 93 18.61702060699463\n",
            "EPOCH 93 EVAL: \n",
            "\tCURRENT VAL LOSS: -0.500474\n",
            "\tBEST VAL LOSS:    -0.502553\n",
            "\tBEST VAL EPOCH:   85\n",
            "EPOCH 94 18.54353404045105\n",
            "EPOCH 94 EVAL: \n",
            "\tCURRENT VAL LOSS: -0.498972\n",
            "\tBEST VAL LOSS:    -0.502553\n",
            "\tBEST VAL EPOCH:   85\n",
            "EPOCH 95 18.140424728393555\n",
            "EPOCH 95 EVAL: \n",
            "\tCURRENT VAL LOSS: -0.489513\n",
            "\tBEST VAL LOSS:    -0.502553\n",
            "\tBEST VAL EPOCH:   85\n",
            "EPOCH 96 18.240089893341064\n",
            "EPOCH 96 EVAL: \n",
            "\tCURRENT VAL LOSS: -0.501088\n",
            "\tBEST VAL LOSS:    -0.502553\n",
            "\tBEST VAL EPOCH:   85\n",
            "EPOCH 97 18.221112728118896\n",
            "EPOCH 97 EVAL: \n",
            "\tCURRENT VAL LOSS: -0.502023\n",
            "\tBEST VAL LOSS:    -0.502553\n",
            "\tBEST VAL EPOCH:   85\n",
            "EPOCH 98 18.265413522720337\n",
            "EPOCH 98 EVAL: \n",
            "\tCURRENT VAL LOSS: -0.499589\n",
            "\tBEST VAL LOSS:    -0.502553\n",
            "\tBEST VAL EPOCH:   85\n",
            "EPOCH 99 19.00606107711792\n",
            "EPOCH 99 EVAL: \n",
            "\tCURRENT VAL LOSS: -0.498824\n",
            "\tBEST VAL LOSS:    -0.502553\n",
            "\tBEST VAL EPOCH:   85\n",
            "EPOCH 100 18.0270779132843\n",
            "EPOCH 100 EVAL: \n",
            "\tCURRENT VAL LOSS: -0.495102\n",
            "\tBEST VAL LOSS:    -0.502553\n",
            "\tBEST VAL EPOCH:   85\n"
          ]
        }
      ]
    },
    {
      "cell_type": "code",
      "source": [
        "#if args.mode == 'eval':\n",
        "test_data = SmallSynthData(args.data_path, 'test', params)\n",
        "forward_pred = 50 - args.test_burn_in_steps\n",
        "test_mse  = evaluate.eval_forward_prediction(model, test_data, args.test_burn_in_steps, forward_pred, params)\n",
        "path = os.path.join(args.working_dir, args.error_out_name%args.test_burn_in_steps)\n",
        "np.save(path, test_mse.cpu().numpy())\n",
        "test_mse_1  = test_mse[0].item()\n",
        "test_mse_15 = test_mse[14].item()\n",
        "test_mse_25 = test_mse[24].item()\n",
        "print(\"FORWARD PRED RESULTS:\")\n",
        "print(\"\\t1 STEP: \", test_mse_1)\n",
        "print(\"\\t15 STEP: \",test_mse_15)\n",
        "print(\"\\t25 STEP: \",test_mse_25)\n",
        "\n",
        "\n",
        "f1, all_acc, acc_0, acc_1, edges = eval_edges(model, val_data, params)\n",
        "print(\"Val Edge results:\")\n",
        "print(\"\\tF1: \",f1)\n",
        "print(\"\\tAll predicted edge accuracy: \",all_acc)\n",
        "print(\"\\tFirst Edge Acc: \",acc_0)\n",
        "print(\"\\tSecond Edge Acc: \",acc_1)\n",
        "out_dir = os.path.join(args.working_dir, 'preds')\n",
        "os.makedirs(out_dir, exist_ok=True)\n",
        "out_path = os.path.join(out_dir, 'encoder_edges.npy')\n",
        "np.save(out_path, edges.numpy())\n",
        "\n",
        "plot_sample(model, test_data, args.test_burn_in_steps, params)"
      ],
      "metadata": {
        "id": "YxOsagrD-2xQ",
        "colab": {
          "base_uri": "https://localhost:8080/"
        },
        "outputId": "e349840c-378c-4ddd-8bc5-fc7d9f4d674d"
      },
      "execution_count": null,
      "outputs": [
        {
          "output_type": "stream",
          "name": "stdout",
          "text": [
            "FORWARD PRED RESULTS:\n",
            "\t1 STEP:  0.00019445005455054343\n",
            "\t15 STEP:  0.0028454724233597517\n",
            "\t25 STEP:  0.004722208715975285\n",
            "Val Edge results:\n",
            "\tF1:  0.0\n",
            "\tAll predicted edge accuracy:  0.9502333333333016\n",
            "\tFirst Edge Acc:  0.9999999999999649\n",
            "\tSecond Edge Acc:  0.0\n",
            "MSE:  0.0037640701048076153\n",
            "MSE:  0.00432803388684988\n",
            "MSE:  0.004118225537240505\n",
            "MSE:  0.0031722034327685833\n",
            "MSE:  0.003790777875110507\n",
            "MSE:  0.003124447073787451\n",
            "MSE:  0.004346059635281563\n",
            "MSE:  0.0042080567218363285\n",
            "MSE:  0.004250859376043081\n",
            "MSE:  0.0043562594801187515\n"
          ]
        }
      ]
    },
    {
      "cell_type": "code",
      "source": [
        "! --test_burn_in_steps 25"
      ],
      "metadata": {
        "colab": {
          "base_uri": "https://localhost:8080/"
        },
        "id": "zBJHL56Af1Wx",
        "outputId": "397af5be-21a1-4765-ec46-eb781a2628d8"
      },
      "execution_count": null,
      "outputs": [
        {
          "output_type": "stream",
          "name": "stdout",
          "text": [
            "/bin/bash: line 1: --test_burn_in_steps: command not found\n"
          ]
        }
      ]
    },
    {
      "cell_type": "code",
      "source": [
        "args = parser.parse_args(f'--mode eval --test_burn_in_steps 25 --load_best_model --data_path {DATA_PATH} --working_dir {WORKING_DIR} {MODEL_ARGS} {TRAINING_ARGS}'.split()); args"
      ],
      "metadata": {
        "colab": {
          "base_uri": "https://localhost:8080/"
        },
        "id": "1t-tlMq5f5Ue",
        "outputId": "9d414a8a-9f73-4c11-a4a3-96f9a666d21e"
      },
      "execution_count": null,
      "outputs": [
        {
          "output_type": "execute_result",
          "data": {
            "text/plain": [
              "Namespace(working_dir='/content/drive/MyDrive/results_1000/nri/seed_1/', gpu=False, seed=1, mode='eval', load_model=None, load_best_model=True, continue_training=False, model_type='nri', num_epochs=100, lr=0.0005, mom=0, batch_size=16, sub_batch_size=None, val_batch_size=None, val_interval=5, test=False, use_adam=True, lr_decay_factor=0.5, lr_decay_steps=200, clip_grad_norm=None, verbose=False, tune_on_nll=True, val_teacher_forcing=True, accumulate_steps=1, max_burn_in_count=-1, no_prior=False, avg_prior=False, add_uniform_prior=False, prior_num_layers=1, prior_hidden_size=256, use_learned_prior=False, graph_type='static', avg_encoder_inputs=False, use_dynamic_graph=False, use_static_encoder=False, decoder_type=None, encoder_rnn_type='lstm', decoder_rnn_type='gru', encoder_hidden=256, encoder_rnn_hidden=None, num_edge_types=2, encoder_dropout=0.0, encoder_unidirectional=False, encoder_bidirectional=False, encoder_no_factor=False, decoder_hidden=256, decoder_msg_hidden=256, decoder_dropout=0.0, skip_first=True, uniform_prior=False, no_edge_prior=0.9, teacher_forcing_steps=-1, gumbel_temp=0.5, train_hard_sample=False, normalize_kl=True, normalize_kl_per_var=False, normalize_nll=True, normalize_nll_per_var=False, kl_coef=1.0, no_encoder_bn=False, encoder_mlp_hidden=256, encoder_mlp_num_layers=3, rnn_hidden=64, teacher_forcing_prior=False, decoder_rnn_hidden=None, encoder_save_eval_memory=False, encoder_normalize_mode=None, normalize_inputs=False, data_path='/content/drive/MyDrive/datos_3_1000_50_128/', same_data_norm=False, no_data_norm=False, error_out_name='prediction_errors_%dstep.npy', prior_variance=5e-05, test_burn_in_steps=25, error_suffix=None, subject_ind=-1)"
            ]
          },
          "metadata": {},
          "execution_count": 29
        }
      ]
    },
    {
      "cell_type": "code",
      "source": [
        "params = vars(args);params"
      ],
      "metadata": {
        "colab": {
          "base_uri": "https://localhost:8080/"
        },
        "id": "vPo8LNLuf52_",
        "outputId": "04d629bd-4b8a-480d-b270-d7c71bbe3a91"
      },
      "execution_count": null,
      "outputs": [
        {
          "output_type": "execute_result",
          "data": {
            "text/plain": [
              "{'working_dir': '/content/drive/MyDrive/results_1000/nri/seed_1/',\n",
              " 'gpu': False,\n",
              " 'seed': 1,\n",
              " 'mode': 'eval',\n",
              " 'load_model': None,\n",
              " 'load_best_model': True,\n",
              " 'continue_training': False,\n",
              " 'model_type': 'nri',\n",
              " 'num_epochs': 100,\n",
              " 'lr': 0.0005,\n",
              " 'mom': 0,\n",
              " 'batch_size': 16,\n",
              " 'sub_batch_size': None,\n",
              " 'val_batch_size': None,\n",
              " 'val_interval': 5,\n",
              " 'test': False,\n",
              " 'use_adam': True,\n",
              " 'lr_decay_factor': 0.5,\n",
              " 'lr_decay_steps': 200,\n",
              " 'clip_grad_norm': None,\n",
              " 'verbose': False,\n",
              " 'tune_on_nll': True,\n",
              " 'val_teacher_forcing': True,\n",
              " 'accumulate_steps': 1,\n",
              " 'max_burn_in_count': -1,\n",
              " 'no_prior': False,\n",
              " 'avg_prior': False,\n",
              " 'add_uniform_prior': False,\n",
              " 'prior_num_layers': 1,\n",
              " 'prior_hidden_size': 256,\n",
              " 'use_learned_prior': False,\n",
              " 'graph_type': 'static',\n",
              " 'avg_encoder_inputs': False,\n",
              " 'use_dynamic_graph': False,\n",
              " 'use_static_encoder': False,\n",
              " 'decoder_type': None,\n",
              " 'encoder_rnn_type': 'lstm',\n",
              " 'decoder_rnn_type': 'gru',\n",
              " 'encoder_hidden': 256,\n",
              " 'encoder_rnn_hidden': None,\n",
              " 'num_edge_types': 2,\n",
              " 'encoder_dropout': 0.0,\n",
              " 'encoder_unidirectional': False,\n",
              " 'encoder_bidirectional': False,\n",
              " 'encoder_no_factor': False,\n",
              " 'decoder_hidden': 256,\n",
              " 'decoder_msg_hidden': 256,\n",
              " 'decoder_dropout': 0.0,\n",
              " 'skip_first': True,\n",
              " 'uniform_prior': False,\n",
              " 'no_edge_prior': 0.9,\n",
              " 'teacher_forcing_steps': -1,\n",
              " 'gumbel_temp': 0.5,\n",
              " 'train_hard_sample': False,\n",
              " 'normalize_kl': True,\n",
              " 'normalize_kl_per_var': False,\n",
              " 'normalize_nll': True,\n",
              " 'normalize_nll_per_var': False,\n",
              " 'kl_coef': 1.0,\n",
              " 'no_encoder_bn': False,\n",
              " 'encoder_mlp_hidden': 256,\n",
              " 'encoder_mlp_num_layers': 3,\n",
              " 'rnn_hidden': 64,\n",
              " 'teacher_forcing_prior': False,\n",
              " 'decoder_rnn_hidden': None,\n",
              " 'encoder_save_eval_memory': False,\n",
              " 'encoder_normalize_mode': None,\n",
              " 'normalize_inputs': False,\n",
              " 'data_path': '/content/drive/MyDrive/datos_3_1000_50_128/',\n",
              " 'same_data_norm': False,\n",
              " 'no_data_norm': False,\n",
              " 'error_out_name': 'prediction_errors_%dstep.npy',\n",
              " 'prior_variance': 5e-05,\n",
              " 'test_burn_in_steps': 25,\n",
              " 'error_suffix': None,\n",
              " 'subject_ind': -1}"
            ]
          },
          "metadata": {},
          "execution_count": 30
        }
      ]
    },
    {
      "cell_type": "code",
      "source": [
        "misc.seed(args.seed) # set seed for numpy torch cuda and random libs"
      ],
      "metadata": {
        "id": "_VD4ZuRmf8Bl"
      },
      "execution_count": null,
      "outputs": []
    },
    {
      "cell_type": "code",
      "source": [
        "params['num_vars'] = 3\n",
        "params['input_size'] = 2\n",
        "params['input_time_steps'] = 50\n",
        "params['nll_loss_type'] = 'gaussian'\n",
        "train_data = SmallSynthData(args.data_path, 'train', params)\n",
        "val_data   = SmallSynthData(args.data_path, 'val', params)"
      ],
      "metadata": {
        "id": "VGGMP4kHf-y3"
      },
      "execution_count": null,
      "outputs": []
    },
    {
      "cell_type": "code",
      "source": [
        "model = model_builder.build_model(params)"
      ],
      "metadata": {
        "colab": {
          "base_uri": "https://localhost:8080/"
        },
        "id": "DSnZ3s1KgCP-",
        "outputId": "e4703e6f-f2ab-43f5-ca54-dd14576af8a5"
      },
      "execution_count": null,
      "outputs": [
        {
          "output_type": "stream",
          "name": "stdout",
          "text": [
            "Using factor graph MLP encoder.\n",
            "ENCODER:  RefMLPEncoder(\n",
            "  (mlp1): RefNRIMLP(\n",
            "    (model): Sequential(\n",
            "      (0): Linear(in_features=100, out_features=256, bias=True)\n",
            "      (1): ELU(alpha=1.0, inplace=True)\n",
            "      (2): Dropout(p=0.0, inplace=False)\n",
            "      (3): Linear(in_features=256, out_features=256, bias=True)\n",
            "      (4): ELU(alpha=1.0, inplace=True)\n",
            "    )\n",
            "    (bn): BatchNorm1d(256, eps=1e-05, momentum=0.1, affine=True, track_running_stats=True)\n",
            "  )\n",
            "  (mlp2): RefNRIMLP(\n",
            "    (model): Sequential(\n",
            "      (0): Linear(in_features=512, out_features=256, bias=True)\n",
            "      (1): ELU(alpha=1.0, inplace=True)\n",
            "      (2): Dropout(p=0.0, inplace=False)\n",
            "      (3): Linear(in_features=256, out_features=256, bias=True)\n",
            "      (4): ELU(alpha=1.0, inplace=True)\n",
            "    )\n",
            "    (bn): BatchNorm1d(256, eps=1e-05, momentum=0.1, affine=True, track_running_stats=True)\n",
            "  )\n",
            "  (mlp3): RefNRIMLP(\n",
            "    (model): Sequential(\n",
            "      (0): Linear(in_features=256, out_features=256, bias=True)\n",
            "      (1): ELU(alpha=1.0, inplace=True)\n",
            "      (2): Dropout(p=0.0, inplace=False)\n",
            "      (3): Linear(in_features=256, out_features=256, bias=True)\n",
            "      (4): ELU(alpha=1.0, inplace=True)\n",
            "    )\n",
            "    (bn): BatchNorm1d(256, eps=1e-05, momentum=0.1, affine=True, track_running_stats=True)\n",
            "  )\n",
            "  (mlp4): RefNRIMLP(\n",
            "    (model): Sequential(\n",
            "      (0): Linear(in_features=768, out_features=256, bias=True)\n",
            "      (1): ELU(alpha=1.0, inplace=True)\n",
            "      (2): Dropout(p=0.0, inplace=False)\n",
            "      (3): Linear(in_features=256, out_features=256, bias=True)\n",
            "      (4): ELU(alpha=1.0, inplace=True)\n",
            "    )\n",
            "    (bn): BatchNorm1d(256, eps=1e-05, momentum=0.1, affine=True, track_running_stats=True)\n",
            "  )\n",
            "  (fc_out): Sequential(\n",
            "    (0): Linear(in_features=256, out_features=256, bias=True)\n",
            "    (1): ELU(alpha=1.0, inplace=True)\n",
            "    (2): Linear(in_features=256, out_features=256, bias=True)\n",
            "    (3): ELU(alpha=1.0, inplace=True)\n",
            "    (4): Linear(in_features=256, out_features=2, bias=True)\n",
            "  )\n",
            ")\n",
            "Using learned recurrent interaction net decoder.\n",
            "DECODER:  GraphRNNDecoder(\n",
            "  (msg_fc1): ModuleList(\n",
            "    (0-1): 2 x Linear(in_features=512, out_features=256, bias=True)\n",
            "  )\n",
            "  (msg_fc2): ModuleList(\n",
            "    (0-1): 2 x Linear(in_features=256, out_features=256, bias=True)\n",
            "  )\n",
            "  (hidden_r): Linear(in_features=256, out_features=256, bias=False)\n",
            "  (hidden_i): Linear(in_features=256, out_features=256, bias=False)\n",
            "  (hidden_h): Linear(in_features=256, out_features=256, bias=False)\n",
            "  (input_r): Linear(in_features=2, out_features=256, bias=True)\n",
            "  (input_i): Linear(in_features=2, out_features=256, bias=True)\n",
            "  (input_n): Linear(in_features=2, out_features=256, bias=True)\n",
            "  (out_fc1): Linear(in_features=256, out_features=256, bias=True)\n",
            "  (out_fc2): Linear(in_features=256, out_features=256, bias=True)\n",
            "  (out_fc3): Linear(in_features=256, out_features=2, bias=True)\n",
            ")\n",
            "USING NO EDGE PRIOR:  tensor([[[-0.1054, -2.3026]]])\n",
            "LOADING BEST MODEL\n"
          ]
        }
      ]
    },
    {
      "cell_type": "code",
      "source": [
        "if args.mode == 'eval':\n",
        "    test_data = SmallSynthData(args.data_path, 'test', params)\n",
        "    forward_pred = 50 - args.test_burn_in_steps\n",
        "    test_mse  = evaluate.eval_forward_prediction(model, test_data, args.test_burn_in_steps, forward_pred, params)\n",
        "    path = os.path.join(args.working_dir, args.error_out_name%args.test_burn_in_steps)\n",
        "    np.save(path, test_mse.cpu().numpy())\n",
        "    test_mse_1  = test_mse[0].item()\n",
        "    test_mse_15 = test_mse[14].item()\n",
        "    test_mse_25 = test_mse[24].item()\n",
        "    print(\"FORWARD PRED RESULTS:\")\n",
        "    print(\"\\t1 STEP: \", test_mse_1)\n",
        "    print(\"\\t15 STEP: \",test_mse_15)\n",
        "    print(\"\\t25 STEP: \",test_mse_25)\n",
        "\n",
        "\n",
        "    f1, all_acc, acc_0, acc_1, edges = eval_edges(model, val_data, params)\n",
        "    print(\"Val Edge results:\")\n",
        "    print(\"\\tF1: \",f1)\n",
        "    print(\"\\tAll predicted edge accuracy: \",all_acc)\n",
        "    print(\"\\tFirst Edge Acc: \",acc_0)\n",
        "    print(\"\\tSecond Edge Acc: \",acc_1)\n",
        "    out_dir = os.path.join(args.working_dir, 'preds_eval_best_25')\n",
        "    os.makedirs(out_dir, exist_ok=True)\n",
        "    out_path = os.path.join(out_dir, 'encoder_edges.npy')\n",
        "    np.save(out_path, edges.numpy())\n",
        "\n",
        "    plot_sample(model, test_data, args.test_burn_in_steps, params)"
      ],
      "metadata": {
        "colab": {
          "base_uri": "https://localhost:8080/"
        },
        "id": "mWjolyhOgFXF",
        "outputId": "b543afec-c1ef-48d1-97cb-e17aac7e7627"
      },
      "execution_count": null,
      "outputs": [
        {
          "output_type": "stream",
          "name": "stdout",
          "text": [
            "FORWARD PRED RESULTS:\n",
            "\t1 STEP:  0.0001786235225154087\n",
            "\t15 STEP:  0.0025711969938129187\n",
            "\t25 STEP:  0.004185905680060387\n",
            "Val Edge results:\n",
            "\tF1:  0.0\n",
            "\tAll predicted edge accuracy:  0.9502333333333016\n",
            "\tFirst Edge Acc:  0.9999999999999649\n",
            "\tSecond Edge Acc:  0.0\n",
            "MSE:  0.003529307898133993\n",
            "MSE:  0.004158763214945793\n",
            "MSE:  0.003856903873383999\n",
            "MSE:  0.0027447794564068317\n",
            "MSE:  0.003594917943701148\n",
            "MSE:  0.0029372877907007933\n",
            "MSE:  0.004263527691364288\n",
            "MSE:  0.004048086237162352\n",
            "MSE:  0.003793267998844385\n",
            "MSE:  0.00400570360943675\n",
            "MSE:  0.003737184451892972\n"
          ]
        },
        {
          "output_type": "stream",
          "name": "stderr",
          "text": [
            "<ipython-input-17-30936ab70676>:97: RuntimeWarning: More than 20 figures have been opened. Figures created through the pyplot interface (`matplotlib.pyplot.figure`) are retained until explicitly closed and may consume too much memory. (To control this warning, see the rcParam `figure.max_open_warning`). Consider using `matplotlib.pyplot.close()`.\n",
            "  fig, ax = plt.subplots()\n"
          ]
        },
        {
          "output_type": "stream",
          "name": "stdout",
          "text": [
            "MSE:  0.004326538182795048\n",
            "MSE:  0.0039019654504954815\n",
            "MSE:  0.0036658027675002813\n",
            "MSE:  0.0040575722232460976\n",
            "MSE:  0.003606787184253335\n",
            "MSE:  0.0032398169860243797\n",
            "MSE:  0.003094239393249154\n",
            "MSE:  0.005457522347569466\n",
            "MSE:  0.003349598729982972\n",
            "MSE:  0.0033209624234586954\n",
            "MSE:  0.003752193646505475\n",
            "MSE:  0.004018888343125582\n",
            "MSE:  0.004000757820904255\n",
            "MSE:  0.003184375585988164\n"
          ]
        }
      ]
    },
    {
      "cell_type": "code",
      "source": [
        "if args.mode == 'record_predictions':\n",
        "    model.eval()\n",
        "    burn_in = args.test_burn_in_steps\n",
        "    forward_pred = 50 - args.test_burn_in_steps\n",
        "    test_data = SmallSynthData(args.data_path, 'test', params)\n",
        "    if args.subject_ind == -1:\n",
        "        val_data_loader = DataLoader(test_data, batch_size=params['batch_size'])\n",
        "        all_predictions = []\n",
        "        all_edges = []\n",
        "        for batch_ind,batch in enumerate(val_data_loader):\n",
        "            print(\"BATCH %d of %d\"%(batch_ind+1, len(val_data_loader)))\n",
        "            inputs = batch['inputs']\n",
        "            if args.gpu:\n",
        "                inputs = inputs.cuda(non_blocking=True)\n",
        "            with torch.no_grad():\n",
        "                predictions, edges = model.predict_future(inputs[:, :burn_in], forward_pred, return_edges=True, return_everything=True)\n",
        "                all_predictions.append(predictions)\n",
        "                all_edges.append(edges)\n",
        "        if args.error_suffix is not None:\n",
        "            out_path = os.path.join(args.working_dir, 'preds/', 'all_test_subjects_%s.npy'%args.error_suffix)\n",
        "        else:\n",
        "            out_path = os.path.join(args.working_dir, 'preds/', 'all_test_subjects.npy')\n",
        "\n",
        "        predictions = torch.cat(all_predictions, dim=0)\n",
        "        edges = torch.cat(all_edges, dim=0)\n",
        "\n",
        "    else:\n",
        "        data = test_data[args.subject_ind]\n",
        "        inputs = data['inputs'].unsqueeze(0)\n",
        "        if args.gpu:\n",
        "            inputs = inputs.cuda(non_blocking=True)\n",
        "        with torch.no_grad():\n",
        "            predictions, edges = model.predict_future(inputs[:, :burn_in], forward_pred, return_edges=True, return_everything=True)\n",
        "            predictions = predictions.squeeze(0)\n",
        "            edges = edges.squeeze(0)\n",
        "        out_path = os.path.join(args.working_dir, 'preds/', 'subject_%d.npy'%args.subject_ind)\n",
        "    tmp_dir = os.path.join(args.working_dir, 'preds/')\n",
        "    if not os.path.exists(tmp_dir):\n",
        "        os.makedirs(tmp_dir)\n",
        "    torch.save([predictions.cpu(), edges.cpu()], out_path)"
      ],
      "metadata": {
        "id": "M4CBZSxYgJPX"
      },
      "execution_count": null,
      "outputs": []
    },
    {
      "cell_type": "markdown",
      "source": [
        "**DNIR**"
      ],
      "metadata": {
        "id": "LTkfklXCHJh4"
      }
    },
    {
      "cell_type": "code",
      "source": [
        "WORKING_DIR=f\"{BASE_RESULTS_DIR}dnri/seed_{SEED}/\"\n",
        "ENCODER_ARGS=\"--encoder_hidden 256 --encoder_mlp_num_layers 3 --encoder_mlp_hidden 128 --encoder_rnn_hidden 64\"\n",
        "DECODER_ARGS=\"--decoder_hidden 256 --decoder_type ref_mlp\"\n",
        "HIDDEN_ARGS=\"--rnn_hidden 64\"\n",
        "PRIOR_ARGS=\"--use_learned_prior --prior_num_layers 3 --prior_hidden_size 128\"\n",
        "MODEL_ARGS=f\"--model_type dnri --graph_type dynamic --skip_first --num_edge_types 2\n",
        "{ENCODER_ARGS} {DECODER_ARGS} {HIDDEN_ARGS} {PRIOR_ARGS} --seed {SEED}\"\n",
        "TRAINING_ARGS='--add_uniform_prior --no_edge_prior 0.7 --batch_size 16 --lr 5e-4 --use_adam\n",
        "--num_epochs 200 --lr_decay_factor 0.5 --lr_decay_steps 200 --normalize_kl --normalize_nll --tune_on_nll\n",
        "--val_teacher_forcing --teacher_forcing_steps -1'"
      ],
      "metadata": {
        "id": "OL4UdNduHO1c"
      },
      "execution_count": 120,
      "outputs": []
    },
    {
      "cell_type": "code",
      "source": [
        "args = parser.parse_args(f'--mode train --data_path {DATA_PATH} --working_dir {WORKING_DIR} {MODEL_ARGS} {TRAINING_ARGS} --gpu'.split()); args"
      ],
      "metadata": {
        "colab": {
          "base_uri": "https://localhost:8080/"
        },
        "id": "5Dhl_ssWJs6l",
        "outputId": "59b1016a-0ea2-4f57-d79b-8df120ed48f3"
      },
      "execution_count": 121,
      "outputs": [
        {
          "output_type": "execute_result",
          "data": {
            "text/plain": [
              "Namespace(working_dir='/content/drive/MyDrive/results1/dnri/seed_1/', gpu=True, seed=1, mode='train', load_model=None, load_best_model=False, continue_training=False, model_type='dnri', num_epochs=200, lr=0.0005, mom=0, batch_size=16, sub_batch_size=None, val_batch_size=None, val_interval=5, test=False, use_adam=True, lr_decay_factor=0.5, lr_decay_steps=200, clip_grad_norm=None, verbose=False, tune_on_nll=True, val_teacher_forcing=True, accumulate_steps=1, max_burn_in_count=-1, no_prior=False, avg_prior=False, add_uniform_prior=True, prior_num_layers=4, prior_hidden_size=128, use_learned_prior=True, graph_type='dynamic', avg_encoder_inputs=False, use_dynamic_graph=False, use_static_encoder=False, decoder_type='ref_mlp', encoder_rnn_type='lstm', decoder_rnn_type='gru', encoder_hidden=256, encoder_rnn_hidden=64, num_edge_types=2, encoder_dropout=0.0, encoder_unidirectional=False, encoder_bidirectional=False, encoder_no_factor=False, decoder_hidden=512, decoder_msg_hidden=256, decoder_dropout=0.0, skip_first=True, uniform_prior=False, no_edge_prior=0.7, teacher_forcing_steps=-1, gumbel_temp=0.5, train_hard_sample=False, normalize_kl=True, normalize_kl_per_var=False, normalize_nll=True, normalize_nll_per_var=False, kl_coef=1.0, no_encoder_bn=False, encoder_mlp_hidden=128, encoder_mlp_num_layers=4, rnn_hidden=128, teacher_forcing_prior=False, decoder_rnn_hidden=None, encoder_save_eval_memory=False, encoder_normalize_mode=None, normalize_inputs=False, data_path='/content/drive/MyDrive/datos_3_1000_50_128/', same_data_norm=False, no_data_norm=False, error_out_name='prediction_errors_%dstep.npy', prior_variance=5e-05, test_burn_in_steps=10, error_suffix=None, subject_ind=-1)"
            ]
          },
          "metadata": {},
          "execution_count": 121
        }
      ]
    },
    {
      "cell_type": "code",
      "source": [
        "args = parser.parse_args(f'--mode train --data_path {DATA_PATH} --working_dir {WORKING_DIR} {MODEL_ARGS} {TRAINING_ARGS}'.split()); args"
      ],
      "metadata": {
        "id": "39vceBnyHP1B",
        "colab": {
          "base_uri": "https://localhost:8080/"
        },
        "outputId": "cc6278db-78e2-4c4c-db4c-24673303a120"
      },
      "execution_count": 71,
      "outputs": [
        {
          "output_type": "execute_result",
          "data": {
            "text/plain": [
              "Namespace(working_dir='/content/drive/MyDrive/results1/dnri/seed_1/', gpu=False, seed=1, mode='train', load_model=None, load_best_model=False, continue_training=False, model_type='dnri', num_epochs=200, lr=0.0005, mom=0, batch_size=16, sub_batch_size=None, val_batch_size=None, val_interval=5, test=False, use_adam=True, lr_decay_factor=0.5, lr_decay_steps=200, clip_grad_norm=None, verbose=False, tune_on_nll=True, val_teacher_forcing=True, accumulate_steps=1, max_burn_in_count=-1, no_prior=False, avg_prior=False, add_uniform_prior=True, prior_num_layers=4, prior_hidden_size=128, use_learned_prior=True, graph_type='dynamic', avg_encoder_inputs=False, use_dynamic_graph=False, use_static_encoder=False, decoder_type='ref_mlp', encoder_rnn_type='lstm', decoder_rnn_type='gru', encoder_hidden=256, encoder_rnn_hidden=64, num_edge_types=2, encoder_dropout=0.0, encoder_unidirectional=False, encoder_bidirectional=False, encoder_no_factor=False, decoder_hidden=256, decoder_msg_hidden=256, decoder_dropout=0.0, skip_first=True, uniform_prior=False, no_edge_prior=0.9, teacher_forcing_steps=-1, gumbel_temp=0.5, train_hard_sample=False, normalize_kl=True, normalize_kl_per_var=False, normalize_nll=True, normalize_nll_per_var=False, kl_coef=1.0, no_encoder_bn=False, encoder_mlp_hidden=128, encoder_mlp_num_layers=4, rnn_hidden=64, teacher_forcing_prior=False, decoder_rnn_hidden=None, encoder_save_eval_memory=False, encoder_normalize_mode=None, normalize_inputs=False, data_path='/content/drive/MyDrive/datos_3_1000_50_128/', same_data_norm=False, no_data_norm=False, error_out_name='prediction_errors_%dstep.npy', prior_variance=5e-05, test_burn_in_steps=10, error_suffix=None, subject_ind=-1)"
            ]
          },
          "metadata": {},
          "execution_count": 71
        }
      ]
    },
    {
      "cell_type": "code",
      "source": [
        "params = vars(args);params"
      ],
      "metadata": {
        "id": "hTaEmC_-HTnK",
        "colab": {
          "base_uri": "https://localhost:8080/"
        },
        "outputId": "05fd1f75-051f-4b14-b8f7-4f96d3d589e9"
      },
      "execution_count": 122,
      "outputs": [
        {
          "output_type": "execute_result",
          "data": {
            "text/plain": [
              "{'working_dir': '/content/drive/MyDrive/results1/dnri/seed_1/',\n",
              " 'gpu': True,\n",
              " 'seed': 1,\n",
              " 'mode': 'train',\n",
              " 'load_model': None,\n",
              " 'load_best_model': False,\n",
              " 'continue_training': False,\n",
              " 'model_type': 'dnri',\n",
              " 'num_epochs': 200,\n",
              " 'lr': 0.0005,\n",
              " 'mom': 0,\n",
              " 'batch_size': 16,\n",
              " 'sub_batch_size': None,\n",
              " 'val_batch_size': None,\n",
              " 'val_interval': 5,\n",
              " 'test': False,\n",
              " 'use_adam': True,\n",
              " 'lr_decay_factor': 0.5,\n",
              " 'lr_decay_steps': 200,\n",
              " 'clip_grad_norm': None,\n",
              " 'verbose': False,\n",
              " 'tune_on_nll': True,\n",
              " 'val_teacher_forcing': True,\n",
              " 'accumulate_steps': 1,\n",
              " 'max_burn_in_count': -1,\n",
              " 'no_prior': False,\n",
              " 'avg_prior': False,\n",
              " 'add_uniform_prior': True,\n",
              " 'prior_num_layers': 4,\n",
              " 'prior_hidden_size': 128,\n",
              " 'use_learned_prior': True,\n",
              " 'graph_type': 'dynamic',\n",
              " 'avg_encoder_inputs': False,\n",
              " 'use_dynamic_graph': False,\n",
              " 'use_static_encoder': False,\n",
              " 'decoder_type': 'ref_mlp',\n",
              " 'encoder_rnn_type': 'lstm',\n",
              " 'decoder_rnn_type': 'gru',\n",
              " 'encoder_hidden': 256,\n",
              " 'encoder_rnn_hidden': 64,\n",
              " 'num_edge_types': 2,\n",
              " 'encoder_dropout': 0.0,\n",
              " 'encoder_unidirectional': False,\n",
              " 'encoder_bidirectional': False,\n",
              " 'encoder_no_factor': False,\n",
              " 'decoder_hidden': 512,\n",
              " 'decoder_msg_hidden': 256,\n",
              " 'decoder_dropout': 0.0,\n",
              " 'skip_first': True,\n",
              " 'uniform_prior': False,\n",
              " 'no_edge_prior': 0.7,\n",
              " 'teacher_forcing_steps': -1,\n",
              " 'gumbel_temp': 0.5,\n",
              " 'train_hard_sample': False,\n",
              " 'normalize_kl': True,\n",
              " 'normalize_kl_per_var': False,\n",
              " 'normalize_nll': True,\n",
              " 'normalize_nll_per_var': False,\n",
              " 'kl_coef': 1.0,\n",
              " 'no_encoder_bn': False,\n",
              " 'encoder_mlp_hidden': 128,\n",
              " 'encoder_mlp_num_layers': 4,\n",
              " 'rnn_hidden': 128,\n",
              " 'teacher_forcing_prior': False,\n",
              " 'decoder_rnn_hidden': None,\n",
              " 'encoder_save_eval_memory': False,\n",
              " 'encoder_normalize_mode': None,\n",
              " 'normalize_inputs': False,\n",
              " 'data_path': '/content/drive/MyDrive/datos_3_1000_50_128/',\n",
              " 'same_data_norm': False,\n",
              " 'no_data_norm': False,\n",
              " 'error_out_name': 'prediction_errors_%dstep.npy',\n",
              " 'prior_variance': 5e-05,\n",
              " 'test_burn_in_steps': 10,\n",
              " 'error_suffix': None,\n",
              " 'subject_ind': -1}"
            ]
          },
          "metadata": {},
          "execution_count": 122
        }
      ]
    },
    {
      "cell_type": "code",
      "source": [
        "misc.seed(args.seed) # set seed for numpy torch cuda and random libs"
      ],
      "metadata": {
        "id": "RF1ZOS8fHWPu"
      },
      "execution_count": 123,
      "outputs": []
    },
    {
      "cell_type": "code",
      "source": [
        "params['num_vars'] = 3\n",
        "params['input_size'] = 2\n",
        "params['input_time_steps'] = 50\n",
        "params['nll_loss_type'] = 'gaussian'\n",
        "train_data = SmallSynthData(args.data_path, 'train', params)\n",
        "val_data   = SmallSynthData(args.data_path, 'val', params)"
      ],
      "metadata": {
        "id": "3t03eZuLHYWD",
        "colab": {
          "base_uri": "https://localhost:8080/"
        },
        "outputId": "d8f99e09-e759-433d-e8f0-1197555bc920"
      },
      "execution_count": 124,
      "outputs": [
        {
          "output_type": "stream",
          "name": "stderr",
          "text": [
            "/content/TFM/dnri/datasets/small_synth_data.py:20: FutureWarning: You are using `torch.load` with `weights_only=False` (the current default value), which uses the default pickle module implicitly. It is possible to construct malicious pickle data which will execute arbitrary code during unpickling (See https://github.com/pytorch/pytorch/blob/main/SECURITY.md#untrusted-models for more details). In a future release, the default value for `weights_only` will be flipped to `True`. This limits the functions that could be executed during unpickling. Arbitrary objects will no longer be allowed to be loaded via this mode unless they are explicitly allowlisted by the user via `torch.serialization.add_safe_globals`. We recommend you start setting `weights_only=True` for any use case where you don't have full control of the loaded file. Please open an issue on GitHub for any issues related to this experimental feature.\n",
            "  self.feats = torch.load(path)\n",
            "/content/TFM/dnri/datasets/small_synth_data.py:21: FutureWarning: You are using `torch.load` with `weights_only=False` (the current default value), which uses the default pickle module implicitly. It is possible to construct malicious pickle data which will execute arbitrary code during unpickling (See https://github.com/pytorch/pytorch/blob/main/SECURITY.md#untrusted-models for more details). In a future release, the default value for `weights_only` will be flipped to `True`. This limits the functions that could be executed during unpickling. Arbitrary objects will no longer be allowed to be loaded via this mode unless they are explicitly allowlisted by the user via `torch.serialization.add_safe_globals`. We recommend you start setting `weights_only=True` for any use case where you don't have full control of the loaded file. Please open an issue on GitHub for any issues related to this experimental feature.\n",
            "  self.edges = torch.load(edge_path)\n",
            "/content/TFM/dnri/datasets/small_synth_data.py:28: FutureWarning: You are using `torch.load` with `weights_only=False` (the current default value), which uses the default pickle module implicitly. It is possible to construct malicious pickle data which will execute arbitrary code during unpickling (See https://github.com/pytorch/pytorch/blob/main/SECURITY.md#untrusted-models for more details). In a future release, the default value for `weights_only` will be flipped to `True`. This limits the functions that could be executed during unpickling. Arbitrary objects will no longer be allowed to be loaded via this mode unless they are explicitly allowlisted by the user via `torch.serialization.add_safe_globals`. We recommend you start setting `weights_only=True` for any use case where you don't have full control of the loaded file. Please open an issue on GitHub for any issues related to this experimental feature.\n",
            "  train_data = torch.load(os.path.join(self.data_path, 'train_feats'))\n"
          ]
        }
      ]
    },
    {
      "cell_type": "code",
      "source": [
        "model = model_builder.build_model(params)"
      ],
      "metadata": {
        "id": "6pdnsJ0hHb7b",
        "colab": {
          "base_uri": "https://localhost:8080/"
        },
        "outputId": "7b5e5a8a-02a7-44bd-bfb3-c2d4fefd6e6e"
      },
      "execution_count": 125,
      "outputs": [
        {
          "output_type": "stream",
          "name": "stdout",
          "text": [
            "Using learned interaction net decoder.\n",
            "USING NO EDGE PRIOR:  tensor([[[-0.3567, -1.2040]]], device='cuda:0')\n",
            "dNRI MODEL:  DNRI(\n",
            "  (encoder): DNRI_Encoder(\n",
            "    (mlp1): RefNRIMLP(\n",
            "      (model): Sequential(\n",
            "        (0): Linear(in_features=2, out_features=256, bias=True)\n",
            "        (1): ELU(alpha=1.0, inplace=True)\n",
            "        (2): Dropout(p=0.0, inplace=False)\n",
            "        (3): Linear(in_features=256, out_features=256, bias=True)\n",
            "        (4): ELU(alpha=1.0, inplace=True)\n",
            "      )\n",
            "      (bn): BatchNorm1d(256, eps=1e-05, momentum=0.1, affine=True, track_running_stats=True)\n",
            "    )\n",
            "    (mlp2): RefNRIMLP(\n",
            "      (model): Sequential(\n",
            "        (0): Linear(in_features=512, out_features=256, bias=True)\n",
            "        (1): ELU(alpha=1.0, inplace=True)\n",
            "        (2): Dropout(p=0.0, inplace=False)\n",
            "        (3): Linear(in_features=256, out_features=256, bias=True)\n",
            "        (4): ELU(alpha=1.0, inplace=True)\n",
            "      )\n",
            "      (bn): BatchNorm1d(256, eps=1e-05, momentum=0.1, affine=True, track_running_stats=True)\n",
            "    )\n",
            "    (mlp3): RefNRIMLP(\n",
            "      (model): Sequential(\n",
            "        (0): Linear(in_features=256, out_features=256, bias=True)\n",
            "        (1): ELU(alpha=1.0, inplace=True)\n",
            "        (2): Dropout(p=0.0, inplace=False)\n",
            "        (3): Linear(in_features=256, out_features=256, bias=True)\n",
            "        (4): ELU(alpha=1.0, inplace=True)\n",
            "      )\n",
            "      (bn): BatchNorm1d(256, eps=1e-05, momentum=0.1, affine=True, track_running_stats=True)\n",
            "    )\n",
            "    (mlp4): RefNRIMLP(\n",
            "      (model): Sequential(\n",
            "        (0): Linear(in_features=768, out_features=256, bias=True)\n",
            "        (1): ELU(alpha=1.0, inplace=True)\n",
            "        (2): Dropout(p=0.0, inplace=False)\n",
            "        (3): Linear(in_features=256, out_features=256, bias=True)\n",
            "        (4): ELU(alpha=1.0, inplace=True)\n",
            "      )\n",
            "      (bn): BatchNorm1d(256, eps=1e-05, momentum=0.1, affine=True, track_running_stats=True)\n",
            "    )\n",
            "    (forward_rnn): LSTM(256, 64, batch_first=True)\n",
            "    (reverse_rnn): LSTM(256, 64, batch_first=True)\n",
            "    (encoder_fc_out): Sequential(\n",
            "      (0): Linear(in_features=128, out_features=128, bias=True)\n",
            "      (1): ELU(alpha=1.0, inplace=True)\n",
            "      (2): Linear(in_features=128, out_features=128, bias=True)\n",
            "      (3): ELU(alpha=1.0, inplace=True)\n",
            "      (4): Linear(in_features=128, out_features=128, bias=True)\n",
            "      (5): ELU(alpha=1.0, inplace=True)\n",
            "      (6): Linear(in_features=128, out_features=2, bias=True)\n",
            "    )\n",
            "    (prior_fc_out): Sequential(\n",
            "      (0): Linear(in_features=64, out_features=128, bias=True)\n",
            "      (1): ELU(alpha=1.0, inplace=True)\n",
            "      (2): Linear(in_features=128, out_features=128, bias=True)\n",
            "      (3): ELU(alpha=1.0, inplace=True)\n",
            "      (4): Linear(in_features=128, out_features=128, bias=True)\n",
            "      (5): ELU(alpha=1.0, inplace=True)\n",
            "      (6): Linear(in_features=128, out_features=2, bias=True)\n",
            "    )\n",
            "  )\n",
            "  (decoder): DNRI_MLP_Decoder(\n",
            "    (msg_fc1): ModuleList(\n",
            "      (0-1): 2 x Linear(in_features=4, out_features=512, bias=True)\n",
            "    )\n",
            "    (msg_fc2): ModuleList(\n",
            "      (0-1): 2 x Linear(in_features=512, out_features=512, bias=True)\n",
            "    )\n",
            "    (out_fc1): Linear(in_features=514, out_features=512, bias=True)\n",
            "    (out_fc2): Linear(in_features=512, out_features=512, bias=True)\n",
            "    (out_fc3): Linear(in_features=512, out_features=2, bias=True)\n",
            "  )\n",
            ")\n"
          ]
        }
      ]
    },
    {
      "cell_type": "code",
      "source": [
        "params['gpu']"
      ],
      "metadata": {
        "colab": {
          "base_uri": "https://localhost:8080/"
        },
        "id": "30XsNWjswuyv",
        "outputId": "0b17e353-870b-487c-ef2c-123df8458e3f"
      },
      "execution_count": 126,
      "outputs": [
        {
          "output_type": "execute_result",
          "data": {
            "text/plain": [
              "True"
            ]
          },
          "metadata": {},
          "execution_count": 126
        }
      ]
    },
    {
      "cell_type": "code",
      "source": [
        "if args.mode == 'train':\n",
        "    with train_utils.build_writers(args.working_dir) as (train_writer, val_writer):\n",
        "        train.train(model, train_data, val_data, params, train_writer, val_writer)"
      ],
      "metadata": {
        "id": "em9BQsjcHfrh",
        "colab": {
          "base_uri": "https://localhost:8080/"
        },
        "outputId": "c5f7e968-bebd-44d0-bf38-18dae1c0b5d1"
      },
      "execution_count": 127,
      "outputs": [
        {
          "output_type": "stream",
          "name": "stdout",
          "text": [
            "EPOCH 1 0\n",
            "BEST VAL RESULT. SAVING MODEL...\n",
            "EPOCH 1 EVAL: \n",
            "\tCURRENT VAL LOSS: -0.484199\n",
            "\tBEST VAL LOSS:    -0.484199\n",
            "\tBEST VAL EPOCH:   1\n",
            "EPOCH 2 11.820839166641235\n",
            "EPOCH 2 EVAL: \n",
            "\tCURRENT VAL LOSS: -0.461351\n",
            "\tBEST VAL LOSS:    -0.484199\n",
            "\tBEST VAL EPOCH:   1\n",
            "EPOCH 3 11.52490782737732\n",
            "EPOCH 3 EVAL: \n",
            "\tCURRENT VAL LOSS: -0.478217\n",
            "\tBEST VAL LOSS:    -0.484199\n",
            "\tBEST VAL EPOCH:   1\n",
            "EPOCH 4 11.583863496780396\n",
            "BEST VAL RESULT. SAVING MODEL...\n",
            "EPOCH 4 EVAL: \n",
            "\tCURRENT VAL LOSS: -0.490545\n",
            "\tBEST VAL LOSS:    -0.490545\n",
            "\tBEST VAL EPOCH:   4\n",
            "EPOCH 5 11.509497165679932\n",
            "BEST VAL RESULT. SAVING MODEL...\n",
            "EPOCH 5 EVAL: \n",
            "\tCURRENT VAL LOSS: -0.495764\n",
            "\tBEST VAL LOSS:    -0.495764\n",
            "\tBEST VAL EPOCH:   5\n",
            "EPOCH 6 11.410351991653442\n",
            "EPOCH 6 EVAL: \n",
            "\tCURRENT VAL LOSS: -0.483890\n",
            "\tBEST VAL LOSS:    -0.495764\n",
            "\tBEST VAL EPOCH:   5\n",
            "EPOCH 7 11.397940397262573\n",
            "EPOCH 7 EVAL: \n",
            "\tCURRENT VAL LOSS: -0.476722\n",
            "\tBEST VAL LOSS:    -0.495764\n",
            "\tBEST VAL EPOCH:   5\n",
            "EPOCH 8 11.47929072380066\n",
            "EPOCH 8 EVAL: \n",
            "\tCURRENT VAL LOSS: -0.490063\n",
            "\tBEST VAL LOSS:    -0.495764\n",
            "\tBEST VAL EPOCH:   5\n",
            "EPOCH 9 11.41843581199646\n",
            "EPOCH 9 EVAL: \n",
            "\tCURRENT VAL LOSS: -0.484908\n",
            "\tBEST VAL LOSS:    -0.495764\n",
            "\tBEST VAL EPOCH:   5\n",
            "EPOCH 10 11.349275827407837\n",
            "EPOCH 10 EVAL: \n",
            "\tCURRENT VAL LOSS: -0.485604\n",
            "\tBEST VAL LOSS:    -0.495764\n",
            "\tBEST VAL EPOCH:   5\n",
            "EPOCH 11 11.299930334091187\n",
            "EPOCH 11 EVAL: \n",
            "\tCURRENT VAL LOSS: -0.490852\n",
            "\tBEST VAL LOSS:    -0.495764\n",
            "\tBEST VAL EPOCH:   5\n",
            "EPOCH 12 11.414495944976807\n",
            "EPOCH 12 EVAL: \n",
            "\tCURRENT VAL LOSS: -0.492520\n",
            "\tBEST VAL LOSS:    -0.495764\n",
            "\tBEST VAL EPOCH:   5\n",
            "EPOCH 13 11.396668910980225\n",
            "EPOCH 13 EVAL: \n",
            "\tCURRENT VAL LOSS: -0.485495\n",
            "\tBEST VAL LOSS:    -0.495764\n",
            "\tBEST VAL EPOCH:   5\n",
            "EPOCH 14 11.586894989013672\n",
            "EPOCH 14 EVAL: \n",
            "\tCURRENT VAL LOSS: -0.491791\n",
            "\tBEST VAL LOSS:    -0.495764\n",
            "\tBEST VAL EPOCH:   5\n",
            "EPOCH 15 11.468238115310669\n",
            "EPOCH 15 EVAL: \n",
            "\tCURRENT VAL LOSS: -0.494351\n",
            "\tBEST VAL LOSS:    -0.495764\n",
            "\tBEST VAL EPOCH:   5\n",
            "EPOCH 16 11.311591625213623\n",
            "EPOCH 16 EVAL: \n",
            "\tCURRENT VAL LOSS: -0.490146\n",
            "\tBEST VAL LOSS:    -0.495764\n",
            "\tBEST VAL EPOCH:   5\n",
            "EPOCH 17 11.34239673614502\n",
            "EPOCH 17 EVAL: \n",
            "\tCURRENT VAL LOSS: -0.483295\n",
            "\tBEST VAL LOSS:    -0.495764\n",
            "\tBEST VAL EPOCH:   5\n",
            "EPOCH 18 11.453696727752686\n",
            "EPOCH 18 EVAL: \n",
            "\tCURRENT VAL LOSS: -0.484945\n",
            "\tBEST VAL LOSS:    -0.495764\n",
            "\tBEST VAL EPOCH:   5\n",
            "EPOCH 19 11.402286052703857\n",
            "EPOCH 19 EVAL: \n",
            "\tCURRENT VAL LOSS: -0.472584\n",
            "\tBEST VAL LOSS:    -0.495764\n",
            "\tBEST VAL EPOCH:   5\n",
            "EPOCH 20 11.4253830909729\n",
            "EPOCH 20 EVAL: \n",
            "\tCURRENT VAL LOSS: -0.493287\n",
            "\tBEST VAL LOSS:    -0.495764\n",
            "\tBEST VAL EPOCH:   5\n",
            "EPOCH 21 11.385767459869385\n",
            "EPOCH 21 EVAL: \n",
            "\tCURRENT VAL LOSS: -0.491256\n",
            "\tBEST VAL LOSS:    -0.495764\n",
            "\tBEST VAL EPOCH:   5\n",
            "EPOCH 22 11.453107833862305\n",
            "EPOCH 22 EVAL: \n",
            "\tCURRENT VAL LOSS: -0.473579\n",
            "\tBEST VAL LOSS:    -0.495764\n",
            "\tBEST VAL EPOCH:   5\n",
            "EPOCH 23 11.44411039352417\n",
            "EPOCH 23 EVAL: \n",
            "\tCURRENT VAL LOSS: -0.494159\n",
            "\tBEST VAL LOSS:    -0.495764\n",
            "\tBEST VAL EPOCH:   5\n",
            "EPOCH 24 11.490674495697021\n",
            "EPOCH 24 EVAL: \n",
            "\tCURRENT VAL LOSS: -0.495599\n",
            "\tBEST VAL LOSS:    -0.495764\n",
            "\tBEST VAL EPOCH:   5\n",
            "EPOCH 25 11.490137100219727\n",
            "BEST VAL RESULT. SAVING MODEL...\n",
            "EPOCH 25 EVAL: \n",
            "\tCURRENT VAL LOSS: -0.496820\n",
            "\tBEST VAL LOSS:    -0.496820\n",
            "\tBEST VAL EPOCH:   25\n",
            "EPOCH 26 11.445683002471924\n",
            "EPOCH 26 EVAL: \n",
            "\tCURRENT VAL LOSS: -0.495818\n",
            "\tBEST VAL LOSS:    -0.496820\n",
            "\tBEST VAL EPOCH:   25\n",
            "EPOCH 27 11.423752069473267\n",
            "EPOCH 27 EVAL: \n",
            "\tCURRENT VAL LOSS: -0.491735\n",
            "\tBEST VAL LOSS:    -0.496820\n",
            "\tBEST VAL EPOCH:   25\n",
            "EPOCH 28 11.498625993728638\n",
            "EPOCH 28 EVAL: \n",
            "\tCURRENT VAL LOSS: -0.496734\n",
            "\tBEST VAL LOSS:    -0.496820\n",
            "\tBEST VAL EPOCH:   25\n",
            "EPOCH 29 11.498659133911133\n",
            "EPOCH 29 EVAL: \n",
            "\tCURRENT VAL LOSS: -0.491876\n",
            "\tBEST VAL LOSS:    -0.496820\n",
            "\tBEST VAL EPOCH:   25\n",
            "EPOCH 30 11.577587366104126\n",
            "EPOCH 30 EVAL: \n",
            "\tCURRENT VAL LOSS: -0.476368\n",
            "\tBEST VAL LOSS:    -0.496820\n",
            "\tBEST VAL EPOCH:   25\n",
            "EPOCH 31 11.357506513595581\n",
            "EPOCH 31 EVAL: \n",
            "\tCURRENT VAL LOSS: -0.494760\n",
            "\tBEST VAL LOSS:    -0.496820\n",
            "\tBEST VAL EPOCH:   25\n",
            "EPOCH 32 11.309608697891235\n",
            "BEST VAL RESULT. SAVING MODEL...\n",
            "EPOCH 32 EVAL: \n",
            "\tCURRENT VAL LOSS: -0.499328\n",
            "\tBEST VAL LOSS:    -0.499328\n",
            "\tBEST VAL EPOCH:   32\n",
            "EPOCH 33 11.536770820617676\n",
            "BEST VAL RESULT. SAVING MODEL...\n",
            "EPOCH 33 EVAL: \n",
            "\tCURRENT VAL LOSS: -0.499551\n",
            "\tBEST VAL LOSS:    -0.499551\n",
            "\tBEST VAL EPOCH:   33\n",
            "EPOCH 34 11.52198576927185\n",
            "EPOCH 34 EVAL: \n",
            "\tCURRENT VAL LOSS: -0.498195\n",
            "\tBEST VAL LOSS:    -0.499551\n",
            "\tBEST VAL EPOCH:   33\n",
            "EPOCH 35 11.480900526046753\n",
            "EPOCH 35 EVAL: \n",
            "\tCURRENT VAL LOSS: -0.495015\n",
            "\tBEST VAL LOSS:    -0.499551\n",
            "\tBEST VAL EPOCH:   33\n",
            "EPOCH 36 11.622353792190552\n",
            "BEST VAL RESULT. SAVING MODEL...\n",
            "EPOCH 36 EVAL: \n",
            "\tCURRENT VAL LOSS: -0.501433\n",
            "\tBEST VAL LOSS:    -0.501433\n",
            "\tBEST VAL EPOCH:   36\n",
            "EPOCH 37 11.639258861541748\n",
            "EPOCH 37 EVAL: \n",
            "\tCURRENT VAL LOSS: -0.490081\n",
            "\tBEST VAL LOSS:    -0.501433\n",
            "\tBEST VAL EPOCH:   36\n",
            "EPOCH 38 11.61779522895813\n",
            "EPOCH 38 EVAL: \n",
            "\tCURRENT VAL LOSS: -0.499833\n",
            "\tBEST VAL LOSS:    -0.501433\n",
            "\tBEST VAL EPOCH:   36\n",
            "EPOCH 39 11.606005430221558\n",
            "EPOCH 39 EVAL: \n",
            "\tCURRENT VAL LOSS: -0.491746\n",
            "\tBEST VAL LOSS:    -0.501433\n",
            "\tBEST VAL EPOCH:   36\n",
            "EPOCH 40 11.507792472839355\n",
            "EPOCH 40 EVAL: \n",
            "\tCURRENT VAL LOSS: -0.495079\n",
            "\tBEST VAL LOSS:    -0.501433\n",
            "\tBEST VAL EPOCH:   36\n",
            "EPOCH 41 11.590694189071655\n",
            "EPOCH 41 EVAL: \n",
            "\tCURRENT VAL LOSS: -0.497559\n",
            "\tBEST VAL LOSS:    -0.501433\n",
            "\tBEST VAL EPOCH:   36\n",
            "EPOCH 42 11.525610446929932\n",
            "EPOCH 42 EVAL: \n",
            "\tCURRENT VAL LOSS: -0.496589\n",
            "\tBEST VAL LOSS:    -0.501433\n",
            "\tBEST VAL EPOCH:   36\n",
            "EPOCH 43 11.384005069732666\n",
            "BEST VAL RESULT. SAVING MODEL...\n",
            "EPOCH 43 EVAL: \n",
            "\tCURRENT VAL LOSS: -0.501453\n",
            "\tBEST VAL LOSS:    -0.501453\n",
            "\tBEST VAL EPOCH:   43\n",
            "EPOCH 44 11.383253574371338\n",
            "EPOCH 44 EVAL: \n",
            "\tCURRENT VAL LOSS: -0.499683\n",
            "\tBEST VAL LOSS:    -0.501453\n",
            "\tBEST VAL EPOCH:   43\n",
            "EPOCH 45 11.560816049575806\n",
            "BEST VAL RESULT. SAVING MODEL...\n",
            "EPOCH 45 EVAL: \n",
            "\tCURRENT VAL LOSS: -0.504802\n",
            "\tBEST VAL LOSS:    -0.504802\n",
            "\tBEST VAL EPOCH:   45\n",
            "EPOCH 46 11.536810874938965\n",
            "BEST VAL RESULT. SAVING MODEL...\n",
            "EPOCH 46 EVAL: \n",
            "\tCURRENT VAL LOSS: -0.511563\n",
            "\tBEST VAL LOSS:    -0.511563\n",
            "\tBEST VAL EPOCH:   46\n",
            "EPOCH 47 11.520415306091309\n",
            "EPOCH 47 EVAL: \n",
            "\tCURRENT VAL LOSS: -0.507188\n",
            "\tBEST VAL LOSS:    -0.511563\n",
            "\tBEST VAL EPOCH:   46\n",
            "EPOCH 48 11.501854419708252\n",
            "BEST VAL RESULT. SAVING MODEL...\n",
            "EPOCH 48 EVAL: \n",
            "\tCURRENT VAL LOSS: -0.519013\n",
            "\tBEST VAL LOSS:    -0.519013\n",
            "\tBEST VAL EPOCH:   48\n",
            "EPOCH 49 11.599038362503052\n",
            "EPOCH 49 EVAL: \n",
            "\tCURRENT VAL LOSS: -0.508489\n",
            "\tBEST VAL LOSS:    -0.519013\n",
            "\tBEST VAL EPOCH:   48\n",
            "EPOCH 50 11.667365550994873\n",
            "EPOCH 50 EVAL: \n",
            "\tCURRENT VAL LOSS: -0.518956\n",
            "\tBEST VAL LOSS:    -0.519013\n",
            "\tBEST VAL EPOCH:   48\n",
            "EPOCH 51 11.52993130683899\n",
            "EPOCH 51 EVAL: \n",
            "\tCURRENT VAL LOSS: -0.509272\n",
            "\tBEST VAL LOSS:    -0.519013\n",
            "\tBEST VAL EPOCH:   48\n",
            "EPOCH 52 11.488108396530151\n",
            "BEST VAL RESULT. SAVING MODEL...\n",
            "EPOCH 52 EVAL: \n",
            "\tCURRENT VAL LOSS: -0.521167\n",
            "\tBEST VAL LOSS:    -0.521167\n",
            "\tBEST VAL EPOCH:   52\n",
            "EPOCH 53 11.772495031356812\n",
            "EPOCH 53 EVAL: \n",
            "\tCURRENT VAL LOSS: -0.519870\n",
            "\tBEST VAL LOSS:    -0.521167\n",
            "\tBEST VAL EPOCH:   52\n",
            "EPOCH 54 11.761996507644653\n",
            "EPOCH 54 EVAL: \n",
            "\tCURRENT VAL LOSS: -0.518706\n",
            "\tBEST VAL LOSS:    -0.521167\n",
            "\tBEST VAL EPOCH:   52\n",
            "EPOCH 55 11.73771595954895\n",
            "BEST VAL RESULT. SAVING MODEL...\n",
            "EPOCH 55 EVAL: \n",
            "\tCURRENT VAL LOSS: -0.522787\n",
            "\tBEST VAL LOSS:    -0.522787\n",
            "\tBEST VAL EPOCH:   55\n",
            "EPOCH 56 11.836694240570068\n",
            "EPOCH 56 EVAL: \n",
            "\tCURRENT VAL LOSS: -0.522497\n",
            "\tBEST VAL LOSS:    -0.522787\n",
            "\tBEST VAL EPOCH:   55\n",
            "EPOCH 57 11.716972351074219\n",
            "EPOCH 57 EVAL: \n",
            "\tCURRENT VAL LOSS: -0.507251\n",
            "\tBEST VAL LOSS:    -0.522787\n",
            "\tBEST VAL EPOCH:   55\n",
            "EPOCH 58 11.495815515518188\n",
            "BEST VAL RESULT. SAVING MODEL...\n",
            "EPOCH 58 EVAL: \n",
            "\tCURRENT VAL LOSS: -0.524532\n",
            "\tBEST VAL LOSS:    -0.524532\n",
            "\tBEST VAL EPOCH:   58\n",
            "EPOCH 59 11.515558242797852\n",
            "BEST VAL RESULT. SAVING MODEL...\n",
            "EPOCH 59 EVAL: \n",
            "\tCURRENT VAL LOSS: -0.527565\n",
            "\tBEST VAL LOSS:    -0.527565\n",
            "\tBEST VAL EPOCH:   59\n",
            "EPOCH 60 11.598128318786621\n",
            "EPOCH 60 EVAL: \n",
            "\tCURRENT VAL LOSS: -0.514684\n",
            "\tBEST VAL LOSS:    -0.527565\n",
            "\tBEST VAL EPOCH:   59\n",
            "EPOCH 61 11.708420515060425\n",
            "EPOCH 61 EVAL: \n",
            "\tCURRENT VAL LOSS: -0.518901\n",
            "\tBEST VAL LOSS:    -0.527565\n",
            "\tBEST VAL EPOCH:   59\n",
            "EPOCH 62 11.600773811340332\n",
            "EPOCH 62 EVAL: \n",
            "\tCURRENT VAL LOSS: -0.523563\n",
            "\tBEST VAL LOSS:    -0.527565\n",
            "\tBEST VAL EPOCH:   59\n",
            "EPOCH 63 11.361263513565063\n",
            "EPOCH 63 EVAL: \n",
            "\tCURRENT VAL LOSS: -0.522929\n",
            "\tBEST VAL LOSS:    -0.527565\n",
            "\tBEST VAL EPOCH:   59\n",
            "EPOCH 64 11.469977140426636\n",
            "EPOCH 64 EVAL: \n",
            "\tCURRENT VAL LOSS: -0.522305\n",
            "\tBEST VAL LOSS:    -0.527565\n",
            "\tBEST VAL EPOCH:   59\n",
            "EPOCH 65 11.318633317947388\n",
            "EPOCH 65 EVAL: \n",
            "\tCURRENT VAL LOSS: -0.520918\n",
            "\tBEST VAL LOSS:    -0.527565\n",
            "\tBEST VAL EPOCH:   59\n",
            "EPOCH 66 11.427734851837158\n",
            "BEST VAL RESULT. SAVING MODEL...\n",
            "EPOCH 66 EVAL: \n",
            "\tCURRENT VAL LOSS: -0.527576\n",
            "\tBEST VAL LOSS:    -0.527576\n",
            "\tBEST VAL EPOCH:   66\n",
            "EPOCH 67 11.4540536403656\n",
            "EPOCH 67 EVAL: \n",
            "\tCURRENT VAL LOSS: -0.516070\n",
            "\tBEST VAL LOSS:    -0.527576\n",
            "\tBEST VAL EPOCH:   66\n",
            "EPOCH 68 11.331671714782715\n",
            "EPOCH 68 EVAL: \n",
            "\tCURRENT VAL LOSS: -0.522500\n",
            "\tBEST VAL LOSS:    -0.527576\n",
            "\tBEST VAL EPOCH:   66\n",
            "EPOCH 69 11.244452714920044\n",
            "EPOCH 69 EVAL: \n",
            "\tCURRENT VAL LOSS: -0.526662\n",
            "\tBEST VAL LOSS:    -0.527576\n",
            "\tBEST VAL EPOCH:   66\n",
            "EPOCH 70 11.395520687103271\n",
            "EPOCH 70 EVAL: \n",
            "\tCURRENT VAL LOSS: -0.517614\n",
            "\tBEST VAL LOSS:    -0.527576\n",
            "\tBEST VAL EPOCH:   66\n",
            "EPOCH 71 11.422858476638794\n",
            "EPOCH 71 EVAL: \n",
            "\tCURRENT VAL LOSS: -0.524526\n",
            "\tBEST VAL LOSS:    -0.527576\n",
            "\tBEST VAL EPOCH:   66\n",
            "EPOCH 72 11.492055177688599\n",
            "EPOCH 72 EVAL: \n",
            "\tCURRENT VAL LOSS: -0.522615\n",
            "\tBEST VAL LOSS:    -0.527576\n",
            "\tBEST VAL EPOCH:   66\n",
            "EPOCH 73 11.381038188934326\n",
            "EPOCH 73 EVAL: \n",
            "\tCURRENT VAL LOSS: -0.523797\n",
            "\tBEST VAL LOSS:    -0.527576\n",
            "\tBEST VAL EPOCH:   66\n",
            "EPOCH 74 11.340693712234497\n",
            "EPOCH 74 EVAL: \n",
            "\tCURRENT VAL LOSS: -0.523172\n",
            "\tBEST VAL LOSS:    -0.527576\n",
            "\tBEST VAL EPOCH:   66\n",
            "EPOCH 75 11.473644018173218\n",
            "EPOCH 75 EVAL: \n",
            "\tCURRENT VAL LOSS: -0.527149\n",
            "\tBEST VAL LOSS:    -0.527576\n",
            "\tBEST VAL EPOCH:   66\n",
            "EPOCH 76 11.592506170272827\n",
            "EPOCH 76 EVAL: \n",
            "\tCURRENT VAL LOSS: -0.524505\n",
            "\tBEST VAL LOSS:    -0.527576\n",
            "\tBEST VAL EPOCH:   66\n",
            "EPOCH 77 11.598921775817871\n",
            "EPOCH 77 EVAL: \n",
            "\tCURRENT VAL LOSS: -0.525159\n",
            "\tBEST VAL LOSS:    -0.527576\n",
            "\tBEST VAL EPOCH:   66\n",
            "EPOCH 78 11.585890054702759\n",
            "EPOCH 78 EVAL: \n",
            "\tCURRENT VAL LOSS: -0.525476\n",
            "\tBEST VAL LOSS:    -0.527576\n",
            "\tBEST VAL EPOCH:   66\n",
            "EPOCH 79 11.551122903823853\n",
            "EPOCH 79 EVAL: \n",
            "\tCURRENT VAL LOSS: -0.524728\n",
            "\tBEST VAL LOSS:    -0.527576\n",
            "\tBEST VAL EPOCH:   66\n",
            "EPOCH 80 11.45824933052063\n",
            "EPOCH 80 EVAL: \n",
            "\tCURRENT VAL LOSS: -0.521577\n",
            "\tBEST VAL LOSS:    -0.527576\n",
            "\tBEST VAL EPOCH:   66\n",
            "EPOCH 81 11.472533702850342\n",
            "EPOCH 81 EVAL: \n",
            "\tCURRENT VAL LOSS: -0.518502\n",
            "\tBEST VAL LOSS:    -0.527576\n",
            "\tBEST VAL EPOCH:   66\n",
            "EPOCH 82 11.476452112197876\n",
            "EPOCH 82 EVAL: \n",
            "\tCURRENT VAL LOSS: -0.523215\n",
            "\tBEST VAL LOSS:    -0.527576\n",
            "\tBEST VAL EPOCH:   66\n",
            "EPOCH 83 11.553008556365967\n",
            "EPOCH 83 EVAL: \n",
            "\tCURRENT VAL LOSS: -0.522613\n",
            "\tBEST VAL LOSS:    -0.527576\n",
            "\tBEST VAL EPOCH:   66\n",
            "EPOCH 84 11.544736862182617\n",
            "EPOCH 84 EVAL: \n",
            "\tCURRENT VAL LOSS: -0.527529\n",
            "\tBEST VAL LOSS:    -0.527576\n",
            "\tBEST VAL EPOCH:   66\n",
            "EPOCH 85 11.521647453308105\n",
            "EPOCH 85 EVAL: \n",
            "\tCURRENT VAL LOSS: -0.525540\n",
            "\tBEST VAL LOSS:    -0.527576\n",
            "\tBEST VAL EPOCH:   66\n",
            "EPOCH 86 11.462106943130493\n",
            "EPOCH 86 EVAL: \n",
            "\tCURRENT VAL LOSS: -0.511083\n",
            "\tBEST VAL LOSS:    -0.527576\n",
            "\tBEST VAL EPOCH:   66\n",
            "EPOCH 87 11.361328125\n",
            "EPOCH 87 EVAL: \n",
            "\tCURRENT VAL LOSS: -0.519261\n",
            "\tBEST VAL LOSS:    -0.527576\n",
            "\tBEST VAL EPOCH:   66\n",
            "EPOCH 88 11.320781946182251\n",
            "EPOCH 88 EVAL: \n",
            "\tCURRENT VAL LOSS: -0.515849\n",
            "\tBEST VAL LOSS:    -0.527576\n",
            "\tBEST VAL EPOCH:   66\n",
            "EPOCH 89 11.416705131530762\n",
            "EPOCH 89 EVAL: \n",
            "\tCURRENT VAL LOSS: -0.523021\n",
            "\tBEST VAL LOSS:    -0.527576\n",
            "\tBEST VAL EPOCH:   66\n",
            "EPOCH 90 11.409325361251831\n",
            "BEST VAL RESULT. SAVING MODEL...\n",
            "EPOCH 90 EVAL: \n",
            "\tCURRENT VAL LOSS: -0.529073\n",
            "\tBEST VAL LOSS:    -0.529073\n",
            "\tBEST VAL EPOCH:   90\n",
            "EPOCH 91 11.394363641738892\n",
            "EPOCH 91 EVAL: \n",
            "\tCURRENT VAL LOSS: -0.528706\n",
            "\tBEST VAL LOSS:    -0.529073\n",
            "\tBEST VAL EPOCH:   90\n",
            "EPOCH 92 11.342645645141602\n",
            "EPOCH 92 EVAL: \n",
            "\tCURRENT VAL LOSS: -0.513114\n",
            "\tBEST VAL LOSS:    -0.529073\n",
            "\tBEST VAL EPOCH:   90\n",
            "EPOCH 93 11.672679901123047\n",
            "EPOCH 93 EVAL: \n",
            "\tCURRENT VAL LOSS: -0.524881\n",
            "\tBEST VAL LOSS:    -0.529073\n",
            "\tBEST VAL EPOCH:   90\n",
            "EPOCH 94 11.449051141738892\n",
            "EPOCH 94 EVAL: \n",
            "\tCURRENT VAL LOSS: -0.525739\n",
            "\tBEST VAL LOSS:    -0.529073\n",
            "\tBEST VAL EPOCH:   90\n",
            "EPOCH 95 11.442334651947021\n",
            "EPOCH 95 EVAL: \n",
            "\tCURRENT VAL LOSS: -0.524987\n",
            "\tBEST VAL LOSS:    -0.529073\n",
            "\tBEST VAL EPOCH:   90\n",
            "EPOCH 96 11.38728141784668\n",
            "EPOCH 96 EVAL: \n",
            "\tCURRENT VAL LOSS: -0.527487\n",
            "\tBEST VAL LOSS:    -0.529073\n",
            "\tBEST VAL EPOCH:   90\n",
            "EPOCH 97 11.291346073150635\n",
            "EPOCH 97 EVAL: \n",
            "\tCURRENT VAL LOSS: -0.519829\n",
            "\tBEST VAL LOSS:    -0.529073\n",
            "\tBEST VAL EPOCH:   90\n",
            "EPOCH 98 11.292334079742432\n",
            "EPOCH 98 EVAL: \n",
            "\tCURRENT VAL LOSS: -0.528091\n",
            "\tBEST VAL LOSS:    -0.529073\n",
            "\tBEST VAL EPOCH:   90\n",
            "EPOCH 99 11.429888725280762\n",
            "EPOCH 99 EVAL: \n",
            "\tCURRENT VAL LOSS: -0.522803\n",
            "\tBEST VAL LOSS:    -0.529073\n",
            "\tBEST VAL EPOCH:   90\n",
            "EPOCH 100 11.490202188491821\n",
            "EPOCH 100 EVAL: \n",
            "\tCURRENT VAL LOSS: -0.520059\n",
            "\tBEST VAL LOSS:    -0.529073\n",
            "\tBEST VAL EPOCH:   90\n",
            "EPOCH 101 11.445000171661377\n",
            "EPOCH 101 EVAL: \n",
            "\tCURRENT VAL LOSS: -0.526569\n",
            "\tBEST VAL LOSS:    -0.529073\n",
            "\tBEST VAL EPOCH:   90\n",
            "EPOCH 102 11.470457077026367\n",
            "EPOCH 102 EVAL: \n",
            "\tCURRENT VAL LOSS: -0.526473\n",
            "\tBEST VAL LOSS:    -0.529073\n",
            "\tBEST VAL EPOCH:   90\n",
            "EPOCH 103 11.467410564422607\n",
            "BEST VAL RESULT. SAVING MODEL...\n",
            "EPOCH 103 EVAL: \n",
            "\tCURRENT VAL LOSS: -0.530066\n",
            "\tBEST VAL LOSS:    -0.530066\n",
            "\tBEST VAL EPOCH:   103\n",
            "EPOCH 104 11.585789442062378\n",
            "EPOCH 104 EVAL: \n",
            "\tCURRENT VAL LOSS: -0.527787\n",
            "\tBEST VAL LOSS:    -0.530066\n",
            "\tBEST VAL EPOCH:   103\n",
            "EPOCH 105 11.573752880096436\n",
            "EPOCH 105 EVAL: \n",
            "\tCURRENT VAL LOSS: -0.528425\n",
            "\tBEST VAL LOSS:    -0.530066\n",
            "\tBEST VAL EPOCH:   103\n",
            "EPOCH 106 11.538089513778687\n",
            "BEST VAL RESULT. SAVING MODEL...\n",
            "EPOCH 106 EVAL: \n",
            "\tCURRENT VAL LOSS: -0.555161\n",
            "\tBEST VAL LOSS:    -0.555161\n",
            "\tBEST VAL EPOCH:   106\n",
            "EPOCH 107 11.649823427200317\n",
            "BEST VAL RESULT. SAVING MODEL...\n",
            "EPOCH 107 EVAL: \n",
            "\tCURRENT VAL LOSS: -0.584909\n",
            "\tBEST VAL LOSS:    -0.584909\n",
            "\tBEST VAL EPOCH:   107\n",
            "EPOCH 108 11.690792322158813\n",
            "BEST VAL RESULT. SAVING MODEL...\n",
            "EPOCH 108 EVAL: \n",
            "\tCURRENT VAL LOSS: -0.616208\n",
            "\tBEST VAL LOSS:    -0.616208\n",
            "\tBEST VAL EPOCH:   108\n",
            "EPOCH 109 11.738181352615356\n",
            "BEST VAL RESULT. SAVING MODEL...\n",
            "EPOCH 109 EVAL: \n",
            "\tCURRENT VAL LOSS: -0.633727\n",
            "\tBEST VAL LOSS:    -0.633727\n",
            "\tBEST VAL EPOCH:   109\n",
            "EPOCH 110 11.884140491485596\n",
            "BEST VAL RESULT. SAVING MODEL...\n",
            "EPOCH 110 EVAL: \n",
            "\tCURRENT VAL LOSS: -0.724954\n",
            "\tBEST VAL LOSS:    -0.724954\n",
            "\tBEST VAL EPOCH:   110\n",
            "EPOCH 111 11.664990186691284\n",
            "BEST VAL RESULT. SAVING MODEL...\n",
            "EPOCH 111 EVAL: \n",
            "\tCURRENT VAL LOSS: -0.874046\n",
            "\tBEST VAL LOSS:    -0.874046\n",
            "\tBEST VAL EPOCH:   111\n",
            "EPOCH 112 11.66196608543396\n",
            "BEST VAL RESULT. SAVING MODEL...\n",
            "EPOCH 112 EVAL: \n",
            "\tCURRENT VAL LOSS: -0.892210\n",
            "\tBEST VAL LOSS:    -0.892210\n",
            "\tBEST VAL EPOCH:   112\n",
            "EPOCH 113 11.689932584762573\n",
            "BEST VAL RESULT. SAVING MODEL...\n",
            "EPOCH 113 EVAL: \n",
            "\tCURRENT VAL LOSS: -0.980062\n",
            "\tBEST VAL LOSS:    -0.980062\n",
            "\tBEST VAL EPOCH:   113\n",
            "EPOCH 114 11.622950315475464\n",
            "BEST VAL RESULT. SAVING MODEL...\n",
            "EPOCH 114 EVAL: \n",
            "\tCURRENT VAL LOSS: -1.027145\n",
            "\tBEST VAL LOSS:    -1.027145\n",
            "\tBEST VAL EPOCH:   114\n",
            "EPOCH 115 11.545085668563843\n",
            "EPOCH 115 EVAL: \n",
            "\tCURRENT VAL LOSS: -0.750993\n",
            "\tBEST VAL LOSS:    -1.027145\n",
            "\tBEST VAL EPOCH:   114\n",
            "EPOCH 116 11.321883916854858\n",
            "EPOCH 116 EVAL: \n",
            "\tCURRENT VAL LOSS: -0.852159\n",
            "\tBEST VAL LOSS:    -1.027145\n",
            "\tBEST VAL EPOCH:   114\n",
            "EPOCH 117 11.42777681350708\n",
            "EPOCH 117 EVAL: \n",
            "\tCURRENT VAL LOSS: -0.926365\n",
            "\tBEST VAL LOSS:    -1.027145\n",
            "\tBEST VAL EPOCH:   114\n",
            "EPOCH 118 11.41929578781128\n",
            "EPOCH 118 EVAL: \n",
            "\tCURRENT VAL LOSS: -0.768105\n",
            "\tBEST VAL LOSS:    -1.027145\n",
            "\tBEST VAL EPOCH:   114\n",
            "EPOCH 119 11.499121189117432\n",
            "EPOCH 119 EVAL: \n",
            "\tCURRENT VAL LOSS: -0.808003\n",
            "\tBEST VAL LOSS:    -1.027145\n",
            "\tBEST VAL EPOCH:   114\n",
            "EPOCH 120 11.527172803878784\n",
            "EPOCH 120 EVAL: \n",
            "\tCURRENT VAL LOSS: -0.936239\n",
            "\tBEST VAL LOSS:    -1.027145\n",
            "\tBEST VAL EPOCH:   114\n",
            "EPOCH 121 11.400943994522095\n",
            "EPOCH 121 EVAL: \n",
            "\tCURRENT VAL LOSS: -0.769404\n",
            "\tBEST VAL LOSS:    -1.027145\n",
            "\tBEST VAL EPOCH:   114\n",
            "EPOCH 122 11.45697546005249\n",
            "EPOCH 122 EVAL: \n",
            "\tCURRENT VAL LOSS: -0.528179\n",
            "\tBEST VAL LOSS:    -1.027145\n",
            "\tBEST VAL EPOCH:   114\n",
            "EPOCH 123 11.385499715805054\n",
            "EPOCH 123 EVAL: \n",
            "\tCURRENT VAL LOSS: -0.548538\n",
            "\tBEST VAL LOSS:    -1.027145\n",
            "\tBEST VAL EPOCH:   114\n",
            "EPOCH 124 11.44506025314331\n",
            "EPOCH 124 EVAL: \n",
            "\tCURRENT VAL LOSS: -0.764304\n",
            "\tBEST VAL LOSS:    -1.027145\n",
            "\tBEST VAL EPOCH:   114\n",
            "EPOCH 125 11.437214136123657\n",
            "EPOCH 125 EVAL: \n",
            "\tCURRENT VAL LOSS: -0.799890\n",
            "\tBEST VAL LOSS:    -1.027145\n",
            "\tBEST VAL EPOCH:   114\n",
            "EPOCH 126 11.379950046539307\n",
            "EPOCH 126 EVAL: \n",
            "\tCURRENT VAL LOSS: -0.265807\n",
            "\tBEST VAL LOSS:    -1.027145\n",
            "\tBEST VAL EPOCH:   114\n",
            "EPOCH 127 11.454284191131592\n",
            "EPOCH 127 EVAL: \n",
            "\tCURRENT VAL LOSS: -0.512270\n",
            "\tBEST VAL LOSS:    -1.027145\n",
            "\tBEST VAL EPOCH:   114\n",
            "EPOCH 128 11.450336456298828\n",
            "EPOCH 128 EVAL: \n",
            "\tCURRENT VAL LOSS: -0.733689\n",
            "\tBEST VAL LOSS:    -1.027145\n",
            "\tBEST VAL EPOCH:   114\n",
            "EPOCH 129 11.25315523147583\n",
            "EPOCH 129 EVAL: \n",
            "\tCURRENT VAL LOSS: -0.303885\n",
            "\tBEST VAL LOSS:    -1.027145\n",
            "\tBEST VAL EPOCH:   114\n",
            "EPOCH 130 11.303393602371216\n",
            "EPOCH 130 EVAL: \n",
            "\tCURRENT VAL LOSS: -0.510289\n",
            "\tBEST VAL LOSS:    -1.027145\n",
            "\tBEST VAL EPOCH:   114\n",
            "EPOCH 131 11.378413200378418\n",
            "EPOCH 131 EVAL: \n",
            "\tCURRENT VAL LOSS: -0.511200\n",
            "\tBEST VAL LOSS:    -1.027145\n",
            "\tBEST VAL EPOCH:   114\n",
            "EPOCH 132 11.436704158782959\n",
            "EPOCH 132 EVAL: \n",
            "\tCURRENT VAL LOSS: -0.595769\n",
            "\tBEST VAL LOSS:    -1.027145\n",
            "\tBEST VAL EPOCH:   114\n",
            "EPOCH 133 11.551666736602783\n",
            "EPOCH 133 EVAL: \n",
            "\tCURRENT VAL LOSS: -0.682198\n",
            "\tBEST VAL LOSS:    -1.027145\n",
            "\tBEST VAL EPOCH:   114\n",
            "EPOCH 134 11.425163269042969\n",
            "EPOCH 134 EVAL: \n",
            "\tCURRENT VAL LOSS: -0.473635\n",
            "\tBEST VAL LOSS:    -1.027145\n",
            "\tBEST VAL EPOCH:   114\n",
            "EPOCH 135 11.527966499328613\n",
            "EPOCH 135 EVAL: \n",
            "\tCURRENT VAL LOSS: -0.613029\n",
            "\tBEST VAL LOSS:    -1.027145\n",
            "\tBEST VAL EPOCH:   114\n",
            "EPOCH 136 11.4267578125\n",
            "EPOCH 136 EVAL: \n",
            "\tCURRENT VAL LOSS: -0.462151\n",
            "\tBEST VAL LOSS:    -1.027145\n",
            "\tBEST VAL EPOCH:   114\n",
            "EPOCH 137 11.510515689849854\n",
            "EPOCH 137 EVAL: \n",
            "\tCURRENT VAL LOSS: -0.697830\n",
            "\tBEST VAL LOSS:    -1.027145\n",
            "\tBEST VAL EPOCH:   114\n",
            "EPOCH 138 11.510465145111084\n",
            "EPOCH 138 EVAL: \n",
            "\tCURRENT VAL LOSS: -0.411546\n",
            "\tBEST VAL LOSS:    -1.027145\n",
            "\tBEST VAL EPOCH:   114\n",
            "EPOCH 139 11.557913303375244\n",
            "EPOCH 139 EVAL: \n",
            "\tCURRENT VAL LOSS: 0.132484\n",
            "\tBEST VAL LOSS:    -1.027145\n",
            "\tBEST VAL EPOCH:   114\n",
            "EPOCH 140 11.501783847808838\n",
            "EPOCH 140 EVAL: \n",
            "\tCURRENT VAL LOSS: -0.604599\n",
            "\tBEST VAL LOSS:    -1.027145\n",
            "\tBEST VAL EPOCH:   114\n",
            "EPOCH 141 11.524216651916504\n",
            "EPOCH 141 EVAL: \n",
            "\tCURRENT VAL LOSS: -0.736533\n",
            "\tBEST VAL LOSS:    -1.027145\n",
            "\tBEST VAL EPOCH:   114\n",
            "EPOCH 142 11.514682292938232\n",
            "EPOCH 142 EVAL: \n",
            "\tCURRENT VAL LOSS: 0.569059\n",
            "\tBEST VAL LOSS:    -1.027145\n",
            "\tBEST VAL EPOCH:   114\n",
            "EPOCH 143 11.419964075088501\n",
            "EPOCH 143 EVAL: \n",
            "\tCURRENT VAL LOSS: -0.507294\n",
            "\tBEST VAL LOSS:    -1.027145\n",
            "\tBEST VAL EPOCH:   114\n",
            "EPOCH 144 11.463273286819458\n",
            "EPOCH 144 EVAL: \n",
            "\tCURRENT VAL LOSS: -0.301412\n",
            "\tBEST VAL LOSS:    -1.027145\n",
            "\tBEST VAL EPOCH:   114\n",
            "EPOCH 145 11.394569396972656\n",
            "EPOCH 145 EVAL: \n",
            "\tCURRENT VAL LOSS: -0.491652\n",
            "\tBEST VAL LOSS:    -1.027145\n",
            "\tBEST VAL EPOCH:   114\n",
            "EPOCH 146 11.461354732513428\n",
            "EPOCH 146 EVAL: \n",
            "\tCURRENT VAL LOSS: -0.433198\n",
            "\tBEST VAL LOSS:    -1.027145\n",
            "\tBEST VAL EPOCH:   114\n",
            "EPOCH 147 11.430730104446411\n",
            "EPOCH 147 EVAL: \n",
            "\tCURRENT VAL LOSS: -0.203127\n",
            "\tBEST VAL LOSS:    -1.027145\n",
            "\tBEST VAL EPOCH:   114\n",
            "EPOCH 148 11.484513998031616\n",
            "EPOCH 148 EVAL: \n",
            "\tCURRENT VAL LOSS: -0.289684\n",
            "\tBEST VAL LOSS:    -1.027145\n",
            "\tBEST VAL EPOCH:   114\n",
            "EPOCH 149 11.5214364528656\n",
            "EPOCH 149 EVAL: \n",
            "\tCURRENT VAL LOSS: -0.261957\n",
            "\tBEST VAL LOSS:    -1.027145\n",
            "\tBEST VAL EPOCH:   114\n",
            "EPOCH 150 11.641310453414917\n",
            "EPOCH 150 EVAL: \n",
            "\tCURRENT VAL LOSS: -0.462781\n",
            "\tBEST VAL LOSS:    -1.027145\n",
            "\tBEST VAL EPOCH:   114\n",
            "EPOCH 151 11.546524047851562\n",
            "EPOCH 151 EVAL: \n",
            "\tCURRENT VAL LOSS: -0.319333\n",
            "\tBEST VAL LOSS:    -1.027145\n",
            "\tBEST VAL EPOCH:   114\n",
            "EPOCH 152 11.509737730026245\n",
            "EPOCH 152 EVAL: \n",
            "\tCURRENT VAL LOSS: -0.523735\n",
            "\tBEST VAL LOSS:    -1.027145\n",
            "\tBEST VAL EPOCH:   114\n",
            "EPOCH 153 11.440483093261719\n",
            "EPOCH 153 EVAL: \n",
            "\tCURRENT VAL LOSS: -0.069692\n",
            "\tBEST VAL LOSS:    -1.027145\n",
            "\tBEST VAL EPOCH:   114\n",
            "EPOCH 154 11.551583051681519\n",
            "EPOCH 154 EVAL: \n",
            "\tCURRENT VAL LOSS: -0.208724\n",
            "\tBEST VAL LOSS:    -1.027145\n",
            "\tBEST VAL EPOCH:   114\n",
            "EPOCH 155 11.636489868164062\n",
            "EPOCH 155 EVAL: \n",
            "\tCURRENT VAL LOSS: -0.281900\n",
            "\tBEST VAL LOSS:    -1.027145\n",
            "\tBEST VAL EPOCH:   114\n",
            "EPOCH 156 11.554561614990234\n",
            "EPOCH 156 EVAL: \n",
            "\tCURRENT VAL LOSS: -0.528768\n",
            "\tBEST VAL LOSS:    -1.027145\n",
            "\tBEST VAL EPOCH:   114\n",
            "EPOCH 157 11.38601541519165\n",
            "EPOCH 157 EVAL: \n",
            "\tCURRENT VAL LOSS: -0.207817\n",
            "\tBEST VAL LOSS:    -1.027145\n",
            "\tBEST VAL EPOCH:   114\n",
            "EPOCH 158 11.46307373046875\n",
            "EPOCH 158 EVAL: \n",
            "\tCURRENT VAL LOSS: -0.431313\n",
            "\tBEST VAL LOSS:    -1.027145\n",
            "\tBEST VAL EPOCH:   114\n",
            "EPOCH 159 11.556387186050415\n",
            "EPOCH 159 EVAL: \n",
            "\tCURRENT VAL LOSS: -0.263228\n",
            "\tBEST VAL LOSS:    -1.027145\n",
            "\tBEST VAL EPOCH:   114\n",
            "EPOCH 160 11.476011514663696\n",
            "EPOCH 160 EVAL: \n",
            "\tCURRENT VAL LOSS: -0.156314\n",
            "\tBEST VAL LOSS:    -1.027145\n",
            "\tBEST VAL EPOCH:   114\n",
            "EPOCH 161 11.423419952392578\n",
            "EPOCH 161 EVAL: \n",
            "\tCURRENT VAL LOSS: -0.502683\n",
            "\tBEST VAL LOSS:    -1.027145\n",
            "\tBEST VAL EPOCH:   114\n",
            "EPOCH 162 11.561454057693481\n",
            "EPOCH 162 EVAL: \n",
            "\tCURRENT VAL LOSS: -0.538935\n",
            "\tBEST VAL LOSS:    -1.027145\n",
            "\tBEST VAL EPOCH:   114\n",
            "EPOCH 163 11.45793342590332\n",
            "EPOCH 163 EVAL: \n",
            "\tCURRENT VAL LOSS: -0.396807\n",
            "\tBEST VAL LOSS:    -1.027145\n",
            "\tBEST VAL EPOCH:   114\n",
            "EPOCH 164 11.492498636245728\n",
            "EPOCH 164 EVAL: \n",
            "\tCURRENT VAL LOSS: -0.559720\n",
            "\tBEST VAL LOSS:    -1.027145\n",
            "\tBEST VAL EPOCH:   114\n",
            "EPOCH 165 11.42541766166687\n",
            "EPOCH 165 EVAL: \n",
            "\tCURRENT VAL LOSS: -0.382735\n",
            "\tBEST VAL LOSS:    -1.027145\n",
            "\tBEST VAL EPOCH:   114\n",
            "EPOCH 166 11.441823244094849\n",
            "EPOCH 166 EVAL: \n",
            "\tCURRENT VAL LOSS: -0.352778\n",
            "\tBEST VAL LOSS:    -1.027145\n",
            "\tBEST VAL EPOCH:   114\n",
            "EPOCH 167 11.568487167358398\n",
            "EPOCH 167 EVAL: \n",
            "\tCURRENT VAL LOSS: -0.572699\n",
            "\tBEST VAL LOSS:    -1.027145\n",
            "\tBEST VAL EPOCH:   114\n",
            "EPOCH 168 11.378658294677734\n",
            "EPOCH 168 EVAL: \n",
            "\tCURRENT VAL LOSS: -0.313556\n",
            "\tBEST VAL LOSS:    -1.027145\n",
            "\tBEST VAL EPOCH:   114\n",
            "EPOCH 169 11.408644437789917\n",
            "EPOCH 169 EVAL: \n",
            "\tCURRENT VAL LOSS: -0.319754\n",
            "\tBEST VAL LOSS:    -1.027145\n",
            "\tBEST VAL EPOCH:   114\n",
            "EPOCH 170 11.626464605331421\n",
            "EPOCH 170 EVAL: \n",
            "\tCURRENT VAL LOSS: -0.285618\n",
            "\tBEST VAL LOSS:    -1.027145\n",
            "\tBEST VAL EPOCH:   114\n",
            "EPOCH 171 11.484234809875488\n",
            "EPOCH 171 EVAL: \n",
            "\tCURRENT VAL LOSS: 0.374781\n",
            "\tBEST VAL LOSS:    -1.027145\n",
            "\tBEST VAL EPOCH:   114\n",
            "EPOCH 172 11.384113311767578\n",
            "EPOCH 172 EVAL: \n",
            "\tCURRENT VAL LOSS: -0.345461\n",
            "\tBEST VAL LOSS:    -1.027145\n",
            "\tBEST VAL EPOCH:   114\n",
            "EPOCH 173 11.257436990737915\n",
            "EPOCH 173 EVAL: \n",
            "\tCURRENT VAL LOSS: -0.270790\n",
            "\tBEST VAL LOSS:    -1.027145\n",
            "\tBEST VAL EPOCH:   114\n",
            "EPOCH 174 11.378570318222046\n",
            "EPOCH 174 EVAL: \n",
            "\tCURRENT VAL LOSS: -0.013089\n",
            "\tBEST VAL LOSS:    -1.027145\n",
            "\tBEST VAL EPOCH:   114\n",
            "EPOCH 175 11.33776593208313\n",
            "EPOCH 175 EVAL: \n",
            "\tCURRENT VAL LOSS: -0.546673\n",
            "\tBEST VAL LOSS:    -1.027145\n",
            "\tBEST VAL EPOCH:   114\n",
            "EPOCH 176 11.355005264282227\n",
            "EPOCH 176 EVAL: \n",
            "\tCURRENT VAL LOSS: -0.218394\n",
            "\tBEST VAL LOSS:    -1.027145\n",
            "\tBEST VAL EPOCH:   114\n",
            "EPOCH 177 11.38428807258606\n",
            "EPOCH 177 EVAL: \n",
            "\tCURRENT VAL LOSS: -0.272872\n",
            "\tBEST VAL LOSS:    -1.027145\n",
            "\tBEST VAL EPOCH:   114\n",
            "EPOCH 178 11.428162097930908\n",
            "EPOCH 178 EVAL: \n",
            "\tCURRENT VAL LOSS: -0.772756\n",
            "\tBEST VAL LOSS:    -1.027145\n",
            "\tBEST VAL EPOCH:   114\n",
            "EPOCH 179 11.383148670196533\n",
            "EPOCH 179 EVAL: \n",
            "\tCURRENT VAL LOSS: -0.205499\n",
            "\tBEST VAL LOSS:    -1.027145\n",
            "\tBEST VAL EPOCH:   114\n",
            "EPOCH 180 11.293334007263184\n",
            "EPOCH 180 EVAL: \n",
            "\tCURRENT VAL LOSS: -0.045269\n",
            "\tBEST VAL LOSS:    -1.027145\n",
            "\tBEST VAL EPOCH:   114\n",
            "EPOCH 181 11.252835035324097\n",
            "EPOCH 181 EVAL: \n",
            "\tCURRENT VAL LOSS: -0.179559\n",
            "\tBEST VAL LOSS:    -1.027145\n",
            "\tBEST VAL EPOCH:   114\n",
            "EPOCH 182 11.41739010810852\n",
            "EPOCH 182 EVAL: \n",
            "\tCURRENT VAL LOSS: -0.092415\n",
            "\tBEST VAL LOSS:    -1.027145\n",
            "\tBEST VAL EPOCH:   114\n",
            "EPOCH 183 11.432445049285889\n",
            "EPOCH 183 EVAL: \n",
            "\tCURRENT VAL LOSS: 0.239157\n",
            "\tBEST VAL LOSS:    -1.027145\n",
            "\tBEST VAL EPOCH:   114\n",
            "EPOCH 184 11.48442792892456\n",
            "EPOCH 184 EVAL: \n",
            "\tCURRENT VAL LOSS: 0.009762\n",
            "\tBEST VAL LOSS:    -1.027145\n",
            "\tBEST VAL EPOCH:   114\n",
            "EPOCH 185 11.582349061965942\n",
            "EPOCH 185 EVAL: \n",
            "\tCURRENT VAL LOSS: -0.146435\n",
            "\tBEST VAL LOSS:    -1.027145\n",
            "\tBEST VAL EPOCH:   114\n",
            "EPOCH 186 11.444931030273438\n",
            "EPOCH 186 EVAL: \n",
            "\tCURRENT VAL LOSS: -0.185746\n",
            "\tBEST VAL LOSS:    -1.027145\n",
            "\tBEST VAL EPOCH:   114\n",
            "EPOCH 187 11.404924631118774\n",
            "EPOCH 187 EVAL: \n",
            "\tCURRENT VAL LOSS: -0.030900\n",
            "\tBEST VAL LOSS:    -1.027145\n",
            "\tBEST VAL EPOCH:   114\n",
            "EPOCH 188 11.340617895126343\n",
            "EPOCH 188 EVAL: \n",
            "\tCURRENT VAL LOSS: -0.301269\n",
            "\tBEST VAL LOSS:    -1.027145\n",
            "\tBEST VAL EPOCH:   114\n",
            "EPOCH 189 11.375166654586792\n",
            "EPOCH 189 EVAL: \n",
            "\tCURRENT VAL LOSS: -0.168668\n",
            "\tBEST VAL LOSS:    -1.027145\n",
            "\tBEST VAL EPOCH:   114\n",
            "EPOCH 190 11.434586763381958\n",
            "EPOCH 190 EVAL: \n",
            "\tCURRENT VAL LOSS: 0.060237\n",
            "\tBEST VAL LOSS:    -1.027145\n",
            "\tBEST VAL EPOCH:   114\n",
            "EPOCH 191 11.709771871566772\n",
            "EPOCH 191 EVAL: \n",
            "\tCURRENT VAL LOSS: -0.400937\n",
            "\tBEST VAL LOSS:    -1.027145\n",
            "\tBEST VAL EPOCH:   114\n",
            "EPOCH 192 11.531675577163696\n",
            "EPOCH 192 EVAL: \n",
            "\tCURRENT VAL LOSS: -0.006209\n",
            "\tBEST VAL LOSS:    -1.027145\n",
            "\tBEST VAL EPOCH:   114\n",
            "EPOCH 193 11.357025146484375\n",
            "EPOCH 193 EVAL: \n",
            "\tCURRENT VAL LOSS: -0.600185\n",
            "\tBEST VAL LOSS:    -1.027145\n",
            "\tBEST VAL EPOCH:   114\n",
            "EPOCH 194 11.302600383758545\n",
            "EPOCH 194 EVAL: \n",
            "\tCURRENT VAL LOSS: -0.331487\n",
            "\tBEST VAL LOSS:    -1.027145\n",
            "\tBEST VAL EPOCH:   114\n",
            "EPOCH 195 11.310595750808716\n",
            "EPOCH 195 EVAL: \n",
            "\tCURRENT VAL LOSS: 0.095861\n",
            "\tBEST VAL LOSS:    -1.027145\n",
            "\tBEST VAL EPOCH:   114\n",
            "EPOCH 196 11.417979717254639\n",
            "EPOCH 196 EVAL: \n",
            "\tCURRENT VAL LOSS: -0.706458\n",
            "\tBEST VAL LOSS:    -1.027145\n",
            "\tBEST VAL EPOCH:   114\n",
            "EPOCH 197 11.25704836845398\n",
            "EPOCH 197 EVAL: \n",
            "\tCURRENT VAL LOSS: -0.331556\n",
            "\tBEST VAL LOSS:    -1.027145\n",
            "\tBEST VAL EPOCH:   114\n",
            "EPOCH 198 11.32047986984253\n",
            "EPOCH 198 EVAL: \n",
            "\tCURRENT VAL LOSS: -0.460266\n",
            "\tBEST VAL LOSS:    -1.027145\n",
            "\tBEST VAL EPOCH:   114\n",
            "EPOCH 199 11.353803157806396\n",
            "EPOCH 199 EVAL: \n",
            "\tCURRENT VAL LOSS: 0.055860\n",
            "\tBEST VAL LOSS:    -1.027145\n",
            "\tBEST VAL EPOCH:   114\n",
            "EPOCH 200 11.519530773162842\n",
            "EPOCH 200 EVAL: \n",
            "\tCURRENT VAL LOSS: 0.072571\n",
            "\tBEST VAL LOSS:    -1.027145\n",
            "\tBEST VAL EPOCH:   114\n"
          ]
        }
      ]
    },
    {
      "cell_type": "code",
      "source": [
        "#if args.mode == 'eval':\n",
        "test_data = SmallSynthData(args.data_path, 'test', params)\n",
        "forward_pred = 50 - args.test_burn_in_steps\n",
        "test_mse  = evaluate.eval_forward_prediction(model, test_data, args.test_burn_in_steps, forward_pred, params)\n",
        "path = os.path.join(args.working_dir, args.error_out_name%args.test_burn_in_steps)\n",
        "np.save(path, test_mse.cpu().numpy())\n",
        "test_mse_1  = test_mse[0].item()\n",
        "test_mse_15 = test_mse[14].item()\n",
        "test_mse_25 = test_mse[24].item()\n",
        "print(\"FORWARD PRED RESULTS:\")\n",
        "print(\"\\t1 STEP: \", test_mse_1)\n",
        "print(\"\\t15 STEP: \",test_mse_15)\n",
        "print(\"\\t25 STEP: \",test_mse_25)\n",
        "\n",
        "\n",
        "f1, all_acc, acc_0, acc_1, edges = eval_edges(model, val_data, params)\n",
        "print(\"Val Edge results:\")\n",
        "print(\"\\tF1: \",f1)\n",
        "print(\"\\tAll predicted edge accuracy: \",all_acc)\n",
        "print(\"\\tFirst Edge Acc: \",acc_0)\n",
        "print(\"\\tSecond Edge Acc: \",acc_1)\n",
        "out_dir = os.path.join(args.working_dir, 'preds')\n",
        "os.makedirs(out_dir, exist_ok=True)\n",
        "out_path = os.path.join(out_dir, 'encoder_edges.npy')\n",
        "np.save(out_path, edges.numpy())\n",
        "\n",
        "plot_sample(model, test_data, args.test_burn_in_steps, params)"
      ],
      "metadata": {
        "id": "88P5xHpXHgQd",
        "colab": {
          "base_uri": "https://localhost:8080/",
          "height": 1000
        },
        "outputId": "37da0929-2f81-4de1-d922-8ceded6f13e6"
      },
      "execution_count": 78,
      "outputs": [
        {
          "output_type": "stream",
          "name": "stdout",
          "text": [
            "FORWARD PRED RESULTS:\n",
            "\t1 STEP:  0.0003155226877424866\n",
            "\t15 STEP:  0.01575886271893978\n",
            "\t25 STEP:  0.03963610902428627\n",
            "Val Edge results:\n",
            "\tF1:  0.008692128729789745\n",
            "\tAll predicted edge accuracy:  0.903027210884323\n",
            "\tFirst Edge Acc:  0.9495090812806484\n",
            "\tSecond Edge Acc:  0.008606444505639901\n",
            "MSE:  0.034318938851356506\n"
          ]
        },
        {
          "output_type": "stream",
          "name": "stderr",
          "text": [
            "<ipython-input-11-30936ab70676>:97: RuntimeWarning: More than 20 figures have been opened. Figures created through the pyplot interface (`matplotlib.pyplot.figure`) are retained until explicitly closed and may consume too much memory. (To control this warning, see the rcParam `figure.max_open_warning`). Consider using `matplotlib.pyplot.close()`.\n",
            "  fig, ax = plt.subplots()\n"
          ]
        },
        {
          "output_type": "stream",
          "name": "stdout",
          "text": [
            "MSE:  0.03456564620137215\n",
            "MSE:  0.03337867930531502\n",
            "MSE:  0.031702544540166855\n",
            "MSE:  0.036682289093732834\n",
            "MSE:  0.03316526487469673\n",
            "MSE:  0.03425239771604538\n",
            "MSE:  0.038300421088933945\n",
            "MSE:  0.03234962746500969\n",
            "MSE:  0.031477127224206924\n"
          ]
        },
        {
          "output_type": "display_data",
          "data": {
            "text/plain": [
              "<Figure size 640x480 with 1 Axes>"
            ],
            "image/png": "[encoded data removed]"
          },
          "metadata": {}
        },
        {
          "output_type": "display_data",
          "data": {
            "text/plain": [
              "<Figure size 640x480 with 1 Axes>"
            ],
            "image/png": "[encoded data removed]"
          },
          "metadata": {}
        },
        {
          "output_type": "display_data",
          "data": {
            "text/plain": [
              "<Figure size 640x480 with 1 Axes>"
            ],
            "image/png": "[encoded data removed]"
          },
          "metadata": {}
        },
        {
          "output_type": "display_data",
          "data": {
            "text/plain": [
              "<Figure size 640x480 with 1 Axes>"
            ],
            "image/png": "[encoded data removed]"
          },
          "metadata": {}
        },
        {
          "output_type": "display_data",
          "data": {
            "text/plain": [
              "<Figure size 640x480 with 1 Axes>"
            ],
            "image/png": "[encoded data removed]"
          },
          "metadata": {}
        },
        {
          "output_type": "display_data",
          "data": {
            "text/plain": [
              "<Figure size 640x480 with 1 Axes>"
            ],
            "image/png": "[encoded data removed]"
          },
          "metadata": {}
        },
        {
          "output_type": "display_data",
          "data": {
            "text/plain": [
              "<Figure size 640x480 with 1 Axes>"
            ],
            "image/png": "[encoded data removed]"
          },
          "metadata": {}
        },
        {
          "output_type": "display_data",
          "data": {
            "text/plain": [
              "<Figure size 640x480 with 1 Axes>"
            ],
            "image/png": "[encoded data removed]"
          },
          "metadata": {}
        },
        {
          "output_type": "display_data",
          "data": {
            "text/plain": [
              "<Figure size 640x480 with 1 Axes>"
            ],
            "image/png": "[encoded data removed]"
          },
          "metadata": {}
        },
        {
          "output_type": "display_data",
          "data": {
            "text/plain": [
              "<Figure size 640x480 with 1 Axes>"
            ],
            "image/png": "[encoded data removed]"
          },
          "metadata": {}
        },
        {
          "output_type": "display_data",
          "data": {
            "text/plain": [
              "<Figure size 640x480 with 1 Axes>"
            ],
            "image/png": "[encoded data removed]"
          },
          "metadata": {}
        },
        {
          "output_type": "display_data",
          "data": {
            "text/plain": [
              "<Figure size 640x480 with 1 Axes>"
            ],
            "image/png": "[encoded data removed]"
          },
          "metadata": {}
        },
        {
          "output_type": "display_data",
          "data": {
            "text/plain": [
              "<Figure size 640x480 with 1 Axes>"
            ],
            "image/png": "[encoded data removed]"
          },
          "metadata": {}
        },
        {
          "output_type": "display_data",
          "data": {
            "text/plain": [
              "<Figure size 640x480 with 1 Axes>"
            ],
            "image/png": "[encoded data removed]"
          },
          "metadata": {}
        },
        {
          "output_type": "display_data",
          "data": {
            "text/plain": [
              "<Figure size 640x480 with 1 Axes>"
            ],
            "image/png": "[encoded data removed]"
          },
          "metadata": {}
        },
        {
          "output_type": "display_data",
          "data": {
            "text/plain": [
              "<Figure size 640x480 with 1 Axes>"
            ],
            "image/png": "[encoded data removed]"
          },
          "metadata": {}
        },
        {
          "output_type": "display_data",
          "data": {
            "text/plain": [
              "<Figure size 640x480 with 1 Axes>"
            ],
            "image/png": "[encoded data removed]"
          },
          "metadata": {}
        },
        {
          "output_type": "display_data",
          "data": {
            "text/plain": [
              "<Figure size 640x480 with 1 Axes>"
            ],
            "image/png": "[encoded data removed]"
          },
          "metadata": {}
        },
        {
          "output_type": "display_data",
          "data": {
            "text/plain": [
              "<Figure size 640x480 with 1 Axes>"
            ],
            "image/png": "[encoded data removed]"
          },
          "metadata": {}
        },
        {
          "output_type": "display_data",
          "data": {
            "text/plain": [
              "<Figure size 640x480 with 1 Axes>"
            ],
            "image/png": "[encoded data removed]"
          },
          "metadata": {}
        },
        {
          "output_type": "display_data",
          "data": {
            "text/plain": [
              "<Figure size 640x480 with 1 Axes>"
            ],
            "image/png": "[encoded data removed]"
          },
          "metadata": {}
        },
        {
          "output_type": "display_data",
          "data": {
            "text/plain": [
              "<Figure size 640x480 with 1 Axes>"
            ],
            "image/png": "[encoded data removed]"
          },
          "metadata": {}
        },
        {
          "output_type": "display_data",
          "data": {
            "text/plain": [
              "<Figure size 640x480 with 1 Axes>"
            ],
            "image/png": "[encoded data removed]"
          },
          "metadata": {}
        },
        {
          "output_type": "display_data",
          "data": {
            "text/plain": [
              "<Figure size 640x480 with 1 Axes>"
            ],
            "image/png": "[encoded data removed]"
          },
          "metadata": {}
        },
        {
          "output_type": "display_data",
          "data": {
            "text/plain": [
              "<Figure size 640x480 with 1 Axes>"
            ],
            "image/png": "[encoded data removed]"
          },
          "metadata": {}
        },
        {
          "output_type": "display_data",
          "data": {
            "text/plain": [
              "<Figure size 640x480 with 1 Axes>"
            ],
            "image/png": "[encoded data removed]"
          },
          "metadata": {}
        },
        {
          "output_type": "display_data",
          "data": {
            "text/plain": [
              "<Figure size 640x480 with 1 Axes>"
            ],
            "image/png": "[encoded data removed]"
          },
          "metadata": {}
        },
        {
          "output_type": "display_data",
          "data": {
            "text/plain": [
              "<Figure size 640x480 with 1 Axes>"
            ],
            "image/png": "[encoded data removed]"
          },
          "metadata": {}
        },
        {
          "output_type": "display_data",
          "data": {
            "text/plain": [
              "<Figure size 640x480 with 1 Axes>"
            ],
            "image/png": "[encoded data removed]"
          },
          "metadata": {}
        },
        {
          "output_type": "display_data",
          "data": {
            "text/plain": [
              "<Figure size 640x480 with 1 Axes>"
            ],
            "image/png": "[encoded data removed]"
          },
          "metadata": {}
        }
      ]
    },
    {
      "cell_type": "markdown",
      "source": [
        "**Eval best**"
      ],
      "metadata": {
        "id": "05MZ6yFBLFeP"
      }
    },
    {
      "cell_type": "code",
      "source": [
        "args = parser.parse_args(f'--mode eval --load_best_model --data_path {DATA_PATH} --working_dir {WORKING_DIR} {MODEL_ARGS} {TRAINING_ARGS}'.split()); args"
      ],
      "metadata": {
        "colab": {
          "base_uri": "https://localhost:8080/"
        },
        "id": "H3TPIMWQb6kX",
        "outputId": "d6438f56-5836-4871-ebc4-7ed81dd6d463"
      },
      "execution_count": 128,
      "outputs": [
        {
          "output_type": "execute_result",
          "data": {
            "text/plain": [
              "Namespace(working_dir='/content/drive/MyDrive/results1/dnri/seed_1/', gpu=False, seed=1, mode='eval', load_model=None, load_best_model=True, continue_training=False, model_type='dnri', num_epochs=200, lr=0.0005, mom=0, batch_size=16, sub_batch_size=None, val_batch_size=None, val_interval=5, test=False, use_adam=True, lr_decay_factor=0.5, lr_decay_steps=200, clip_grad_norm=None, verbose=False, tune_on_nll=True, val_teacher_forcing=True, accumulate_steps=1, max_burn_in_count=-1, no_prior=False, avg_prior=False, add_uniform_prior=True, prior_num_layers=4, prior_hidden_size=128, use_learned_prior=True, graph_type='dynamic', avg_encoder_inputs=False, use_dynamic_graph=False, use_static_encoder=False, decoder_type='ref_mlp', encoder_rnn_type='lstm', decoder_rnn_type='gru', encoder_hidden=256, encoder_rnn_hidden=64, num_edge_types=2, encoder_dropout=0.0, encoder_unidirectional=False, encoder_bidirectional=False, encoder_no_factor=False, decoder_hidden=512, decoder_msg_hidden=256, decoder_dropout=0.0, skip_first=True, uniform_prior=False, no_edge_prior=0.7, teacher_forcing_steps=-1, gumbel_temp=0.5, train_hard_sample=False, normalize_kl=True, normalize_kl_per_var=False, normalize_nll=True, normalize_nll_per_var=False, kl_coef=1.0, no_encoder_bn=False, encoder_mlp_hidden=128, encoder_mlp_num_layers=4, rnn_hidden=128, teacher_forcing_prior=False, decoder_rnn_hidden=None, encoder_save_eval_memory=False, encoder_normalize_mode=None, normalize_inputs=False, data_path='/content/drive/MyDrive/datos_3_1000_50_128/', same_data_norm=False, no_data_norm=False, error_out_name='prediction_errors_%dstep.npy', prior_variance=5e-05, test_burn_in_steps=10, error_suffix=None, subject_ind=-1)"
            ]
          },
          "metadata": {},
          "execution_count": 128
        }
      ]
    },
    {
      "cell_type": "code",
      "source": [
        "params = vars(args);params"
      ],
      "metadata": {
        "colab": {
          "base_uri": "https://localhost:8080/"
        },
        "id": "HvlNcGVib9_d",
        "outputId": "7c2e9c95-cd85-4dbd-f342-78e4dd42f9ba"
      },
      "execution_count": 129,
      "outputs": [
        {
          "output_type": "execute_result",
          "data": {
            "text/plain": [
              "{'working_dir': '/content/drive/MyDrive/results1/dnri/seed_1/',\n",
              " 'gpu': False,\n",
              " 'seed': 1,\n",
              " 'mode': 'eval',\n",
              " 'load_model': None,\n",
              " 'load_best_model': True,\n",
              " 'continue_training': False,\n",
              " 'model_type': 'dnri',\n",
              " 'num_epochs': 200,\n",
              " 'lr': 0.0005,\n",
              " 'mom': 0,\n",
              " 'batch_size': 16,\n",
              " 'sub_batch_size': None,\n",
              " 'val_batch_size': None,\n",
              " 'val_interval': 5,\n",
              " 'test': False,\n",
              " 'use_adam': True,\n",
              " 'lr_decay_factor': 0.5,\n",
              " 'lr_decay_steps': 200,\n",
              " 'clip_grad_norm': None,\n",
              " 'verbose': False,\n",
              " 'tune_on_nll': True,\n",
              " 'val_teacher_forcing': True,\n",
              " 'accumulate_steps': 1,\n",
              " 'max_burn_in_count': -1,\n",
              " 'no_prior': False,\n",
              " 'avg_prior': False,\n",
              " 'add_uniform_prior': True,\n",
              " 'prior_num_layers': 4,\n",
              " 'prior_hidden_size': 128,\n",
              " 'use_learned_prior': True,\n",
              " 'graph_type': 'dynamic',\n",
              " 'avg_encoder_inputs': False,\n",
              " 'use_dynamic_graph': False,\n",
              " 'use_static_encoder': False,\n",
              " 'decoder_type': 'ref_mlp',\n",
              " 'encoder_rnn_type': 'lstm',\n",
              " 'decoder_rnn_type': 'gru',\n",
              " 'encoder_hidden': 256,\n",
              " 'encoder_rnn_hidden': 64,\n",
              " 'num_edge_types': 2,\n",
              " 'encoder_dropout': 0.0,\n",
              " 'encoder_unidirectional': False,\n",
              " 'encoder_bidirectional': False,\n",
              " 'encoder_no_factor': False,\n",
              " 'decoder_hidden': 512,\n",
              " 'decoder_msg_hidden': 256,\n",
              " 'decoder_dropout': 0.0,\n",
              " 'skip_first': True,\n",
              " 'uniform_prior': False,\n",
              " 'no_edge_prior': 0.7,\n",
              " 'teacher_forcing_steps': -1,\n",
              " 'gumbel_temp': 0.5,\n",
              " 'train_hard_sample': False,\n",
              " 'normalize_kl': True,\n",
              " 'normalize_kl_per_var': False,\n",
              " 'normalize_nll': True,\n",
              " 'normalize_nll_per_var': False,\n",
              " 'kl_coef': 1.0,\n",
              " 'no_encoder_bn': False,\n",
              " 'encoder_mlp_hidden': 128,\n",
              " 'encoder_mlp_num_layers': 4,\n",
              " 'rnn_hidden': 128,\n",
              " 'teacher_forcing_prior': False,\n",
              " 'decoder_rnn_hidden': None,\n",
              " 'encoder_save_eval_memory': False,\n",
              " 'encoder_normalize_mode': None,\n",
              " 'normalize_inputs': False,\n",
              " 'data_path': '/content/drive/MyDrive/datos_3_1000_50_128/',\n",
              " 'same_data_norm': False,\n",
              " 'no_data_norm': False,\n",
              " 'error_out_name': 'prediction_errors_%dstep.npy',\n",
              " 'prior_variance': 5e-05,\n",
              " 'test_burn_in_steps': 10,\n",
              " 'error_suffix': None,\n",
              " 'subject_ind': -1}"
            ]
          },
          "metadata": {},
          "execution_count": 129
        }
      ]
    },
    {
      "cell_type": "code",
      "source": [
        "misc.seed(args.seed) # set seed for numpy torch cuda and random libs"
      ],
      "metadata": {
        "id": "ZtmTVgNNdsSd"
      },
      "execution_count": 130,
      "outputs": []
    },
    {
      "cell_type": "code",
      "source": [
        "params['num_vars'] = 3\n",
        "params['input_size'] = 2\n",
        "params['input_time_steps'] = 50\n",
        "params['nll_loss_type'] = 'gaussian'\n",
        "train_data = SmallSynthData(args.data_path, 'train', params)\n",
        "val_data   = SmallSynthData(args.data_path, 'val', params)"
      ],
      "metadata": {
        "id": "L2l-d7J1dusx"
      },
      "execution_count": 131,
      "outputs": []
    },
    {
      "cell_type": "code",
      "source": [
        "model = model_builder.build_model(params)"
      ],
      "metadata": {
        "colab": {
          "base_uri": "https://localhost:8080/"
        },
        "id": "mn-gdn47dx-7",
        "outputId": "64f128ad-7ee2-4111-9ce9-b51437c32ac5"
      },
      "execution_count": 132,
      "outputs": [
        {
          "output_type": "stream",
          "name": "stdout",
          "text": [
            "Using learned interaction net decoder.\n",
            "USING NO EDGE PRIOR:  tensor([[[-0.3567, -1.2040]]])\n",
            "dNRI MODEL:  DNRI(\n",
            "  (encoder): DNRI_Encoder(\n",
            "    (mlp1): RefNRIMLP(\n",
            "      (model): Sequential(\n",
            "        (0): Linear(in_features=2, out_features=256, bias=True)\n",
            "        (1): ELU(alpha=1.0, inplace=True)\n",
            "        (2): Dropout(p=0.0, inplace=False)\n",
            "        (3): Linear(in_features=256, out_features=256, bias=True)\n",
            "        (4): ELU(alpha=1.0, inplace=True)\n",
            "      )\n",
            "      (bn): BatchNorm1d(256, eps=1e-05, momentum=0.1, affine=True, track_running_stats=True)\n",
            "    )\n",
            "    (mlp2): RefNRIMLP(\n",
            "      (model): Sequential(\n",
            "        (0): Linear(in_features=512, out_features=256, bias=True)\n",
            "        (1): ELU(alpha=1.0, inplace=True)\n",
            "        (2): Dropout(p=0.0, inplace=False)\n",
            "        (3): Linear(in_features=256, out_features=256, bias=True)\n",
            "        (4): ELU(alpha=1.0, inplace=True)\n",
            "      )\n",
            "      (bn): BatchNorm1d(256, eps=1e-05, momentum=0.1, affine=True, track_running_stats=True)\n",
            "    )\n",
            "    (mlp3): RefNRIMLP(\n",
            "      (model): Sequential(\n",
            "        (0): Linear(in_features=256, out_features=256, bias=True)\n",
            "        (1): ELU(alpha=1.0, inplace=True)\n",
            "        (2): Dropout(p=0.0, inplace=False)\n",
            "        (3): Linear(in_features=256, out_features=256, bias=True)\n",
            "        (4): ELU(alpha=1.0, inplace=True)\n",
            "      )\n",
            "      (bn): BatchNorm1d(256, eps=1e-05, momentum=0.1, affine=True, track_running_stats=True)\n",
            "    )\n",
            "    (mlp4): RefNRIMLP(\n",
            "      (model): Sequential(\n",
            "        (0): Linear(in_features=768, out_features=256, bias=True)\n",
            "        (1): ELU(alpha=1.0, inplace=True)\n",
            "        (2): Dropout(p=0.0, inplace=False)\n",
            "        (3): Linear(in_features=256, out_features=256, bias=True)\n",
            "        (4): ELU(alpha=1.0, inplace=True)\n",
            "      )\n",
            "      (bn): BatchNorm1d(256, eps=1e-05, momentum=0.1, affine=True, track_running_stats=True)\n",
            "    )\n",
            "    (forward_rnn): LSTM(256, 64, batch_first=True)\n",
            "    (reverse_rnn): LSTM(256, 64, batch_first=True)\n",
            "    (encoder_fc_out): Sequential(\n",
            "      (0): Linear(in_features=128, out_features=128, bias=True)\n",
            "      (1): ELU(alpha=1.0, inplace=True)\n",
            "      (2): Linear(in_features=128, out_features=128, bias=True)\n",
            "      (3): ELU(alpha=1.0, inplace=True)\n",
            "      (4): Linear(in_features=128, out_features=128, bias=True)\n",
            "      (5): ELU(alpha=1.0, inplace=True)\n",
            "      (6): Linear(in_features=128, out_features=2, bias=True)\n",
            "    )\n",
            "    (prior_fc_out): Sequential(\n",
            "      (0): Linear(in_features=64, out_features=128, bias=True)\n",
            "      (1): ELU(alpha=1.0, inplace=True)\n",
            "      (2): Linear(in_features=128, out_features=128, bias=True)\n",
            "      (3): ELU(alpha=1.0, inplace=True)\n",
            "      (4): Linear(in_features=128, out_features=128, bias=True)\n",
            "      (5): ELU(alpha=1.0, inplace=True)\n",
            "      (6): Linear(in_features=128, out_features=2, bias=True)\n",
            "    )\n",
            "  )\n",
            "  (decoder): DNRI_MLP_Decoder(\n",
            "    (msg_fc1): ModuleList(\n",
            "      (0-1): 2 x Linear(in_features=4, out_features=512, bias=True)\n",
            "    )\n",
            "    (msg_fc2): ModuleList(\n",
            "      (0-1): 2 x Linear(in_features=512, out_features=512, bias=True)\n",
            "    )\n",
            "    (out_fc1): Linear(in_features=514, out_features=512, bias=True)\n",
            "    (out_fc2): Linear(in_features=512, out_features=512, bias=True)\n",
            "    (out_fc3): Linear(in_features=512, out_features=2, bias=True)\n",
            "  )\n",
            ")\n",
            "LOADING BEST MODEL\n"
          ]
        },
        {
          "output_type": "stream",
          "name": "stderr",
          "text": [
            "/content/TFM/dnri/models/dnri.py:264: FutureWarning: You are using `torch.load` with `weights_only=False` (the current default value), which uses the default pickle module implicitly. It is possible to construct malicious pickle data which will execute arbitrary code during unpickling (See https://github.com/pytorch/pytorch/blob/main/SECURITY.md#untrusted-models for more details). In a future release, the default value for `weights_only` will be flipped to `True`. This limits the functions that could be executed during unpickling. Arbitrary objects will no longer be allowed to be loaded via this mode unless they are explicitly allowlisted by the user via `torch.serialization.add_safe_globals`. We recommend you start setting `weights_only=True` for any use case where you don't have full control of the loaded file. Please open an issue on GitHub for any issues related to this experimental feature.\n",
            "  self.load_state_dict(torch.load(path))\n"
          ]
        }
      ]
    },
    {
      "cell_type": "code",
      "source": [
        "if args.mode == 'eval':\n",
        "    test_data = SmallSynthData(args.data_path, 'test', params)\n",
        "    forward_pred = 50 - args.test_burn_in_steps\n",
        "    test_mse  = evaluate.eval_forward_prediction(model, test_data, args.test_burn_in_steps, forward_pred, params)\n",
        "    path = os.path.join(args.working_dir, args.error_out_name%args.test_burn_in_steps)\n",
        "    np.save(path, test_mse.cpu().numpy())\n",
        "    test_mse_1  = test_mse[0].item()\n",
        "    test_mse_15 = test_mse[14].item()\n",
        "    test_mse_25 = test_mse[24].item()\n",
        "    print(\"FORWARD PRED RESULTS:\")\n",
        "    print(\"\\t1 STEP: \", test_mse_1)\n",
        "    print(\"\\t15 STEP: \",test_mse_15)\n",
        "    print(\"\\t25 STEP: \",test_mse_25)\n",
        "\n",
        "\n",
        "    f1, all_acc, acc_0, acc_1, edges = eval_edges(model, val_data, params)\n",
        "    print(\"Val Edge results:\")\n",
        "    print(\"\\tF1: \",f1)\n",
        "    print(\"\\tAll predicted edge accuracy: \",all_acc)\n",
        "    print(\"\\tFirst Edge Acc: \",acc_0)\n",
        "    print(\"\\tSecond Edge Acc: \",acc_1)\n",
        "    out_dir = os.path.join(args.working_dir, 'preds')\n",
        "    os.makedirs(out_dir, exist_ok=True)\n",
        "    out_path = os.path.join(out_dir, 'encoder_edges.npy')\n",
        "    np.save(out_path, edges.numpy())\n",
        "\n",
        "    plot_sample(model, test_data, args.test_burn_in_steps, params)"
      ],
      "metadata": {
        "id": "sjOCIYhHd20s",
        "colab": {
          "base_uri": "https://localhost:8080/",
          "height": 1000
        },
        "outputId": "a5609298-9415-47f2-c0d6-a93050b417d3"
      },
      "execution_count": 133,
      "outputs": [
        {
          "output_type": "stream",
          "name": "stdout",
          "text": [
            "FORWARD PRED RESULTS:\n",
            "\t1 STEP:  0.0002538214612286538\n",
            "\t15 STEP:  0.0037601792719215155\n",
            "\t25 STEP:  0.006325786467641592\n",
            "Val Edge results:\n",
            "\tF1:  0.1036721758325627\n",
            "\tAll predicted edge accuracy:  0.6852823129251467\n",
            "\tFirst Edge Acc:  0.7017489873906632\n",
            "\tSecond Edge Acc:  0.3684246763974329\n",
            "MSE:  0.004847889766097069\n",
            "MSE:  0.0062938714399933815\n",
            "MSE:  0.005728584714233875\n",
            "MSE:  0.0042013367637991905\n",
            "MSE:  0.005270914174616337\n",
            "MSE:  0.004211150575429201\n",
            "MSE:  0.00572716910392046\n",
            "MSE:  0.006478469353169203\n",
            "MSE:  0.00534743582829833\n",
            "MSE:  0.005675665568560362\n"
          ]
        },
        {
          "output_type": "display_data",
          "data": {
            "text/plain": [
              "<Figure size 640x480 with 1 Axes>"
            ],
            "image/png": "[encoded data removed]"
          },
          "metadata": {}
        },
        {
          "output_type": "display_data",
          "data": {
            "text/plain": [
              "<Figure size 640x480 with 1 Axes>"
            ],
            "image/png": "[encoded data removed]"
          },
          "metadata": {}
        },
        {
          "output_type": "display_data",
          "data": {
            "text/plain": [
              "<Figure size 640x480 with 1 Axes>"
            ],
            "image/png": "[encoded data removed]"
          },
          "metadata": {}
        },
        {
          "output_type": "display_data",
          "data": {
            "text/plain": [
              "<Figure size 640x480 with 1 Axes>"
            ],
            "image/png": "[encoded data removed]"
          },
          "metadata": {}
        },
        {
          "output_type": "display_data",
          "data": {
            "text/plain": [
              "<Figure size 640x480 with 1 Axes>"
            ],
            "image/png": "[encoded data removed]"
          },
          "metadata": {}
        },
        {
          "output_type": "display_data",
          "data": {
            "text/plain": [
              "<Figure size 640x480 with 1 Axes>"
            ],
            "image/png": "[encoded data removed]"
          },
          "metadata": {}
        },
        {
          "output_type": "display_data",
          "data": {
            "text/plain": [
              "<Figure size 640x480 with 1 Axes>"
            ],
            "image/png": "[encoded data removed]"
          },
          "metadata": {}
        },
        {
          "output_type": "display_data",
          "data": {
            "text/plain": [
              "<Figure size 640x480 with 1 Axes>"
            ],
            "image/png": "[encoded data removed]"
          },
          "metadata": {}
        },
        {
          "output_type": "display_data",
          "data": {
            "text/plain": [
              "<Figure size 640x480 with 1 Axes>"
            ],
            "image/png": "[encoded data removed]"
          },
          "metadata": {}
        },
        {
          "output_type": "display_data",
          "data": {
            "text/plain": [
              "<Figure size 640x480 with 1 Axes>"
            ],
            "image/png": "[encoded data removed]"
          },
          "metadata": {}
        }
      ]
    },
    {
      "cell_type": "markdown",
      "source": [
        "**Manual inspection of best model DNRI**"
      ],
      "metadata": {
        "id": "pUjddeTsLVFx"
      }
    },
    {
      "cell_type": "code",
      "source": [
        "!pip install dnri  # Make sure the dnri package is installed\n",
        "\n",
        "import dnri  # Import the dnri module"
      ],
      "metadata": {
        "colab": {
          "base_uri": "https://localhost:8080/"
        },
        "id": "MGNUc35mLZZ9",
        "outputId": "7453b1e1-36a2-4464-f497-7fd6a172864e"
      },
      "execution_count": 134,
      "outputs": [
        {
          "output_type": "stream",
          "name": "stdout",
          "text": [
            "Requirement already satisfied: dnri in /content/TFM (1.0)\n"
          ]
        }
      ]
    },
    {
      "cell_type": "code",
      "source": [
        "model = dnri.models.dnri.DNRI(params)"
      ],
      "metadata": {
        "colab": {
          "base_uri": "https://localhost:8080/"
        },
        "id": "3w0ceGXXjV-d",
        "outputId": "2fc517e5-1f81-495b-ff1c-26b1dae74bb4"
      },
      "execution_count": 135,
      "outputs": [
        {
          "output_type": "stream",
          "name": "stdout",
          "text": [
            "Using learned interaction net decoder.\n",
            "USING NO EDGE PRIOR:  tensor([[[-0.3567, -1.2040]]])\n"
          ]
        }
      ]
    },
    {
      "cell_type": "code",
      "source": [
        "path"
      ],
      "metadata": {
        "colab": {
          "base_uri": "https://localhost:8080/",
          "height": 36
        },
        "id": "xiT8eWNCjfSh",
        "outputId": "7649e3a1-891a-4369-d9e4-225916359914"
      },
      "execution_count": 136,
      "outputs": [
        {
          "output_type": "execute_result",
          "data": {
            "text/plain": [
              "'/content/drive/MyDrive/results1/dnri/seed_1/prediction_errors_10step.npy'"
            ],
            "application/vnd.google.colaboratory.intrinsic+json": {
              "type": "string"
            }
          },
          "metadata": {},
          "execution_count": 136
        }
      ]
    },
    {
      "cell_type": "code",
      "source": [
        "print(\"LOADING BEST MODEL\")\n",
        "path = os.path.join(\"/content/drive/MyDrive/results1/dnri/seed_1/\", 'best_model')\n",
        "print(path)\n",
        "model.load(path)"
      ],
      "metadata": {
        "colab": {
          "base_uri": "https://localhost:8080/"
        },
        "id": "CslOQ1qgLe9_",
        "outputId": "fb0346fd-0721-4776-9d1c-dcb578522b61"
      },
      "execution_count": 137,
      "outputs": [
        {
          "output_type": "stream",
          "name": "stdout",
          "text": [
            "LOADING BEST MODEL\n",
            "/content/drive/MyDrive/results1/dnri/seed_1/best_model\n"
          ]
        },
        {
          "output_type": "stream",
          "name": "stderr",
          "text": [
            "/content/TFM/dnri/models/dnri.py:264: FutureWarning: You are using `torch.load` with `weights_only=False` (the current default value), which uses the default pickle module implicitly. It is possible to construct malicious pickle data which will execute arbitrary code during unpickling (See https://github.com/pytorch/pytorch/blob/main/SECURITY.md#untrusted-models for more details). In a future release, the default value for `weights_only` will be flipped to `True`. This limits the functions that could be executed during unpickling. Arbitrary objects will no longer be allowed to be loaded via this mode unless they are explicitly allowlisted by the user via `torch.serialization.add_safe_globals`. We recommend you start setting `weights_only=True` for any use case where you don't have full control of the loaded file. Please open an issue on GitHub for any issues related to this experimental feature.\n",
            "  self.load_state_dict(torch.load(path))\n"
          ]
        }
      ]
    },
    {
      "cell_type": "code",
      "source": [
        "model"
      ],
      "metadata": {
        "colab": {
          "base_uri": "https://localhost:8080/"
        },
        "id": "QxypW3pGLhdG",
        "outputId": "f5820b51-51db-4ea1-d9ad-91cab4cde0cb"
      },
      "execution_count": 138,
      "outputs": [
        {
          "output_type": "execute_result",
          "data": {
            "text/plain": [
              "DNRI(\n",
              "  (encoder): DNRI_Encoder(\n",
              "    (mlp1): RefNRIMLP(\n",
              "      (model): Sequential(\n",
              "        (0): Linear(in_features=2, out_features=256, bias=True)\n",
              "        (1): ELU(alpha=1.0, inplace=True)\n",
              "        (2): Dropout(p=0.0, inplace=False)\n",
              "        (3): Linear(in_features=256, out_features=256, bias=True)\n",
              "        (4): ELU(alpha=1.0, inplace=True)\n",
              "      )\n",
              "      (bn): BatchNorm1d(256, eps=1e-05, momentum=0.1, affine=True, track_running_stats=True)\n",
              "    )\n",
              "    (mlp2): RefNRIMLP(\n",
              "      (model): Sequential(\n",
              "        (0): Linear(in_features=512, out_features=256, bias=True)\n",
              "        (1): ELU(alpha=1.0, inplace=True)\n",
              "        (2): Dropout(p=0.0, inplace=False)\n",
              "        (3): Linear(in_features=256, out_features=256, bias=True)\n",
              "        (4): ELU(alpha=1.0, inplace=True)\n",
              "      )\n",
              "      (bn): BatchNorm1d(256, eps=1e-05, momentum=0.1, affine=True, track_running_stats=True)\n",
              "    )\n",
              "    (mlp3): RefNRIMLP(\n",
              "      (model): Sequential(\n",
              "        (0): Linear(in_features=256, out_features=256, bias=True)\n",
              "        (1): ELU(alpha=1.0, inplace=True)\n",
              "        (2): Dropout(p=0.0, inplace=False)\n",
              "        (3): Linear(in_features=256, out_features=256, bias=True)\n",
              "        (4): ELU(alpha=1.0, inplace=True)\n",
              "      )\n",
              "      (bn): BatchNorm1d(256, eps=1e-05, momentum=0.1, affine=True, track_running_stats=True)\n",
              "    )\n",
              "    (mlp4): RefNRIMLP(\n",
              "      (model): Sequential(\n",
              "        (0): Linear(in_features=768, out_features=256, bias=True)\n",
              "        (1): ELU(alpha=1.0, inplace=True)\n",
              "        (2): Dropout(p=0.0, inplace=False)\n",
              "        (3): Linear(in_features=256, out_features=256, bias=True)\n",
              "        (4): ELU(alpha=1.0, inplace=True)\n",
              "      )\n",
              "      (bn): BatchNorm1d(256, eps=1e-05, momentum=0.1, affine=True, track_running_stats=True)\n",
              "    )\n",
              "    (forward_rnn): LSTM(256, 64, batch_first=True)\n",
              "    (reverse_rnn): LSTM(256, 64, batch_first=True)\n",
              "    (encoder_fc_out): Sequential(\n",
              "      (0): Linear(in_features=128, out_features=128, bias=True)\n",
              "      (1): ELU(alpha=1.0, inplace=True)\n",
              "      (2): Linear(in_features=128, out_features=128, bias=True)\n",
              "      (3): ELU(alpha=1.0, inplace=True)\n",
              "      (4): Linear(in_features=128, out_features=128, bias=True)\n",
              "      (5): ELU(alpha=1.0, inplace=True)\n",
              "      (6): Linear(in_features=128, out_features=2, bias=True)\n",
              "    )\n",
              "    (prior_fc_out): Sequential(\n",
              "      (0): Linear(in_features=64, out_features=128, bias=True)\n",
              "      (1): ELU(alpha=1.0, inplace=True)\n",
              "      (2): Linear(in_features=128, out_features=128, bias=True)\n",
              "      (3): ELU(alpha=1.0, inplace=True)\n",
              "      (4): Linear(in_features=128, out_features=128, bias=True)\n",
              "      (5): ELU(alpha=1.0, inplace=True)\n",
              "      (6): Linear(in_features=128, out_features=2, bias=True)\n",
              "    )\n",
              "  )\n",
              "  (decoder): DNRI_MLP_Decoder(\n",
              "    (msg_fc1): ModuleList(\n",
              "      (0-1): 2 x Linear(in_features=4, out_features=512, bias=True)\n",
              "    )\n",
              "    (msg_fc2): ModuleList(\n",
              "      (0-1): 2 x Linear(in_features=512, out_features=512, bias=True)\n",
              "    )\n",
              "    (out_fc1): Linear(in_features=514, out_features=512, bias=True)\n",
              "    (out_fc2): Linear(in_features=512, out_features=512, bias=True)\n",
              "    (out_fc3): Linear(in_features=512, out_features=2, bias=True)\n",
              "  )\n",
              ")"
            ]
          },
          "metadata": {},
          "execution_count": 138
        }
      ]
    },
    {
      "cell_type": "code",
      "source": [
        "args.data_path"
      ],
      "metadata": {
        "colab": {
          "base_uri": "https://localhost:8080/",
          "height": 36
        },
        "id": "tN4iBH6JLlD3",
        "outputId": "93ea5d83-beb6-4a8b-9961-72e638d8582f"
      },
      "execution_count": 139,
      "outputs": [
        {
          "output_type": "execute_result",
          "data": {
            "text/plain": [
              "'/content/drive/MyDrive/datos_3_1000_50_128/'"
            ],
            "application/vnd.google.colaboratory.intrinsic+json": {
              "type": "string"
            }
          },
          "metadata": {},
          "execution_count": 139
        }
      ]
    },
    {
      "cell_type": "code",
      "source": [
        "test_data = SmallSynthData(args.data_path, 'test', params)"
      ],
      "metadata": {
        "id": "VX6Pgo-yLoGJ",
        "colab": {
          "base_uri": "https://localhost:8080/"
        },
        "outputId": "c4a2241e-3aaf-40bf-a130-f3ca6c782f58"
      },
      "execution_count": 140,
      "outputs": [
        {
          "output_type": "stream",
          "name": "stderr",
          "text": [
            "/content/TFM/dnri/datasets/small_synth_data.py:20: FutureWarning: You are using `torch.load` with `weights_only=False` (the current default value), which uses the default pickle module implicitly. It is possible to construct malicious pickle data which will execute arbitrary code during unpickling (See https://github.com/pytorch/pytorch/blob/main/SECURITY.md#untrusted-models for more details). In a future release, the default value for `weights_only` will be flipped to `True`. This limits the functions that could be executed during unpickling. Arbitrary objects will no longer be allowed to be loaded via this mode unless they are explicitly allowlisted by the user via `torch.serialization.add_safe_globals`. We recommend you start setting `weights_only=True` for any use case where you don't have full control of the loaded file. Please open an issue on GitHub for any issues related to this experimental feature.\n",
            "  self.feats = torch.load(path)\n",
            "/content/TFM/dnri/datasets/small_synth_data.py:21: FutureWarning: You are using `torch.load` with `weights_only=False` (the current default value), which uses the default pickle module implicitly. It is possible to construct malicious pickle data which will execute arbitrary code during unpickling (See https://github.com/pytorch/pytorch/blob/main/SECURITY.md#untrusted-models for more details). In a future release, the default value for `weights_only` will be flipped to `True`. This limits the functions that could be executed during unpickling. Arbitrary objects will no longer be allowed to be loaded via this mode unless they are explicitly allowlisted by the user via `torch.serialization.add_safe_globals`. We recommend you start setting `weights_only=True` for any use case where you don't have full control of the loaded file. Please open an issue on GitHub for any issues related to this experimental feature.\n",
            "  self.edges = torch.load(edge_path)\n",
            "/content/TFM/dnri/datasets/small_synth_data.py:28: FutureWarning: You are using `torch.load` with `weights_only=False` (the current default value), which uses the default pickle module implicitly. It is possible to construct malicious pickle data which will execute arbitrary code during unpickling (See https://github.com/pytorch/pytorch/blob/main/SECURITY.md#untrusted-models for more details). In a future release, the default value for `weights_only` will be flipped to `True`. This limits the functions that could be executed during unpickling. Arbitrary objects will no longer be allowed to be loaded via this mode unless they are explicitly allowlisted by the user via `torch.serialization.add_safe_globals`. We recommend you start setting `weights_only=True` for any use case where you don't have full control of the loaded file. Please open an issue on GitHub for any issues related to this experimental feature.\n",
            "  train_data = torch.load(os.path.join(self.data_path, 'train_feats'))\n"
          ]
        }
      ]
    },
    {
      "cell_type": "code",
      "source": [
        "edges_true = torch.load(args.data_path+'test_edges')"
      ],
      "metadata": {
        "id": "-ghITXBpLogV",
        "colab": {
          "base_uri": "https://localhost:8080/"
        },
        "outputId": "1d8cb6df-f388-4225-a3da-40f5164e36d0"
      },
      "execution_count": 141,
      "outputs": [
        {
          "output_type": "stream",
          "name": "stderr",
          "text": [
            "<ipython-input-141-818d79b49168>:1: FutureWarning: You are using `torch.load` with `weights_only=False` (the current default value), which uses the default pickle module implicitly. It is possible to construct malicious pickle data which will execute arbitrary code during unpickling (See https://github.com/pytorch/pytorch/blob/main/SECURITY.md#untrusted-models for more details). In a future release, the default value for `weights_only` will be flipped to `True`. This limits the functions that could be executed during unpickling. Arbitrary objects will no longer be allowed to be loaded via this mode unless they are explicitly allowlisted by the user via `torch.serialization.add_safe_globals`. We recommend you start setting `weights_only=True` for any use case where you don't have full control of the loaded file. Please open an issue on GitHub for any issues related to this experimental feature.\n",
            "  edges_true = torch.load(args.data_path+'test_edges')\n"
          ]
        }
      ]
    },
    {
      "cell_type": "code",
      "source": [
        "edges_true = torch.load(args.data_path+'val_edges')"
      ],
      "metadata": {
        "id": "4-5Hgok2LrNS",
        "colab": {
          "base_uri": "https://localhost:8080/"
        },
        "outputId": "3e6be837-0070-41d3-d531-e71880515b38"
      },
      "execution_count": 142,
      "outputs": [
        {
          "output_type": "stream",
          "name": "stderr",
          "text": [
            "<ipython-input-142-100786990366>:1: FutureWarning: You are using `torch.load` with `weights_only=False` (the current default value), which uses the default pickle module implicitly. It is possible to construct malicious pickle data which will execute arbitrary code during unpickling (See https://github.com/pytorch/pytorch/blob/main/SECURITY.md#untrusted-models for more details). In a future release, the default value for `weights_only` will be flipped to `True`. This limits the functions that could be executed during unpickling. Arbitrary objects will no longer be allowed to be loaded via this mode unless they are explicitly allowlisted by the user via `torch.serialization.add_safe_globals`. We recommend you start setting `weights_only=True` for any use case where you don't have full control of the loaded file. Please open an issue on GitHub for any issues related to this experimental feature.\n",
            "  edges_true = torch.load(args.data_path+'val_edges')\n"
          ]
        }
      ]
    },
    {
      "cell_type": "code",
      "source": [
        "feats = torch.load(args.data_path+'test_feats')"
      ],
      "metadata": {
        "id": "FVCpvlcNLuso",
        "colab": {
          "base_uri": "https://localhost:8080/"
        },
        "outputId": "0b6e0df3-314d-424f-c250-f13e49aab3ab"
      },
      "execution_count": 143,
      "outputs": [
        {
          "output_type": "stream",
          "name": "stderr",
          "text": [
            "<ipython-input-143-920cc02d58ed>:1: FutureWarning: You are using `torch.load` with `weights_only=False` (the current default value), which uses the default pickle module implicitly. It is possible to construct malicious pickle data which will execute arbitrary code during unpickling (See https://github.com/pytorch/pytorch/blob/main/SECURITY.md#untrusted-models for more details). In a future release, the default value for `weights_only` will be flipped to `True`. This limits the functions that could be executed during unpickling. Arbitrary objects will no longer be allowed to be loaded via this mode unless they are explicitly allowlisted by the user via `torch.serialization.add_safe_globals`. We recommend you start setting `weights_only=True` for any use case where you don't have full control of the loaded file. Please open an issue on GitHub for any issues related to this experimental feature.\n",
            "  feats = torch.load(args.data_path+'test_feats')\n"
          ]
        }
      ]
    },
    {
      "cell_type": "code",
      "source": [
        "feats = torch.load(args.data_path+'val_feats')"
      ],
      "metadata": {
        "id": "ZMq_KEQ7Lwl9",
        "colab": {
          "base_uri": "https://localhost:8080/"
        },
        "outputId": "8cc430fe-4f26-4ff8-96b5-03de734ec9e8"
      },
      "execution_count": 144,
      "outputs": [
        {
          "output_type": "stream",
          "name": "stderr",
          "text": [
            "<ipython-input-144-e97cac2012a2>:1: FutureWarning: You are using `torch.load` with `weights_only=False` (the current default value), which uses the default pickle module implicitly. It is possible to construct malicious pickle data which will execute arbitrary code during unpickling (See https://github.com/pytorch/pytorch/blob/main/SECURITY.md#untrusted-models for more details). In a future release, the default value for `weights_only` will be flipped to `True`. This limits the functions that could be executed during unpickling. Arbitrary objects will no longer be allowed to be loaded via this mode unless they are explicitly allowlisted by the user via `torch.serialization.add_safe_globals`. We recommend you start setting `weights_only=True` for any use case where you don't have full control of the loaded file. Please open an issue on GitHub for any issues related to this experimental feature.\n",
            "  feats = torch.load(args.data_path+'val_feats')\n"
          ]
        }
      ]
    },
    {
      "cell_type": "code",
      "source": [
        "loc_max = feats[:, :, :, :2].max()\n",
        "loc_min = feats[:, :, :, :2].min()\n",
        "feats[:, :, :, :2] = (feats[:, :, :, :2] - loc_min) * 2 / (loc_max - loc_min) - 1"
      ],
      "metadata": {
        "id": "gUxnem48Ly2e"
      },
      "execution_count": 145,
      "outputs": []
    },
    {
      "cell_type": "code",
      "source": [
        "import torch.nn.functional as F"
      ],
      "metadata": {
        "id": "hTL-IcYCMVec"
      },
      "execution_count": 146,
      "outputs": []
    },
    {
      "cell_type": "code",
      "source": [
        "with torch.no_grad():\n",
        "    inputs = feats # B, T, N, F\n",
        "\n",
        "    # Encode input = predict prior and edge class\n",
        "    sinputs = inputs[:, :-1]   # B,T-1,N,F\n",
        "    prior_logits, posterior_logits, prior_state = model.encoder(sinputs)\n",
        "\n",
        "    # Decode = predict next timestep features\n",
        "    hidden = model.decoder.get_initial_hidden(inputs) # zeros B,N,H\n",
        "    timesteps = inputs.size(1)  # T\n",
        "    edges, predictions = [], []\n",
        "\n",
        "    for step in range(timesteps - 1): # T-1\n",
        "        dinput = inputs[:, step]  # B, N, F\n",
        "        prediction, hidden, edge = model.single_step_forward(\n",
        "            dinput,  # B, N, F\n",
        "            hidden,  # B, N, H\n",
        "            posterior_logits[:, step],  # B, E, C\n",
        "            hard_sample=not model.training,\n",
        "        )\n",
        "        predictions.append(prediction)  # B, N, F\n",
        "        edges.append(edge)              # B, E, C\n",
        "\n",
        "    predictions = torch.stack(predictions, dim=1) # B, T-1, N, F\n",
        "    target = inputs[:, 1:]  # [B:batch, T:time-1, N:num_object, F:num_feats] target the future\n",
        "\n",
        "    # get loss\n",
        "    # reconstruction\n",
        "    loss_nll = model.nll_gaussian(predictions, target)\n",
        "\n",
        "    # priors\n",
        "    # learned prior\n",
        "    prob = F.softmax(posterior_logits, dim=-1)\n",
        "    loss_kl_learned = model.kl_categorical_learned(prob, prior_logits)\n",
        "    # uniform (or guessed) prior\n",
        "    loss_kl_uniform = model.kl_categorical_avg(prob)\n",
        "\n",
        "    loss_kl = 0.5 * loss_kl_learned + 0.5 * loss_kl_uniform\n",
        "\n",
        "    loss = loss_nll + model.kl_coef * loss_kl\n",
        "    loss = loss.mean().item()"
      ],
      "metadata": {
        "id": "pts4GGjuMYmD"
      },
      "execution_count": 147,
      "outputs": []
    },
    {
      "cell_type": "code",
      "source": [
        "loss, loss_nll.mean(), loss_kl.mean(), loss_kl_uniform.mean(), loss_kl_learned.mean()"
      ],
      "metadata": {
        "colab": {
          "base_uri": "https://localhost:8080/"
        },
        "id": "S3df0hFVMbWH",
        "outputId": "3aeb48c0-7f31-4b4f-86e2-adbdfe4a6135"
      },
      "execution_count": 148,
      "outputs": [
        {
          "output_type": "execute_result",
          "data": {
            "text/plain": [
              "(-1.1463459730148315,\n",
              " tensor(-1.3149),\n",
              " tensor(0.1686),\n",
              " tensor(0.0579),\n",
              " tensor(0.2793))"
            ]
          },
          "metadata": {},
          "execution_count": 148
        }
      ]
    },
    {
      "cell_type": "code",
      "source": [
        "F.mse_loss(predictions, target).item()"
      ],
      "metadata": {
        "colab": {
          "base_uri": "https://localhost:8080/"
        },
        "id": "Ajcr6OoMMdrm",
        "outputId": "0a3b5360-f2e1-45fd-8f21-e57249824a93"
      },
      "execution_count": 149,
      "outputs": [
        {
          "output_type": "execute_result",
          "data": {
            "text/plain": [
              "0.000135893962578848"
            ]
          },
          "metadata": {},
          "execution_count": 149
        }
      ]
    },
    {
      "cell_type": "code",
      "source": [
        "from sklearn.metrics import f1_score"
      ],
      "metadata": {
        "id": "dHmo_EKVMgA5"
      },
      "execution_count": 150,
      "outputs": []
    },
    {
      "cell_type": "code",
      "source": [
        "edges = torch.stack(edges).transpose(1,0)"
      ],
      "metadata": {
        "id": "RjS3cBpVMitB"
      },
      "execution_count": 151,
      "outputs": []
    },
    {
      "cell_type": "code",
      "source": [
        "sum(torch.argmax(edges,dim=-1).to(int).numpy().reshape(-1,6)==1)"
      ],
      "metadata": {
        "colab": {
          "base_uri": "https://localhost:8080/"
        },
        "id": "4mNbt7U7MlM3",
        "outputId": "213777f4-1a7b-4611-ddf6-8a358ccaaae9"
      },
      "execution_count": 152,
      "outputs": [
        {
          "output_type": "execute_result",
          "data": {
            "text/plain": [
              "array([21630, 15854, 21454, 15576,  8920,  8926])"
            ]
          },
          "metadata": {},
          "execution_count": 152
        }
      ]
    },
    {
      "cell_type": "code",
      "source": [
        "sum(edges_true[:,1:].to(bool).numpy().reshape(-1,6)==1)"
      ],
      "metadata": {
        "colab": {
          "base_uri": "https://localhost:8080/"
        },
        "id": "pXgC0OBwMoSp",
        "outputId": "d7ce6729-e5e8-4b32-d3d4-644ce6be6783"
      },
      "execution_count": 153,
      "outputs": [
        {
          "output_type": "execute_result",
          "data": {
            "text/plain": [
              "array([14930,     0,     0,     0,     0,     0])"
            ]
          },
          "metadata": {},
          "execution_count": 153
        }
      ]
    },
    {
      "cell_type": "code",
      "source": [
        "edges_true_ = edges_true[:,1:].long()\n",
        "edges_pred  = edges.argmax(dim=-1).long()"
      ],
      "metadata": {
        "id": "bKiIeRmxMrLs"
      },
      "execution_count": 154,
      "outputs": []
    },
    {
      "cell_type": "code",
      "source": [
        "edges_true_.shape, edges_pred.shape, edges_true_.dtype, edges_pred.dtype"
      ],
      "metadata": {
        "colab": {
          "base_uri": "https://localhost:8080/"
        },
        "id": "DiLZPEV_Mt2K",
        "outputId": "764f9b4b-cad1-4ff5-b7fe-8a24c3c2b380"
      },
      "execution_count": 155,
      "outputs": [
        {
          "output_type": "execute_result",
          "data": {
            "text/plain": [
              "(torch.Size([1000, 49, 6]),\n",
              " torch.Size([1000, 49, 6]),\n",
              " torch.int64,\n",
              " torch.int64)"
            ]
          },
          "metadata": {},
          "execution_count": 155
        }
      ]
    },
    {
      "cell_type": "code",
      "source": [
        "(f1_score(edges_true_.numpy().reshape(-1,6)[:,1],edges_pred.numpy().reshape(-1,6)[:,1],)\n",
        " +\n",
        " f1_score(edges_true_.numpy().reshape(-1,6)[:,3],edges_pred.numpy().reshape(-1,6)[:,3],)\n",
        ")/2"
      ],
      "metadata": {
        "colab": {
          "base_uri": "https://localhost:8080/"
        },
        "id": "KQvr9libMwNn",
        "outputId": "50aa06f7-c640-4689-b38e-3d8a3eae9c85"
      },
      "execution_count": 156,
      "outputs": [
        {
          "output_type": "execute_result",
          "data": {
            "text/plain": [
              "0.0"
            ]
          },
          "metadata": {},
          "execution_count": 156
        }
      ]
    },
    {
      "cell_type": "code",
      "source": [
        "edge_count = edges_pred.numel()\n",
        "full_edge_count = edges_true_.numel()\n",
        "correct_edges = ((edges_pred == edges_true_)).sum().item()\n",
        "edge_0_count = (edges_true_ == 0).sum().item()\n",
        "edge_1_count = (edges_true_ == 1).sum().item()\n",
        "correct_0_edges = ((edges_pred == edges_true_)*(edges_true_ == 0)).sum().item()\n",
        "correct_1_edges = ((edges_pred == edges_true_)*(edges_true_ == 1)).sum().item()\n",
        "correct = (edges_pred*edges_true_).sum().item()\n",
        "num_predicted = edges_pred.sum().item()\n",
        "num_gt = edges_true_.sum().item()\n",
        "prec = correct / (num_predicted + 1e-8)\n",
        "rec = correct / (num_gt + 1e-8)\n",
        "f1 = 2*prec*rec / (prec+rec+1e-6)\n",
        "print(f1, correct_edges / (full_edge_count + 1e-8), correct_0_edges / (edge_0_count + 1e-8), correct_1_edges / (edge_1_count + 1e-8))"
      ],
      "metadata": {
        "colab": {
          "base_uri": "https://localhost:8080/"
        },
        "id": "Fw9YM4kMM1-N",
        "outputId": "0fc2ee6b-c9b9-408e-92c3-331b51c86464"
      },
      "execution_count": 157,
      "outputs": [
        {
          "output_type": "stream",
          "name": "stdout",
          "text": [
            "0.11104459218229333 0.6755918367346708 0.6903895080087186 0.3989953114531822\n"
          ]
        }
      ]
    },
    {
      "cell_type": "code",
      "source": [
        "# see accuracy compared with data class percentages\n",
        "1-edges_true.mean(), correct_edges / (full_edge_count + 1e-8)\n",
        "# total accuracy is slightly better than percentage of edges"
      ],
      "metadata": {
        "colab": {
          "base_uri": "https://localhost:8080/"
        },
        "id": "AAH4Mz7fM4jp",
        "outputId": "f07f50f1-a076-41c7-da01-4d58faf9ac93"
      },
      "execution_count": 158,
      "outputs": [
        {
          "output_type": "execute_result",
          "data": {
            "text/plain": [
              "(tensor(0.9502), 0.6755918367346708)"
            ]
          },
          "metadata": {},
          "execution_count": 158
        }
      ]
    },
    {
      "cell_type": "markdown",
      "source": [
        "**Prior**"
      ],
      "metadata": {
        "id": "Osgt8JxkNXvC"
      }
    },
    {
      "cell_type": "code",
      "source": [
        "prior_logits.shape"
      ],
      "metadata": {
        "colab": {
          "base_uri": "https://localhost:8080/"
        },
        "id": "hiSYhlVgNZVA",
        "outputId": "b4ef4f2d-876f-469f-821f-0fefe3b6b0d2"
      },
      "execution_count": 159,
      "outputs": [
        {
          "output_type": "execute_result",
          "data": {
            "text/plain": [
              "torch.Size([1000, 49, 6, 2])"
            ]
          },
          "metadata": {},
          "execution_count": 159
        }
      ]
    },
    {
      "cell_type": "code",
      "source": [
        "edges_prior  = prior_logits.cpu().detach()\n",
        "edges_logits = posterior_logits.cpu().detach()"
      ],
      "metadata": {
        "id": "OvKFKZ9NNbjt"
      },
      "execution_count": 160,
      "outputs": []
    },
    {
      "cell_type": "code",
      "source": [
        "import numpy as np\n",
        "ep = np.argmax(edges_prior, axis=-1)\n",
        "ec = np.argmax(edges_logits, axis=-1)"
      ],
      "metadata": {
        "id": "JDUcURLwNeVL"
      },
      "execution_count": 161,
      "outputs": []
    },
    {
      "cell_type": "code",
      "source": [
        "el = torch.nn.functional.gumbel_softmax(edges_logits, tau=model.gumbel_temp/2, hard=True,).cpu().numpy()"
      ],
      "metadata": {
        "id": "ScdPY4tlNgq1"
      },
      "execution_count": 162,
      "outputs": []
    },
    {
      "cell_type": "code",
      "source": [
        "edges_t = edges_true_"
      ],
      "metadata": {
        "id": "eS9Q1z83Njl-"
      },
      "execution_count": 163,
      "outputs": []
    },
    {
      "cell_type": "code",
      "source": [
        "edges_t.shape, ep.shape, ec.shape, el.shape"
      ],
      "metadata": {
        "colab": {
          "base_uri": "https://localhost:8080/"
        },
        "id": "3_Utjn0yNmC9",
        "outputId": "ef0f1773-d1e9-4000-e2f4-679d5f957d3b"
      },
      "execution_count": 164,
      "outputs": [
        {
          "output_type": "execute_result",
          "data": {
            "text/plain": [
              "(torch.Size([1000, 49, 6]),\n",
              " torch.Size([1000, 49, 6]),\n",
              " torch.Size([1000, 49, 6]),\n",
              " (1000, 49, 6, 2))"
            ]
          },
          "metadata": {},
          "execution_count": 164
        }
      ]
    },
    {
      "cell_type": "code",
      "source": [
        "edges_t[0]"
      ],
      "metadata": {
        "colab": {
          "base_uri": "https://localhost:8080/"
        },
        "id": "oH4D2ifvNn6m",
        "outputId": "542879ff-8647-4844-a21f-f12969850d0f"
      },
      "execution_count": 165,
      "outputs": [
        {
          "output_type": "execute_result",
          "data": {
            "text/plain": [
              "tensor([[0, 0, 0, 0, 0, 0],\n",
              "        [0, 0, 0, 0, 0, 0],\n",
              "        [0, 0, 0, 0, 0, 0],\n",
              "        [0, 0, 0, 0, 0, 0],\n",
              "        [0, 0, 0, 0, 0, 0],\n",
              "        [0, 0, 0, 0, 0, 0],\n",
              "        [0, 0, 0, 0, 0, 0],\n",
              "        [0, 0, 0, 0, 0, 0],\n",
              "        [0, 0, 0, 0, 0, 0],\n",
              "        [0, 0, 0, 0, 0, 0],\n",
              "        [0, 0, 0, 0, 0, 0],\n",
              "        [0, 0, 0, 0, 0, 0],\n",
              "        [0, 0, 0, 0, 0, 0],\n",
              "        [0, 0, 0, 0, 0, 0],\n",
              "        [0, 0, 0, 0, 0, 0],\n",
              "        [0, 0, 0, 0, 0, 0],\n",
              "        [0, 0, 0, 0, 0, 0],\n",
              "        [0, 0, 0, 0, 0, 0],\n",
              "        [0, 0, 0, 0, 0, 0],\n",
              "        [0, 0, 0, 0, 0, 0],\n",
              "        [0, 0, 0, 0, 0, 0],\n",
              "        [0, 0, 0, 0, 0, 0],\n",
              "        [0, 0, 0, 0, 0, 0],\n",
              "        [0, 0, 0, 0, 0, 0],\n",
              "        [0, 0, 0, 0, 0, 0],\n",
              "        [0, 0, 0, 0, 0, 0],\n",
              "        [0, 0, 0, 0, 0, 0],\n",
              "        [0, 0, 0, 0, 0, 0],\n",
              "        [0, 0, 0, 0, 0, 0],\n",
              "        [0, 0, 0, 0, 0, 0],\n",
              "        [0, 0, 0, 0, 0, 0],\n",
              "        [0, 0, 0, 0, 0, 0],\n",
              "        [1, 0, 0, 0, 0, 0],\n",
              "        [1, 0, 0, 0, 0, 0],\n",
              "        [1, 0, 0, 0, 0, 0],\n",
              "        [1, 0, 0, 0, 0, 0],\n",
              "        [1, 0, 0, 0, 0, 0],\n",
              "        [1, 0, 0, 0, 0, 0],\n",
              "        [1, 0, 0, 0, 0, 0],\n",
              "        [0, 0, 0, 0, 0, 0],\n",
              "        [0, 0, 0, 0, 0, 0],\n",
              "        [0, 0, 0, 0, 0, 0],\n",
              "        [0, 0, 0, 0, 0, 0],\n",
              "        [0, 0, 0, 0, 0, 0],\n",
              "        [0, 0, 0, 0, 0, 0],\n",
              "        [0, 0, 0, 0, 0, 0],\n",
              "        [0, 0, 0, 0, 0, 0],\n",
              "        [0, 0, 0, 0, 0, 0],\n",
              "        [0, 0, 0, 0, 0, 0]])"
            ]
          },
          "metadata": {},
          "execution_count": 165
        }
      ]
    },
    {
      "cell_type": "code",
      "source": [
        "%matplotlib inline"
      ],
      "metadata": {
        "id": "RKpYhR30Np3E"
      },
      "execution_count": 166,
      "outputs": []
    },
    {
      "cell_type": "code",
      "source": [
        "i=200\n",
        "plt.subplot(141)\n",
        "plt.imshow(edges_t[i].cpu().numpy())\n",
        "\n",
        "plt.subplot(142)\n",
        "plt.imshow(ep[i])\n",
        "\n",
        "plt.subplot(143)\n",
        "plt.imshow(ec[i]);\n",
        "plt.subplot(144)\n",
        "plt.imshow(el[i,...,1]);"
      ],
      "metadata": {
        "colab": {
          "base_uri": "https://localhost:8080/",
          "height": 432
        },
        "id": "c3xnuqeZNsS5",
        "outputId": "0d9565a3-ecd7-4e0c-ef1b-b9ec65a1172f"
      },
      "execution_count": 167,
      "outputs": [
        {
          "output_type": "display_data",
          "data": {
            "text/plain": [
              "<Figure size 640x480 with 4 Axes>"
            ],
            "image/png": "[encoded data removed]"
          },
          "metadata": {}
        }
      ]
    },
    {
      "cell_type": "code",
      "source": [
        "i=3 # timeseries sample\n",
        "fig, axs = plt.subplots(1,4, sharey=True,\n",
        "                        figsize=(12,12), gridspec_kw=dict(wspace=0))\n",
        "axs[0].imshow(edges_t[i,].cpu().numpy().T,aspect='auto', vmin=0,vmax=1)\n",
        "axs[0].set_xlabel('Time'); axs[0].set_ylabel('Edge\\npair', rotation=0, ha='right')\n",
        "axs[0].set_title('Ground truth')\n",
        "\n",
        "axs[1].imshow(ep[i].T,aspect='auto', vmin=0,vmax=1)\n",
        "axs[1].set_title('Prior')\n",
        "\n",
        "axs[2].imshow(ec[i].T,aspect='auto', vmin=0,vmax=1);\n",
        "axs[2].set_title('Edges argmax')\n",
        "\n",
        "axs[3].imshow(el[i,...,1].T,aspect='auto', vmin=0,vmax=1);\n",
        "axs[3].set_title('Edges Gumbel');"
      ],
      "metadata": {
        "colab": {
          "base_uri": "https://localhost:8080/",
          "height": 1000
        },
        "id": "XoWrf0xdNxVd",
        "outputId": "67e4fc90-2cd1-414e-aaab-8e6889f94aa7"
      },
      "execution_count": 168,
      "outputs": [
        {
          "output_type": "display_data",
          "data": {
            "text/plain": [
              "<Figure size 1200x1200 with 4 Axes>"
            ],
            "image/png": "[encoded data removed]"
          },
          "metadata": {}
        }
      ]
    }
  ]
}